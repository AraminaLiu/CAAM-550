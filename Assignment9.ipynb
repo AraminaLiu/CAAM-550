{
 "cells": [
  {
   "cell_type": "code",
   "execution_count": 1,
   "id": "2bbd2d45",
   "metadata": {},
   "outputs": [],
   "source": [
    "import numpy as np\n",
    "import math\n",
    "import matplotlib.pyplot as plt\n",
    "from tabulate import tabulate"
   ]
  },
  {
   "cell_type": "markdown",
   "id": "5e308a9d",
   "metadata": {},
   "source": [
    "# Problem1"
   ]
  },
  {
   "cell_type": "code",
   "execution_count": 2,
   "id": "c8cc10ce",
   "metadata": {},
   "outputs": [],
   "source": [
    "def cubic_spline(x,y):\n",
    "    n = len(x)\n",
    "    \n",
    "    h = np.zeros(n-1)\n",
    "    for i in range(1,n):\n",
    "        h[i-1] = x[i] - x[i-1]\n",
    "        \n",
    "    T = np.zeros((n-2, n-2))\n",
    "    for i in range(n-2):\n",
    "        T[i][i] = 2*(h[i] + h[i+1])\n",
    "    for i in range(n-3):\n",
    "        T[i+1][i] = h[i+1]\n",
    "        T[i][i+1] = h[i+1]\n",
    "        \n",
    "    a = y\n",
    "    ra = np.zeros(n-2)\n",
    "    for i in range(n-2):\n",
    "        ra[i] = 3/h[i+1]*(a[i+2]-a[i+1]) - 3/h[i]*(a[i+1]-a[i])\n",
    "    \n",
    "    c = np.zeros(n)\n",
    "    c[1:n-1] = np.linalg.solve(T, ra)\n",
    "    \n",
    "    b = np.zeros(n-1)\n",
    "    d = np.zeros(n-1)\n",
    "    \n",
    "    for i in range(n-1):\n",
    "        b[i] = 1/h[i]*(a[i+1]-a[i]) - h[i]/3*(2*c[i]+c[i+1])\n",
    "        d[i] = 1/(3*h[i])*(c[i+1]-c[i])\n",
    "        \n",
    "    a_res = a[:n-1]\n",
    "    c_res = c[:n-1]\n",
    "    \n",
    "    return a_res, b, c_res, d"
   ]
  },
  {
   "cell_type": "code",
   "execution_count": 3,
   "id": "542b73f8",
   "metadata": {},
   "outputs": [],
   "source": [
    "def cubic_spline_evaluation(a,b,c,d,x,x0):\n",
    "    n = len(x)\n",
    "    m = len(x0)\n",
    "    res = []\n",
    "    \n",
    "    for j in range(m):\n",
    "        for i in range(n-1):\n",
    "            if x0[j] <= x[i+1]:\n",
    "                S = a[i] + b[i]*(x0[j]-x[i]) + c[i]*(x0[j]-x[i])**2 + d[i]*(x0[j]-x[i])**3\n",
    "                res.append(S)\n",
    "                break\n",
    "                \n",
    "    return res"
   ]
  },
  {
   "cell_type": "code",
   "execution_count": 4,
   "id": "d1555b60",
   "metadata": {},
   "outputs": [],
   "source": [
    "x = np.array([25, 19, 13, 9, 5, 2.2, 1, 3, 8, 13, 18, 25])\n",
    "y = np.array([5, 7.5, 9.1, 9.4, 9.0, 7.5, 5, 2.1, 2, 3.5, 4.5, 5])\n",
    "t = np.zeros(len(x))\n",
    "t[0]=0\n",
    "for i in range(1,len(x)):\n",
    "    t[i] = t[i-1] + math.sqrt((x[i]-x[i-1])**2 + (y[i]-y[i-1])**2)"
   ]
  },
  {
   "cell_type": "code",
   "execution_count": 5,
   "id": "c317da7e",
   "metadata": {},
   "outputs": [],
   "source": [
    "(a1,b1,c1,d1)= cubic_spline(t,x)\n",
    "(a2,b2,c2,d2)= cubic_spline(t,y)\n",
    "\n",
    "t0 = np.linspace(t[0], t[len(x)-1], 100)\n",
    "\n",
    "xnew = cubic_spline_evaluation(a1,b1,c1,d1,t,t0)\n",
    "ynew = cubic_spline_evaluation(a2,b2,c2,d2,t,t0)"
   ]
  },
  {
   "cell_type": "code",
   "execution_count": 6,
   "id": "b9180afd",
   "metadata": {},
   "outputs": [
    {
     "data": {
      "text/plain": [
       "<matplotlib.legend.Legend at 0x7f925a639ca0>"
      ]
     },
     "execution_count": 6,
     "metadata": {},
     "output_type": "execute_result"
    },
    {
     "data": {
      "image/png": "[encoded data removed]",
      "text/plain": [
       "<Figure size 1152x288 with 2 Axes>"
      ]
     },
     "metadata": {
      "needs_background": "light"
     },
     "output_type": "display_data"
    }
   ],
   "source": [
    "fig, axs = plt.subplots(1,2,figsize=(16,4))\n",
    "axs[0].plot(t, x, '.r', label=\"original plot for x(t)\")\n",
    "axs[0].plot(t0, xnew, '-b', label=\"cubic spline evaluation\")\n",
    "axs[0].set_xlabel('$t$')\n",
    "axs[0].legend()\n",
    "\n",
    "axs[1].plot(t, y, '.r', label=\"original plot for y(t)\")\n",
    "axs[1].plot(t0, ynew, '-b', label=\"cubic spline evaluation\")\n",
    "axs[1].set_xlabel('$t$')\n",
    "axs[1].legend()"
   ]
  },
  {
   "cell_type": "markdown",
   "id": "dd323255",
   "metadata": {},
   "source": [
    "# Problem2"
   ]
  },
  {
   "cell_type": "markdown",
   "id": "d7d5908c",
   "metadata": {},
   "source": [
    "### For piecewise cubic Hermite interpolation, we decide to use $P(t_i) = y_iH_0(t_i) + y_{i+1}H_1(t_i) + y'_ih_0(t_i) + y'_{i+1}h_1(t_i)$, where $t_i = \\frac{x-x_i}{x_{i+1} - x_i}$."
   ]
  },
  {
   "cell_type": "code",
   "execution_count": 119,
   "id": "2f59fbf9",
   "metadata": {},
   "outputs": [],
   "source": [
    "def Runge_func(x):\n",
    "    f = 1/(1+x**2)\n",
    "    f_ = -2*x/(1+x**2)**2\n",
    "    return f,f_"
   ]
  },
  {
   "cell_type": "code",
   "execution_count": 172,
   "id": "732eb4e1",
   "metadata": {},
   "outputs": [],
   "source": [
    "def cubic_hermite_interpolation(x,X):\n",
    "    y,y_ = Runge_func(x)\n",
    "    n = len(X)\n",
    "    P = []\n",
    "    \n",
    "    for i in range(n):\n",
    "        idx = np.where(X[i] <= x)[0][0]\n",
    "        if idx == 0:\n",
    "            j = 0\n",
    "        else:\n",
    "            j = idx-1\n",
    "            \n",
    "        ti = (X[i]-x[j])/(x[j+1]-x[j])\n",
    "                \n",
    "        H0 = 2*ti**3-3*ti**2+1\n",
    "        H1 = -2*ti**3+3*ti**2\n",
    "        h0 = ti**3-2*ti**2+ti\n",
    "        h1 = ti**3-ti**2\n",
    "        \n",
    "        Hj = H0*y[j] + H1*y[j+1] + h0*y_[j] + h1*y_[j+1]\n",
    "        P.append(Hj)\n",
    "        \n",
    "    return P"
   ]
  },
  {
   "cell_type": "code",
   "execution_count": 192,
   "id": "bfa6436f",
   "metadata": {},
   "outputs": [],
   "source": [
    "def func_plot(ns):\n",
    "    m = len(ns)\n",
    "    X = np.linspace(-5,5,100)\n",
    "    F, F_ = Runge_func(X)\n",
    "    \n",
    "    fig, axs = plt.subplots(1,m,figsize=(20,8))\n",
    "    \n",
    "    for i in range(m):\n",
    "        x = np.linspace(-5,5,ns[i]+1)\n",
    "        f, f_ = Runge_func(x)\n",
    "        \n",
    "        Y = cubic_hermite_interpolation(x,X)\n",
    "        axs[i].plot(x, f,'.r', label=\"original points\")\n",
    "        axs[i].plot(X, F, 'g', label=\"true Runge function\")\n",
    "        axs[i].plot(X, Y, 'b', label=\"cubic hermite interpolation\")\n",
    "        axs[i].set_xlabel('$x$')\n",
    "        axs[i].legend()"
   ]
  },
  {
   "cell_type": "code",
   "execution_count": 193,
   "id": "cdb0afa2",
   "metadata": {},
   "outputs": [
    {
     "data": {
      "image/png": "[encoded data removed]",
      "text/plain": [
       "<Figure size 1440x576 with 2 Axes>"
      ]
     },
     "metadata": {
      "needs_background": "light"
     },
     "output_type": "display_data"
    }
   ],
   "source": [
    "n = [5,10]\n",
    "func_plot(n)"
   ]
  },
  {
   "cell_type": "markdown",
   "id": "1d02dc2c",
   "metadata": {},
   "source": [
    "# Problem4"
   ]
  },
  {
   "cell_type": "markdown",
   "id": "31d03f9b",
   "metadata": {},
   "source": [
    "### (a)"
   ]
  },
  {
   "cell_type": "markdown",
   "id": "6930aefc",
   "metadata": {},
   "source": [
    "#### $T(h) = \\frac{h}{2}f(a) + h \\sum_{i=1}^{n-1}f(a+ih) + \\frac{h}{2}f(b)$"
   ]
  },
  {
   "cell_type": "code",
   "execution_count": 7,
   "id": "3590041b",
   "metadata": {},
   "outputs": [],
   "source": [
    "def trapezoidal_T(a,b,func,tol):\n",
    "    rerr = math.inf\n",
    "    h = b-a\n",
    "    n = 1\n",
    "    fa = func(a)\n",
    "    fb = func(b)\n",
    "    h_p = []\n",
    "    T_p = []\n",
    "    rerr_p = []\n",
    "    \n",
    "    while rerr >= tol:\n",
    "        T = 0\n",
    "        for i in range(1,n):\n",
    "            T = T + func(a+i*h)\n",
    "        T = h/2*(fa+fb) + h*T\n",
    "        \n",
    "        h = h/2\n",
    "        n = 2*n\n",
    "        T_ = 0\n",
    "        for i in range(1,n):\n",
    "            T_ = T_ + func(a+i*h)\n",
    "        T_ = h/2*(fa+fb) + h*T_\n",
    "        \n",
    "        aerr = abs(T-T_)\n",
    "        rerr = abs(T-T_)/abs(T_)\n",
    "        \n",
    "        h_p.append(h)\n",
    "        T_p.append(T_)\n",
    "        rerr_p.append(rerr)\n",
    "    \n",
    "    info = {'h/2': h_p, 'T(h/2)': T_p, '|T(h)-T(h/2)|/|T(h/2)|': rerr_p}\n",
    "    print(tabulate(info, headers='keys'))\n",
    "    return (\"%10.8e\"%T_), (\"%10.8e\"%aerr), (\"%10.8e\"%rerr), n+1"
   ]
  },
  {
   "cell_type": "markdown",
   "id": "abf96271",
   "metadata": {},
   "source": [
    "### (b)"
   ]
  },
  {
   "cell_type": "markdown",
   "id": "ec1ce82f",
   "metadata": {},
   "source": [
    "#### $S(h)=\\frac{h}{6}f(a) + \\frac{2h}{3} \\sum_{i=0}^{n-1}f(a+(i+\\frac{1}{2}h)) + \\frac{h}{3} \\sum_{i=1}^{n-1}f(a+ih) + \\frac{f}{6}f(b)$"
   ]
  },
  {
   "cell_type": "code",
   "execution_count": 8,
   "id": "4e6db2dc",
   "metadata": {},
   "outputs": [],
   "source": [
    "def trapezoidal_S(a,b,func,tol):\n",
    "    rerr = math.inf\n",
    "    h = b-a\n",
    "    n = 1\n",
    "    fa = func(a)\n",
    "    fb = func(b)\n",
    "    h_p = []\n",
    "    T_p = []\n",
    "    rerr_p = []\n",
    "    \n",
    "    while rerr >= tol:\n",
    "        T1 = 0\n",
    "        T2 = 0\n",
    "        for i in range(n):\n",
    "            T1 = T1 + func(a+(i+0.5)*h)\n",
    "        for i in range(1,n):\n",
    "            T2 = T2 + func(a+i*h)\n",
    "            \n",
    "        T = h/6*(fa+fb) + 2*h/3*T1 + h/3*T2\n",
    "        \n",
    "        h = h/2\n",
    "        n = 2*n\n",
    "        T1_ = 0\n",
    "        T2_ = 0\n",
    "        for i in range(n):\n",
    "            T1_ = T1_ + func(a+(i+0.5)*h)\n",
    "        for i in range(1,n):\n",
    "            T2_ = T2_ + func(a+i*h)\n",
    "        T_ = h/2*(fa+fb) + 2*h/3*T1_ + h/3*T2_\n",
    "        \n",
    "        aerr = abs(T-T_)\n",
    "        rerr = abs(T-T_)/abs(T_)\n",
    "        \n",
    "        h_p.append(h)\n",
    "        T_p.append(T_)\n",
    "        rerr_p.append(rerr)\n",
    "    \n",
    "    info = {'h/2': h_p, 'T(h/2)': T_p, '|T(h)-T(h/2)|/|T(h/2)|': rerr_p}\n",
    "    print(tabulate(info, headers='keys'))\n",
    "    return (\"%10.8e\"%T_), (\"%10.8e\"%aerr), (\"%10.8e\"%rerr), n+1"
   ]
  },
  {
   "cell_type": "markdown",
   "id": "7a015199",
   "metadata": {},
   "source": [
    "### (c)"
   ]
  },
  {
   "cell_type": "code",
   "execution_count": 9,
   "id": "609afd67",
   "metadata": {},
   "outputs": [],
   "source": [
    "def func1(x):\n",
    "    return x/(1+x**2)\n",
    "\n",
    "def func2(x):\n",
    "    return 1/(1-x)\n",
    "\n",
    "def func3(x):\n",
    "    return (1/math.sqrt(1-0.5*(math.sin(x))**2))\n",
    "\n",
    "def func4(x):\n",
    "    return (1/math.sqrt(1-0.8*(math.sin(x))**2))\n",
    "\n",
    "def func5(x):\n",
    "    return (1/math.sqrt(1-0.95*(math.sin(x))**2))"
   ]
  },
  {
   "cell_type": "code",
   "execution_count": 10,
   "id": "59f774a4",
   "metadata": {},
   "outputs": [],
   "source": [
    "def print_res1(a,b,func,tv):\n",
    "    print(\"Composite trapezoidal rule\")\n",
    "    print(\"Approximate value of the integral = \", \"%10.7e\"% float(tav))\n",
    "    print(\"Absolute error                    = \", \"%10.7e\"% (abs(float(tav)-tv)))\n",
    "    print(\"Relative error                    = \", \"%10.7e\"% (abs(float(tav)-tv)/abs(tv)))\n",
    "    print(\"Number of f evaluations required  =   \", tn)\n",
    "    print()\n",
    "    print(\"Composite Simpson rule\")\n",
    "    print(\"Approximate value of the integral = \", \"%10.7e\"% float(sav))\n",
    "    print(\"Absolute error                    = \", \"%10.7e\"% (abs(float(sav)-tv)))\n",
    "    print(\"Relative error                    = \", \"%10.7e\"% (abs(float(sav)-tv)/abs(tv)))\n",
    "    print(\"Number of f evaluations required  =   \", sn)"
   ]
  },
  {
   "cell_type": "code",
   "execution_count": 32,
   "id": "ed54fa19",
   "metadata": {},
   "outputs": [],
   "source": [
    "def print_res2(a,b,func):\n",
    "    print(\"Composite trapezoidal rule\")\n",
    "    print(\"Approximate value of the integral = \", \"%10.7e\"% float(tav))\n",
    "    print(\"Number of f evaluations required  =   \", tn)\n",
    "    print()\n",
    "    print(\"Composite Simpson rule\")\n",
    "    print(\"Approximate value of the integral = \", \"%10.7e\"% float(sav))\n",
    "    print(\"Number of f evaluations required  =   \", sn)"
   ]
  },
  {
   "cell_type": "markdown",
   "id": "ace02642",
   "metadata": {},
   "source": [
    "### $\\int_0^3{\\frac{x}{1+x^2}}dx = \\frac{1}{2}log(10)$"
   ]
  },
  {
   "cell_type": "code",
   "execution_count": 11,
   "id": "905b7a7c",
   "metadata": {},
   "outputs": [
    {
     "name": "stdout",
     "output_type": "stream",
     "text": [
      "       h/2    T(h/2)    |T(h)-T(h/2)|/|T(h/2)|\n",
      "----------  --------  ------------------------\n",
      "1.5         0.917308               0.509434\n",
      "0.75        1.097                  0.163807\n",
      "0.375       1.13846                0.0364126\n",
      "0.1875      1.14812                0.00841331\n",
      "0.09375     1.1505                 0.00207114\n",
      "0.046875    1.15109                0.000515914\n",
      "0.0234375   1.15124                0.000128863\n",
      "0.0117188   1.15128                3.22087e-05\n",
      "0.00585938  1.15129                8.05172e-06\n",
      "0.00292969  1.15129                2.0129e-06\n",
      "0.00146484  1.15129                5.03224e-07\n"
     ]
    }
   ],
   "source": [
    "(tav, tae, tre, tn) = trapezoidal_T(0,3,func1,1.e-6)"
   ]
  },
  {
   "cell_type": "code",
   "execution_count": 12,
   "id": "4b48ec15",
   "metadata": {},
   "outputs": [
    {
     "name": "stdout",
     "output_type": "stream",
     "text": [
      "        h/2    T(h/2)    |T(h)-T(h/2)|/|T(h/2)|\n",
      "-----------  --------  ------------------------\n",
      "1.5           1.3069                0.178916\n",
      "0.75          1.22728               0.0573411\n",
      "0.375         1.18884               0.0307537\n",
      "0.1875        1.17005               0.0159885\n",
      "0.09375       1.16067               0.00807513\n",
      "0.046875      1.15598               0.00405487\n",
      "0.0234375     1.15364               0.00203161\n",
      "0.0117188     1.15246               0.00101684\n",
      "0.00585938    1.15188               0.00050868\n",
      "0.00292969    1.15159               0.000254405\n",
      "0.00146484    1.15144               0.000127219\n",
      "0.000732422   1.15137               6.36133e-05\n",
      "0.000366211   1.15133               3.18077e-05\n",
      "0.000183105   1.15131               1.59041e-05\n",
      "9.15527e-05   1.1513                7.95211e-06\n",
      "4.57764e-05   1.1513                3.97607e-06\n",
      "2.28882e-05   1.15129               1.98804e-06\n",
      "1.14441e-05   1.15129               9.9402e-07\n"
     ]
    }
   ],
   "source": [
    "(sav, sae, sre, sn) = trapezoidal_S(0,3,func1,1.e-6)"
   ]
  },
  {
   "cell_type": "code",
   "execution_count": 13,
   "id": "1732545c",
   "metadata": {},
   "outputs": [
    {
     "name": "stdout",
     "output_type": "stream",
     "text": [
      "f(x)=x/(1+x^2), [a,b] = [0,3]\n",
      "Composite trapezoidal rule\n",
      "Approximate value of the integral =  1.1512924e+00\n",
      "Absolute error                    =  1.9649702e-07\n",
      "Relative error                    =  1.7067515e-07\n",
      "Number of f evaluations required  =    2049\n",
      "\n",
      "Composite Simpson rule\n",
      "Approximate value of the integral =  1.1512937e+00\n",
      "Absolute error                    =  1.1435030e-06\n",
      "Relative error                    =  9.9323407e-07\n",
      "Number of f evaluations required  =    262145\n"
     ]
    }
   ],
   "source": [
    "tv = 0.5*math.log(10)\n",
    "print(\"f(x)=x/(1+x^2), [a,b] = [0,3]\")\n",
    "print_res1(0,3,func1,tv)"
   ]
  },
  {
   "cell_type": "markdown",
   "id": "bd71c7d7",
   "metadata": {},
   "source": [
    "### $\\int_0^{0.95}{\\frac{1}{1-x}}dx = log(20)$"
   ]
  },
  {
   "cell_type": "code",
   "execution_count": 14,
   "id": "5b0372ea",
   "metadata": {},
   "outputs": [
    {
     "name": "stdout",
     "output_type": "stream",
     "text": [
      "        h/2    T(h/2)    |T(h)-T(h/2)|/|T(h/2)|\n",
      "-----------  --------  ------------------------\n",
      "0.475         5.89226               0.692898\n",
      "0.2375        4.08369               0.442876\n",
      "0.11875       3.35708               0.216444\n",
      "0.059375      3.10177               0.082309\n",
      "0.0296875     3.02413               0.025673\n",
      "0.0148437     3.003                 0.00703872\n",
      "0.00742187    2.99756               0.00181362\n",
      "0.00371094    2.99619               0.000457218\n",
      "0.00185547    2.99585               0.000114552\n",
      "0.000927734   2.99576               2.86535e-05\n",
      "0.000463867   2.99574               7.16436e-06\n",
      "0.000231934   2.99573               1.79115e-06\n",
      "0.000115967   2.99573               4.47792e-07\n"
     ]
    }
   ],
   "source": [
    "(tav, tae, tre, tn) = trapezoidal_T(0,0.95,func2,1.e-6)"
   ]
  },
  {
   "cell_type": "code",
   "execution_count": 15,
   "id": "e147f41d",
   "metadata": {
    "scrolled": false
   },
   "outputs": [
    {
     "name": "stdout",
     "output_type": "stream",
     "text": [
      "        h/2    T(h/2)    |T(h)-T(h/2)|/|T(h/2)|\n",
      "-----------  --------  ------------------------\n",
      "0.475         6.80584               0.334197\n",
      "0.2375        4.77737               0.271391\n",
      "0.11875       3.84792               0.190506\n",
      "0.059375      3.41388               0.116351\n",
      "0.0296875     3.20376               0.0641461\n",
      "0.0148437     3.09965               0.0334565\n",
      "0.00742187    3.04769               0.017042\n",
      "0.00371094    3.02171               0.00859634\n",
      "0.00185547    3.00872               0.00431686\n",
      "0.000927734   3.00223               0.00216311\n",
      "0.000463867   2.99898               0.00108273\n",
      "0.000231934   2.99736               0.000541656\n",
      "0.000115967   2.99654               0.000270901\n",
      "5.79834e-05   2.99614               0.000135469\n",
      "2.89917e-05   2.99594               6.77391e-05\n",
      "1.44958e-05   2.99583               3.38707e-05\n",
      "7.24792e-06   2.99578               1.69356e-05\n",
      "3.62396e-06   2.99576               8.46789e-06\n",
      "1.81198e-06   2.99574               4.23396e-06\n",
      "9.05991e-07   2.99574               2.11699e-06\n",
      "4.52995e-07   2.99574               1.05849e-06\n",
      "2.26498e-07   2.99573               5.29247e-07\n"
     ]
    }
   ],
   "source": [
    "(sav, sae, sre, sn) = trapezoidal_S(0,0.95,func2,1.e-6)"
   ]
  },
  {
   "cell_type": "code",
   "execution_count": 16,
   "id": "e392d3e2",
   "metadata": {},
   "outputs": [
    {
     "name": "stdout",
     "output_type": "stream",
     "text": [
      "f(x)=1/(1-x), [a,b] = [0,0.95]\n",
      "Composite trapezoidal rule\n",
      "Approximate value of the integral =  2.9957327e+00\n",
      "Absolute error                    =  4.4644601e-07\n",
      "Relative error                    =  1.4902734e-07\n",
      "Number of f evaluations required  =    8193\n",
      "\n",
      "Composite Simpson rule\n",
      "Approximate value of the integral =  2.9957339e+00\n",
      "Absolute error                    =  1.5864460e-06\n",
      "Relative error                    =  5.2956869e-07\n",
      "Number of f evaluations required  =    4194305\n"
     ]
    }
   ],
   "source": [
    "tv = math.log(20)\n",
    "print(\"f(x)=1/(1-x), [a,b] = [0,0.95]\")\n",
    "print_res1(0,0.95,func2,tv)"
   ]
  },
  {
   "cell_type": "markdown",
   "id": "732d79b3",
   "metadata": {},
   "source": [
    "### $\\int_0^{\\pi/2}{\\frac{1}{\\sqrt{1-msin^2(x)}}}dx, m=0.5$"
   ]
  },
  {
   "cell_type": "code",
   "execution_count": 33,
   "id": "7e7ccad0",
   "metadata": {},
   "outputs": [
    {
     "name": "stdout",
     "output_type": "stream",
     "text": [
      "     h/2    T(h/2)    |T(h)-T(h/2)|/|T(h/2)|\n",
      "--------  --------  ------------------------\n",
      "0.785398   1.85496               0.022189\n",
      "0.392699   1.85408               0.000476735\n",
      "0.19635    1.85407               2.96895e-07\n"
     ]
    }
   ],
   "source": [
    "(tav, tae, tre, tn) = trapezoidal_T(0,math.pi/2,func3,1.e-6)"
   ]
  },
  {
   "cell_type": "code",
   "execution_count": 34,
   "id": "25239bd1",
   "metadata": {},
   "outputs": [
    {
     "name": "stdout",
     "output_type": "stream",
     "text": [
      "        h/2    T(h/2)    |T(h)-T(h/2)|/|T(h/2)|\n",
      "-----------  --------  ------------------------\n",
      "0.785398      2.48582               0.259303\n",
      "0.392699      2.17009               0.14576\n",
      "0.19635       2.01208               0.0785305\n",
      "0.0981748     1.93308               0.04087\n",
      "0.0490874     1.89358               0.0208613\n",
      "0.0245437     1.87383               0.0105406\n",
      "0.0122718     1.86395               0.00529822\n",
      "0.00613592    1.85901               0.00265615\n",
      "0.00306796    1.85654               0.00132984\n",
      "0.00153398    1.85531               0.000665362\n",
      "0.00076699    1.85469               0.000332792\n",
      "0.000383495   1.85438               0.000166424\n",
      "0.000191748   1.85423               8.32187e-05\n",
      "9.58738e-05   1.85415               4.16111e-05\n",
      "4.79369e-05   1.85411               2.0806e-05\n",
      "2.39684e-05   1.85409               1.04031e-05\n",
      "1.19842e-05   1.85408               5.20158e-06\n",
      "5.99211e-06   1.85408               2.60079e-06\n",
      "2.99606e-06   1.85408               1.3004e-06\n",
      "1.49803e-06   1.85408               6.502e-07\n"
     ]
    }
   ],
   "source": [
    "(sav, sae, sre, sn) = trapezoidal_S(0,math.pi/2,func3,1.e-6)"
   ]
  },
  {
   "cell_type": "code",
   "execution_count": 36,
   "id": "62f2ba3e",
   "metadata": {
    "scrolled": true
   },
   "outputs": [
    {
     "name": "stdout",
     "output_type": "stream",
     "text": [
      "f(x)=1/sqrt(1-msin^2x), [a,b] = [0,pi/2]\n",
      "Composite trapezoidal rule\n",
      "Approximate value of the integral =  1.8540747e+00\n",
      "Number of f evaluations required  =    9\n",
      "\n",
      "Composite Simpson rule\n",
      "Approximate value of the integral =  1.8540759e+00\n",
      "Number of f evaluations required  =    1048577\n"
     ]
    }
   ],
   "source": [
    "print(\"f(x)=1/sqrt(1-msin^2x), [a,b] = [0,pi/2]\")\n",
    "print_res2(0,math.pi/2,func3)"
   ]
  },
  {
   "cell_type": "markdown",
   "id": "89c62fb1",
   "metadata": {},
   "source": [
    "### $\\int_0^{\\pi/2}{\\frac{1}{\\sqrt{1-msin^2(x)}}}dx, m=0.8$"
   ]
  },
  {
   "cell_type": "code",
   "execution_count": 37,
   "id": "143df189",
   "metadata": {},
   "outputs": [
    {
     "name": "stdout",
     "output_type": "stream",
     "text": [
      "      h/2    T(h/2)    |T(h)-T(h/2)|/|T(h/2)|\n",
      "---------  --------  ------------------------\n",
      "0.785398    2.28475               0.112422\n",
      "0.392699    2.25762               0.0120144\n",
      "0.19635     2.25721               0.000184328\n",
      "0.0981748   2.25721               5.96498e-08\n"
     ]
    }
   ],
   "source": [
    "(tav, tae, tre, tn) = trapezoidal_T(0,math.pi/2,func4,1.e-6)"
   ]
  },
  {
   "cell_type": "code",
   "execution_count": 38,
   "id": "6827fe14",
   "metadata": {},
   "outputs": [
    {
     "name": "stdout",
     "output_type": "stream",
     "text": [
      "        h/2    T(h/2)    |T(h)-T(h/2)|/|T(h/2)|\n",
      "-----------  --------  ------------------------\n",
      "0.785398      3.09578               0.289637\n",
      "0.392699      2.68067               0.161186\n",
      "0.19635       2.46901               0.0858397\n",
      "0.0981748     2.36311               0.044814\n",
      "0.0490874     2.31016               0.0229206\n",
      "0.0245437     2.28368               0.0115931\n",
      "0.0122718     2.27044               0.00583036\n",
      "0.00613592    2.26382               0.00292371\n",
      "0.00306796    2.26051               0.00146399\n",
      "0.00153398    2.25886               0.000732533\n",
      "0.00076699    2.25803               0.000366401\n",
      "0.000383495   2.25762               0.000183234\n",
      "0.000191748   2.25741               9.16253e-05\n",
      "9.58738e-05   2.25731               4.58148e-05\n",
      "4.79369e-05   2.25726               2.29079e-05\n",
      "2.39684e-05   2.25723               1.14541e-05\n",
      "1.19842e-05   2.25722               5.72707e-06\n",
      "5.99211e-06   2.25721               2.86355e-06\n",
      "2.99606e-06   2.25721               1.43177e-06\n",
      "1.49803e-06   2.25721               7.15888e-07\n"
     ]
    }
   ],
   "source": [
    "(sav, sae, sre, sn) = trapezoidal_S(0,math.pi/2,func4,1.e-6)"
   ]
  },
  {
   "cell_type": "code",
   "execution_count": 39,
   "id": "b0e620d9",
   "metadata": {},
   "outputs": [
    {
     "name": "stdout",
     "output_type": "stream",
     "text": [
      "f(x)=1/sqrt(1-msin^2x), [a,b] = [0,pi/2]\n",
      "Composite trapezoidal rule\n",
      "Approximate value of the integral =  2.2572053e+00\n",
      "Number of f evaluations required  =    17\n",
      "\n",
      "Composite Simpson rule\n",
      "Approximate value of the integral =  2.2572069e+00\n",
      "Number of f evaluations required  =    1048577\n"
     ]
    }
   ],
   "source": [
    "print(\"f(x)=1/sqrt(1-msin^2x), [a,b] = [0,pi/2]\")\n",
    "print_res2(0,math.pi/2,func4)"
   ]
  },
  {
   "cell_type": "markdown",
   "id": "81b2919d",
   "metadata": {},
   "source": [
    "### $\\int_0^{\\pi/2}{\\frac{1}{\\sqrt{1-msin^2(x)}}}dx, m=0.95$"
   ]
  },
  {
   "cell_type": "code",
   "execution_count": 40,
   "id": "8c00646c",
   "metadata": {},
   "outputs": [
    {
     "name": "stdout",
     "output_type": "stream",
     "text": [
      "      h/2    T(h/2)    |T(h)-T(h/2)|/|T(h/2)|\n",
      "---------  --------  ------------------------\n",
      "0.785398    3.23286               0.329415\n",
      "0.392699    2.94267               0.0986139\n",
      "0.19635     2.90897               0.0115828\n",
      "0.0981748   2.90834               0.000218584\n",
      "0.0490874   2.90834               1.07601e-07\n"
     ]
    }
   ],
   "source": [
    "(tav, tae, tre, tn) = trapezoidal_T(0,math.pi/2,func5,1.e-6)"
   ]
  },
  {
   "cell_type": "code",
   "execution_count": 41,
   "id": "c6996e24",
   "metadata": {},
   "outputs": [
    {
     "name": "stdout",
     "output_type": "stream",
     "text": [
      "        h/2    T(h/2)    |T(h)-T(h/2)|/|T(h/2)|\n",
      "-----------  --------  ------------------------\n",
      "0.785398      4.27854               0.327371\n",
      "0.392699      3.61404               0.212533\n",
      "0.19635       3.26628               0.11283\n",
      "0.0981748     3.08741               0.0580702\n",
      "0.0490874     2.99787               0.0298671\n",
      "0.0245437     2.95311               0.0151599\n",
      "0.0122718     2.93072               0.00763785\n",
      "0.00613592    2.91953               0.00383356\n",
      "0.00306796    2.91393               0.00192046\n",
      "0.00153398    2.91114               0.000961154\n",
      "0.00076699    2.90974               0.000480808\n",
      "0.000383495   2.90904               0.000240462\n",
      "0.000191748   2.90869               0.000120245\n",
      "9.58738e-05   2.90851               6.01263e-05\n",
      "4.79369e-05   2.90842               3.00641e-05\n",
      "2.39684e-05   2.90838               1.50323e-05\n",
      "1.19842e-05   2.90836               7.51619e-06\n",
      "5.99211e-06   2.90835               3.75811e-06\n",
      "2.99606e-06   2.90834               1.87906e-06\n",
      "1.49803e-06   2.90834               9.3953e-07\n"
     ]
    }
   ],
   "source": [
    "(sav, sae, sre, sn) = trapezoidal_S(0,math.pi/2,func5,1.e-6)"
   ]
  },
  {
   "cell_type": "code",
   "execution_count": 42,
   "id": "f349bc08",
   "metadata": {},
   "outputs": [
    {
     "name": "stdout",
     "output_type": "stream",
     "text": [
      "f(x)=1/sqrt(1-msin^2x), [a,b] = [0,pi/2]\n",
      "Composite trapezoidal rule\n",
      "Approximate value of the integral =  2.9083373e+00\n",
      "Number of f evaluations required  =    33\n",
      "\n",
      "Composite Simpson rule\n",
      "Approximate value of the integral =  2.9083400e+00\n",
      "Number of f evaluations required  =    1048577\n"
     ]
    }
   ],
   "source": [
    "print(\"f(x)=1/sqrt(1-msin^2x), [a,b] = [0,pi/2]\")\n",
    "print_res2(0,math.pi/2,func5)"
   ]
  },
  {
   "cell_type": "markdown",
   "id": "4e748ce3",
   "metadata": {},
   "source": [
    "# Problem5"
   ]
  },
  {
   "cell_type": "markdown",
   "id": "391a8d24",
   "metadata": {},
   "source": [
    "### ii"
   ]
  },
  {
   "cell_type": "code",
   "execution_count": 26,
   "id": "cacd69e4",
   "metadata": {},
   "outputs": [],
   "source": [
    "def appro1(func):\n",
    "    for n in (5,10,15):\n",
    "        x = np.zeros(n+1)\n",
    "        for i in range(n+1):\n",
    "            x[i] = -5 + i*10/n\n",
    "        \n",
    "        X = np.ones((n+1,n+1))\n",
    "        for i in range(1,n+1):\n",
    "            X[i:] = x**i\n",
    "        \n",
    "        a, b = -5, 5\n",
    "        d = np.zeros(n+1)\n",
    "        for i in range(n+1):\n",
    "            d[i] = 1/(i+1)*(b**(i+1) - a**(i+1))\n",
    "        \n",
    "        w = np.linalg.solve(X, d)\n",
    "        \n",
    "        f = func(x)\n",
    "        appro = np.inner(w,f)\n",
    "        \n",
    "        print(\"When n = \", n)\n",
    "        print(\"Nodes are: \")\n",
    "        print(x)\n",
    "        print(\"The corresponding weights is: \")\n",
    "        print(w)\n",
    "        print(\"The computed approximation of the integral is: \", appro)\n",
    "        print()"
   ]
  },
  {
   "cell_type": "code",
   "execution_count": 27,
   "id": "84094888",
   "metadata": {},
   "outputs": [],
   "source": [
    "def func(x):\n",
    "    return 1/(1+x**2)"
   ]
  },
  {
   "cell_type": "code",
   "execution_count": 28,
   "id": "433d7d8d",
   "metadata": {
    "scrolled": false
   },
   "outputs": [
    {
     "name": "stdout",
     "output_type": "stream",
     "text": [
      "When n =  5\n",
      "Nodes are: \n",
      "[-5. -3. -1.  1.  3.  5.]\n",
      "The corresponding weights is: \n",
      "[0.65972222 2.60416667 1.73611111 1.73611111 2.60416667 0.65972222]\n",
      "The computed approximation of the integral is:  2.307692307692308\n",
      "\n",
      "When n =  10\n",
      "Nodes are: \n",
      "[-5. -4. -3. -2. -1.  0.  1.  2.  3.  4.  5.]\n",
      "The corresponding weights is: \n",
      "[ 0.26834148  1.77535941 -0.81043571  4.54946288 -4.35155123  7.1376463\n",
      " -4.35155123  4.54946288 -0.81043571  1.77535941  0.26834148]\n",
      "The computed approximation of the integral is:  4.673300555675389\n",
      "\n",
      "When n =  15\n",
      "Nodes are: \n",
      "[-5.         -4.33333333 -3.66666667 -3.         -2.33333333 -1.66666667\n",
      " -1.         -0.33333333  0.33333333  1.          1.66666667  2.33333333\n",
      "  3.          3.66666667  4.33333333  5.        ]\n",
      "The corresponding weights is: \n",
      "[ 0.170873    1.28507379 -1.12722905  5.07042708 -7.56293115 11.9136035\n",
      " -9.68005213  4.93023502  4.93023483 -9.68005203 11.91360346 -7.56293114\n",
      "  5.07042708 -1.12722905  1.28507379  0.170873  ]\n",
      "The computed approximation of the integral is:  4.155558977600101\n",
      "\n"
     ]
    }
   ],
   "source": [
    "appro(func)"
   ]
  },
  {
   "cell_type": "markdown",
   "id": "cf01723c",
   "metadata": {},
   "source": [
    "### iii"
   ]
  },
  {
   "cell_type": "markdown",
   "id": "2c886f41",
   "metadata": {},
   "source": [
    "### For better quadrature nodes, we choose chebyshev point."
   ]
  },
  {
   "cell_type": "code",
   "execution_count": 48,
   "id": "97237726",
   "metadata": {},
   "outputs": [],
   "source": [
    "def Chebyshev(a,b,n):\n",
    "    x = np.zeros(n)\n",
    "    for i in range(n):\n",
    "        x[i] = (a+b)/2 + (b-a)/2*math.cos((2*(i+1)-1)*math.pi/(2*n))\n",
    "    return x"
   ]
  },
  {
   "cell_type": "code",
   "execution_count": 52,
   "id": "51cd75b8",
   "metadata": {},
   "outputs": [],
   "source": [
    "def appro2(a,b,func):\n",
    "    for n in (5,10,15):\n",
    "        x = Chebyshev(a,b,n+1)\n",
    "        \n",
    "        X = np.ones((n+1,n+1))\n",
    "        for i in range(1,n+1):\n",
    "            X[i:] = x**i\n",
    "        \n",
    "        a, b = -5, 5\n",
    "        d = np.zeros(n+1)\n",
    "        for i in range(n+1):\n",
    "            d[i] = 1/(i+1)*(b**(i+1) - a**(i+1))\n",
    "        \n",
    "        w = np.linalg.solve(X, d)\n",
    "        \n",
    "        f = func(x)\n",
    "        appro = np.inner(w,f)\n",
    "        \n",
    "        print(\"When n = \", n)\n",
    "        print(\"Nodes are: \")\n",
    "        print(x)\n",
    "        print(\"The corresponding weights is: \")\n",
    "        print(w)\n",
    "        print(\"The computed approximation of the integral is: \", appro)\n",
    "        print()"
   ]
  },
  {
   "cell_type": "code",
   "execution_count": 53,
   "id": "c621d679",
   "metadata": {},
   "outputs": [
    {
     "name": "stdout",
     "output_type": "stream",
     "text": [
      "When n =  5\n",
      "Nodes are: \n",
      "[ 4.82962913  3.53553391  1.29409523 -1.29409523 -3.53553391 -4.82962913]\n",
      "The corresponding weights is: \n",
      "[0.59330511 1.88888889 2.517806   2.517806   1.88888889 0.59330511]\n",
      "The computed approximation of the integral is:  2.2113115356791333\n",
      "\n",
      "When n =  10\n",
      "Nodes are: \n",
      "[ 4.94910721e+00  4.54815998e+00  3.77874787e+00  2.70320409e+00\n",
      "  1.40866278e+00  1.41638472e-15 -1.40866278e+00 -2.70320409e+00\n",
      " -3.77874787e+00 -4.54815998e+00 -4.94910721e+00]\n",
      "The corresponding weights is: \n",
      "[0.17698858 0.60847767 0.92441624 1.20994808 1.36247298 1.43539289\n",
      " 1.36247298 1.20994808 0.92441624 0.60847767 0.17698858]\n",
      "The computed approximation of the integral is:  2.8307823662953737\n",
      "\n",
      "When n =  15\n",
      "Nodes are: \n",
      "[ 4.97592363  4.78470168  4.40960632  3.86505227  3.17196642  2.35698368\n",
      "  1.45142339  0.4900857  -0.4900857  -1.45142339 -2.35698368 -3.17196642\n",
      " -3.86505227 -4.40960632 -4.78470168 -4.97592363]\n",
      "The corresponding weights is: \n",
      "[0.08401378 0.29168232 0.45859157 0.62564809 0.75696231 0.86709706\n",
      " 0.93874864 0.97725624 0.97725624 0.93874864 0.86709706 0.75696231\n",
      " 0.62564809 0.45859157 0.29168232 0.08401378]\n",
      "The computed approximation of the integral is:  2.736056218617512\n",
      "\n"
     ]
    }
   ],
   "source": [
    "appro2(-5,5,func)"
   ]
  },
  {
   "cell_type": "markdown",
   "id": "355fbc4f",
   "metadata": {},
   "source": [
    "### iv"
   ]
  },
  {
   "cell_type": "code",
   "execution_count": 29,
   "id": "e7f69175",
   "metadata": {
    "scrolled": true
   },
   "outputs": [
    {
     "name": "stdout",
     "output_type": "stream",
     "text": [
      "    h/2    T(h/2)    |T(h)-T(h/2)|/|T(h/2)|\n",
      "-------  --------  ------------------------\n",
      "5         5.19231               0.925926\n",
      "2.5       3.28581               0.580222\n",
      "1.25      2.78449               0.18004\n",
      "0.625     2.74611               0.0139753\n",
      "0.3125    2.74656               0.000163595\n",
      "0.15625   2.74674               6.56813e-05\n"
     ]
    }
   ],
   "source": [
    "(tav, tae, tre, tn) = trapezoidal_T(-5,5,func,1.e-4)"
   ]
  },
  {
   "cell_type": "code",
   "execution_count": 30,
   "id": "0d6041be",
   "metadata": {
    "scrolled": false
   },
   "outputs": [
    {
     "name": "stdout",
     "output_type": "stream",
     "text": [
      "       h/2    T(h/2)    |T(h)-T(h/2)|/|T(h/2)|\n",
      "----------  --------  ------------------------\n",
      "5            2.77851               1.44551\n",
      "2.5          2.68149               0.0116264\n",
      "1.25         2.76537               0.0535145\n",
      "0.625        2.76274               0.0106479\n",
      "0.3125       2.75481               0.00294161\n",
      "0.15625      2.75081               0.00145646\n",
      "0.078125     2.7488                0.000728756\n",
      "0.0390625    2.7478                0.00036451\n",
      "0.0195312    2.7473                0.000182288\n",
      "0.00976562   2.74705               9.11525e-05\n"
     ]
    }
   ],
   "source": [
    "(sav, sae, sre, sn) = trapezoidal_S(-5,5,func,1.e-4)"
   ]
  },
  {
   "cell_type": "code",
   "execution_count": 31,
   "id": "c68f4ad9",
   "metadata": {},
   "outputs": [
    {
     "name": "stdout",
     "output_type": "stream",
     "text": [
      "f(x)=x/(1+x^2), [a,b] = [-5,5]\n",
      "Composite trapezoidal rule\n",
      "Approximate value of the integral =  2.7467414e+00\n",
      "Number of f evaluations required  =    65\n",
      "\n",
      "Composite Simpson rule\n",
      "Approximate value of the integral =  2.7470519e+00\n",
      "Number of f evaluations required  =    1025\n"
     ]
    }
   ],
   "source": [
    "print(\"f(x)=x/(1+x^2), [a,b] = [-5,5]\")\n",
    "print(\"Composite trapezoidal rule\")\n",
    "print(\"Approximate value of the integral = \", \"%10.7e\"% float(tav))\n",
    "print(\"Number of f evaluations required  =   \", tn)\n",
    "print()\n",
    "print(\"Composite Simpson rule\")\n",
    "print(\"Approximate value of the integral = \", \"%10.7e\"% float(sav))\n",
    "print(\"Number of f evaluations required  =   \", sn)"
   ]
  },
  {
   "cell_type": "code",
   "execution_count": null,
   "id": "3d63e87a",
   "metadata": {},
   "outputs": [],
   "source": []
  }
 ],
 "metadata": {
  "kernelspec": {
   "display_name": "Python 3",
   "language": "python",
   "name": "python3"
  },
  "language_info": {
   "codemirror_mode": {
    "name": "ipython",
    "version": 3
   },
   "file_extension": ".py",
   "mimetype": "text/x-python",
   "name": "python",
   "nbconvert_exporter": "python",
   "pygments_lexer": "ipython3",
   "version": "3.8.8"
  }
 },
 "nbformat": 4,
 "nbformat_minor": 5
}
