{
 "cells": [
  {
   "cell_type": "code",
   "execution_count": 7,
   "id": "0ff18dac",
   "metadata": {},
   "outputs": [],
   "source": [
    "import numpy as np\n",
    "import math\n",
    "import random as rand\n",
    "from tabulate import tabulate"
   ]
  },
  {
   "cell_type": "markdown",
   "id": "178b5a43",
   "metadata": {},
   "source": [
    "Problem 1"
   ]
  },
  {
   "cell_type": "markdown",
   "id": "bf24b2ce",
   "metadata": {},
   "source": [
    "(i)"
   ]
  },
  {
   "cell_type": "code",
   "execution_count": 49,
   "id": "ed4f7ef9",
   "metadata": {},
   "outputs": [],
   "source": [
    "def T(h, f, n, a, b):\n",
    "    th = h/2*f(a) + h/2*f(b)\n",
    "    for i in range(1, n):\n",
    "        th += h*f(a+ i*h)\n",
    "        \n",
    "    return th\n",
    "    "
   ]
  },
  {
   "cell_type": "code",
   "execution_count": 50,
   "id": "cd701307",
   "metadata": {},
   "outputs": [],
   "source": [
    "def Romberg(f, a, b):\n",
    "    mat = []\n",
    "    tol = 10**-6\n",
    "    n = 1\n",
    "    h = b-a\n",
    "    diff = 1\n",
    "    last = [T(h, f, n, a, b)]\n",
    "    mat.append(last)\n",
    "    \n",
    "    while(diff > tol):\n",
    "        n += 1\n",
    "        present = [T(h/n, f, n, a, b)]\n",
    "        for i in range(1, n):\n",
    "            present.append(present[-1] + (present[-1] - last[i-1])/(4**i-1))\n",
    "        \n",
    "        mat.append(present)\n",
    "        last = present\n",
    "        \n",
    "        diff = abs(present[-1] - present[-2])/abs(present[-1])\n",
    "        \n",
    "    \n",
    "    for i in range(len(mat)):\n",
    "        row = mat[i]\n",
    "        print('{:<12} |'.format(h/2**i), end = ' ')\n",
    "        for j in range(len(row)):\n",
    "            print('%6f' % row[j], end = ', ')\n",
    "        print('\\n')\n",
    "        \n",
    "        \n"
   ]
  },
  {
   "cell_type": "markdown",
   "id": "e23401db",
   "metadata": {},
   "source": [
    "(ii)"
   ]
  },
  {
   "cell_type": "code",
   "execution_count": 51,
   "id": "1ab12d38",
   "metadata": {},
   "outputs": [],
   "source": [
    "def trapezoidal_T(a,b,fun,tol):\n",
    "    err = math.inf\n",
    "    h = b-a\n",
    "    n = 1\n",
    "    fa = fun(a)\n",
    "    fb = fun(b)\n",
    "    h_p = []\n",
    "    T_p = []\n",
    "    err_p = []\n",
    "    \n",
    "    while err >= tol:\n",
    "        T = 0\n",
    "        for i in range(1,n):\n",
    "            T = T + fun(a+i*h)\n",
    "        T = h/2*(fa+fb) + h*T\n",
    "        \n",
    "        h = h/2\n",
    "        n = 2*n\n",
    "        T_ = 0\n",
    "        for i in range(1,n):\n",
    "            T_ = T_ + fun(a+i*h)\n",
    "        T_ = h/2*(fa+fb) + h*T_\n",
    "        \n",
    "        aerr = abs(T-T_)\n",
    "        err = abs(T-T_)/abs(T_)\n",
    "        \n",
    "        h_p.append(h)\n",
    "        T_p.append(T_)\n",
    "        err_p.append(err)\n",
    "    \n",
    "    info = {'h/2': h_p, 'T(h/2)': T_p, '|T(h)-T(h/2)|/|T(h/2)|': err_p}\n",
    "    print(tabulate(info, headers='keys'))\n",
    "    return (\"%10.8e\"%T_), (\"%10.8e\"%aerr), (\"%10.8e\"%err), n+1"
   ]
  },
  {
   "cell_type": "code",
   "execution_count": 52,
   "id": "9dc03fd1",
   "metadata": {},
   "outputs": [],
   "source": [
    "def trapezoidal_S(a,b,fun,tol):\n",
    "    err = math.inf\n",
    "    h = b-a\n",
    "    n = 1\n",
    "    fa = fun(a)\n",
    "    fb = fun(b)\n",
    "    h_p = []\n",
    "    T_p = []\n",
    "    err_p = []\n",
    "    \n",
    "    while err >= tol:\n",
    "        T1 = 0\n",
    "        T2 = 0\n",
    "        for i in range(n):\n",
    "            T1 = T1 + fun(a+(i+0.5)*h)\n",
    "        for i in range(1,n):\n",
    "            T2 = T2 + fun(a+i*h)\n",
    "            \n",
    "        T = h/6*(fa+fb) + 2*h/3*T1 + h/3*T2\n",
    "        \n",
    "        h = h/2\n",
    "        n = 2*n\n",
    "        T1_ = 0\n",
    "        T2_ = 0\n",
    "        for i in range(n):\n",
    "            T1_ = T1_ + fun(a+(i+0.5)*h)\n",
    "        for i in range(1,n):\n",
    "            T2_ = T2_ + fun(a+i*h)\n",
    "        T_ = h/2*(fa+fb) + 2*h/3*T1_ + h/3*T2_\n",
    "        \n",
    "        aerr = abs(T-T_)\n",
    "        err = abs(T-T_)/abs(T_)\n",
    "        \n",
    "        h_p.append(h)\n",
    "        T_p.append(T_)\n",
    "        err_p.append(err)\n",
    "    \n",
    "    info = {'h/2': h_p, 'T(h/2)': T_p, '|T(h)-T(h/2)|/|T(h/2)|': err_p}\n",
    "    print(tabulate(info, headers='keys'))\n",
    "    return (\"%10.8e\"%T_), (\"%10.8e\"%aerr), (\"%10.8e\"%err), n+1"
   ]
  },
  {
   "cell_type": "code",
   "execution_count": 53,
   "id": "c2806abd",
   "metadata": {},
   "outputs": [],
   "source": [
    "def f1(x):\n",
    "    return x/(1+x**2)"
   ]
  },
  {
   "cell_type": "code",
   "execution_count": 54,
   "id": "b0a2b882",
   "metadata": {},
   "outputs": [],
   "source": [
    "def f2(x):\n",
    "    return 1/(1-x)"
   ]
  },
  {
   "cell_type": "code",
   "execution_count": 55,
   "id": "1da99770",
   "metadata": {},
   "outputs": [],
   "source": [
    "def f3(x):\n",
    "    return 1/math.sqrt(1- 0.5*math.sin(x)**2)"
   ]
  },
  {
   "cell_type": "code",
   "execution_count": 56,
   "id": "7b07ee59",
   "metadata": {},
   "outputs": [],
   "source": [
    "def f4(x):\n",
    "    return 1/math.sqrt(1- 0.8*math.sin(x)**2)"
   ]
  },
  {
   "cell_type": "code",
   "execution_count": 57,
   "id": "26568e21",
   "metadata": {},
   "outputs": [],
   "source": [
    "def f5(x):\n",
    "    return 1/math.sqrt(1- 0.95*math.sin(x)**2)"
   ]
  },
  {
   "cell_type": "code",
   "execution_count": 58,
   "id": "c734f67d",
   "metadata": {
    "scrolled": true
   },
   "outputs": [
    {
     "name": "stdout",
     "output_type": "stream",
     "text": [
      "3.0          | 0.450000, \n",
      "\n",
      "1.5          | 0.917308, 1.073077, \n",
      "\n",
      "0.75         | 1.050000, 1.094231, 1.095641, \n",
      "\n",
      "0.375        | 1.097004, 1.112672, 1.113902, 1.114192, \n",
      "\n",
      "0.1875       | 1.117523, 1.124362, 1.125141, 1.125320, 1.125363, \n",
      "\n",
      "0.09375      | 1.128183, 1.131737, 1.132228, 1.132341, 1.132368, 1.132375, \n",
      "\n",
      "0.046875     | 1.134449, 1.136538, 1.136858, 1.136932, 1.136950, 1.136954, 1.136955, \n",
      "\n"
     ]
    }
   ],
   "source": [
    "Romberg(f1, 0, 3)"
   ]
  },
  {
   "cell_type": "code",
   "execution_count": 59,
   "id": "c05dadb7",
   "metadata": {},
   "outputs": [
    {
     "name": "stdout",
     "output_type": "stream",
     "text": [
      "       h/2    T(h/2)    |T(h)-T(h/2)|/|T(h/2)|\n",
      "----------  --------  ------------------------\n",
      "1.5         0.917308               0.509434\n",
      "0.75        1.097                  0.163807\n",
      "0.375       1.13846                0.0364126\n",
      "0.1875      1.14812                0.00841331\n",
      "0.09375     1.1505                 0.00207114\n",
      "0.046875    1.15109                0.000515914\n",
      "0.0234375   1.15124                0.000128863\n",
      "0.0117188   1.15128                3.22087e-05\n",
      "0.00585938  1.15129                8.05172e-06\n",
      "0.00292969  1.15129                2.0129e-06\n",
      "0.00146484  1.15129                5.03224e-07\n"
     ]
    },
    {
     "data": {
      "text/plain": [
       "('1.15129235e+00', '5.79357724e-07', '5.03223809e-07', 2049)"
      ]
     },
     "execution_count": 59,
     "metadata": {},
     "output_type": "execute_result"
    }
   ],
   "source": [
    "trapezoidal_T(0, 3, f1, 10**-6)"
   ]
  },
  {
   "cell_type": "code",
   "execution_count": 60,
   "id": "49d15173",
   "metadata": {},
   "outputs": [
    {
     "name": "stdout",
     "output_type": "stream",
     "text": [
      "        h/2    T(h/2)    |T(h)-T(h/2)|/|T(h/2)|\n",
      "-----------  --------  ------------------------\n",
      "1.5           1.3069                0.178916\n",
      "0.75          1.22728               0.0573411\n",
      "0.375         1.18884               0.0307537\n",
      "0.1875        1.17005               0.0159885\n",
      "0.09375       1.16067               0.00807513\n",
      "0.046875      1.15598               0.00405487\n",
      "0.0234375     1.15364               0.00203161\n",
      "0.0117188     1.15246               0.00101684\n",
      "0.00585938    1.15188               0.00050868\n",
      "0.00292969    1.15159               0.000254405\n",
      "0.00146484    1.15144               0.000127219\n",
      "0.000732422   1.15137               6.36133e-05\n",
      "0.000366211   1.15133               3.18077e-05\n",
      "0.000183105   1.15131               1.59041e-05\n",
      "9.15527e-05   1.1513                7.95211e-06\n",
      "4.57764e-05   1.1513                3.97607e-06\n",
      "2.28882e-05   1.15129               1.98804e-06\n",
      "1.14441e-05   1.15129               9.9402e-07\n"
     ]
    },
    {
     "data": {
      "text/plain": [
       "('1.15129369e+00', '1.14440918e-06', '9.94020199e-07', 262145)"
      ]
     },
     "execution_count": 60,
     "metadata": {},
     "output_type": "execute_result"
    }
   ],
   "source": [
    "trapezoidal_S(0, 3, f1, 10**-6)"
   ]
  },
  {
   "cell_type": "code",
   "execution_count": 81,
   "id": "5dbf943f",
   "metadata": {},
   "outputs": [
    {
     "name": "stdout",
     "output_type": "stream",
     "text": [
      "0.95         | 9.975000, \n",
      "\n",
      "0.475        | 5.892262, 4.531349, \n",
      "\n",
      "0.2375       | 4.652051, 4.238647, 4.219134, \n",
      "\n",
      "0.11875      | 4.083693, 3.894241, 3.871280, 3.865759, \n",
      "\n",
      "0.059375     | 3.769547, 3.664831, 3.649537, 3.646017, 3.645156, \n",
      "\n",
      "0.0296875    | 3.575732, 3.511127, 3.500880, 3.498520, 3.497942, 3.497798, \n",
      "\n",
      "0.01484375   | 3.447081, 3.404198, 3.397069, 3.395422, 3.395017, 3.394917, 3.394892, \n",
      "\n",
      "0.007421875  | 3.357076, 3.327074, 3.321932, 3.320740, 3.320447, 3.320374, 3.320356, 3.320351, \n",
      "\n",
      "0.0037109375 | 3.291547, 3.269705, 3.265880, 3.264990, 3.264772, 3.264717, 3.264704, 3.264700, 3.264699, \n",
      "\n"
     ]
    }
   ],
   "source": [
    "Romberg(f2, 0, 0.95)"
   ]
  },
  {
   "cell_type": "code",
   "execution_count": 62,
   "id": "893d2883",
   "metadata": {},
   "outputs": [
    {
     "name": "stdout",
     "output_type": "stream",
     "text": [
      "        h/2    T(h/2)    |T(h)-T(h/2)|/|T(h/2)|\n",
      "-----------  --------  ------------------------\n",
      "0.475         5.89226               0.692898\n",
      "0.2375        4.08369               0.442876\n",
      "0.11875       3.35708               0.216444\n",
      "0.059375      3.10177               0.082309\n",
      "0.0296875     3.02413               0.025673\n",
      "0.0148437     3.003                 0.00703872\n",
      "0.00742187    2.99756               0.00181362\n",
      "0.00371094    2.99619               0.000457218\n",
      "0.00185547    2.99585               0.000114552\n",
      "0.000927734   2.99576               2.86535e-05\n",
      "0.000463867   2.99574               7.16436e-06\n",
      "0.000231934   2.99573               1.79115e-06\n",
      "0.000115967   2.99573               4.47792e-07\n"
     ]
    },
    {
     "data": {
      "text/plain": [
       "('2.99573272e+00', '1.34146410e-06', '4.47791652e-07', 8193)"
      ]
     },
     "execution_count": 62,
     "metadata": {},
     "output_type": "execute_result"
    }
   ],
   "source": [
    "trapezoidal_T(0, 0.95, f2, 10**-6)"
   ]
  },
  {
   "cell_type": "code",
   "execution_count": 63,
   "id": "67b797c9",
   "metadata": {},
   "outputs": [
    {
     "name": "stdout",
     "output_type": "stream",
     "text": [
      "        h/2    T(h/2)    |T(h)-T(h/2)|/|T(h/2)|\n",
      "-----------  --------  ------------------------\n",
      "0.475         6.80584               0.334197\n",
      "0.2375        4.77737               0.271391\n",
      "0.11875       3.84792               0.190506\n",
      "0.059375      3.41388               0.116351\n",
      "0.0296875     3.20376               0.0641461\n",
      "0.0148437     3.09965               0.0334565\n",
      "0.00742187    3.04769               0.017042\n",
      "0.00371094    3.02171               0.00859634\n",
      "0.00185547    3.00872               0.00431686\n",
      "0.000927734   3.00223               0.00216311\n",
      "0.000463867   2.99898               0.00108273\n",
      "0.000231934   2.99736               0.000541656\n",
      "0.000115967   2.99654               0.000270901\n",
      "5.79834e-05   2.99614               0.000135469\n",
      "2.89917e-05   2.99594               6.77391e-05\n",
      "1.44958e-05   2.99583               3.38707e-05\n",
      "7.24792e-06   2.99578               1.69356e-05\n",
      "3.62396e-06   2.99576               8.46789e-06\n",
      "1.81198e-06   2.99574               4.23396e-06\n",
      "9.05991e-07   2.99574               2.11699e-06\n",
      "4.52995e-07   2.99574               1.05849e-06\n",
      "2.26498e-07   2.99573               5.29247e-07\n"
     ]
    },
    {
     "data": {
      "text/plain": [
       "('2.99573386e+00', '1.58548356e-06', '5.29247133e-07', 4194305)"
      ]
     },
     "execution_count": 63,
     "metadata": {},
     "output_type": "execute_result"
    }
   ],
   "source": [
    "trapezoidal_S(0, 0.95, f2, 10**-6)"
   ]
  },
  {
   "cell_type": "code",
   "execution_count": 82,
   "id": "bf25bb71",
   "metadata": {},
   "outputs": [
    {
     "name": "stdout",
     "output_type": "stream",
     "text": [
      "1.5707963267948966 | 1.896119, \n",
      "\n",
      "0.7853981633974483 | 1.854959, 1.841239, \n",
      "\n",
      "0.39269908169872414 | 1.854096, 1.853808, 1.854646, \n",
      "\n",
      "0.19634954084936207 | 1.854075, 1.854068, 1.854086, 1.854077, \n",
      "\n",
      "0.09817477042468103 | 1.854075, 1.854075, 1.854075, 1.854075, 1.854075, \n",
      "\n"
     ]
    }
   ],
   "source": [
    "Romberg(f3, 0, math.pi/2)"
   ]
  },
  {
   "cell_type": "code",
   "execution_count": 64,
   "id": "3a616b11",
   "metadata": {},
   "outputs": [
    {
     "name": "stdout",
     "output_type": "stream",
     "text": [
      "     h/2    T(h/2)    |T(h)-T(h/2)|/|T(h/2)|\n",
      "--------  --------  ------------------------\n",
      "0.785398   1.85496               0.022189\n",
      "0.392699   1.85408               0.000476735\n",
      "0.19635    1.85407               2.96895e-07\n"
     ]
    },
    {
     "data": {
      "text/plain": [
       "('1.85407468e+00', '5.50465641e-07', '2.96895075e-07', 9)"
      ]
     },
     "execution_count": 64,
     "metadata": {},
     "output_type": "execute_result"
    }
   ],
   "source": [
    "trapezoidal_T(0, math.pi/2, f3, 10**-6)"
   ]
  },
  {
   "cell_type": "code",
   "execution_count": 65,
   "id": "f2f5d44b",
   "metadata": {},
   "outputs": [
    {
     "name": "stdout",
     "output_type": "stream",
     "text": [
      "        h/2    T(h/2)    |T(h)-T(h/2)|/|T(h/2)|\n",
      "-----------  --------  ------------------------\n",
      "0.785398      2.48582               0.259303\n",
      "0.392699      2.17009               0.14576\n",
      "0.19635       2.01208               0.0785305\n",
      "0.0981748     1.93308               0.04087\n",
      "0.0490874     1.89358               0.0208613\n",
      "0.0245437     1.87383               0.0105406\n",
      "0.0122718     1.86395               0.00529822\n",
      "0.00613592    1.85901               0.00265615\n",
      "0.00306796    1.85654               0.00132984\n",
      "0.00153398    1.85531               0.000665362\n",
      "0.00076699    1.85469               0.000332792\n",
      "0.000383495   1.85438               0.000166424\n",
      "0.000191748   1.85423               8.32187e-05\n",
      "9.58738e-05   1.85415               4.16111e-05\n",
      "4.79369e-05   1.85411               2.0806e-05\n",
      "2.39684e-05   1.85409               1.04031e-05\n",
      "1.19842e-05   1.85408               5.20158e-06\n",
      "5.99211e-06   1.85408               2.60079e-06\n",
      "2.99606e-06   1.85408               1.3004e-06\n",
      "1.49803e-06   1.85408               6.502e-07\n"
     ]
    },
    {
     "data": {
      "text/plain": [
       "('1.85407588e+00', '1.20551989e-06', '6.50199864e-07', 1048577)"
      ]
     },
     "execution_count": 65,
     "metadata": {},
     "output_type": "execute_result"
    }
   ],
   "source": [
    "trapezoidal_S(0, math.pi/2, f3, 10**-6)"
   ]
  },
  {
   "cell_type": "code",
   "execution_count": 83,
   "id": "409812b3",
   "metadata": {
    "scrolled": true
   },
   "outputs": [
    {
     "name": "stdout",
     "output_type": "stream",
     "text": [
      "1.5707963267948966 | 2.541602, \n",
      "\n",
      "0.7853981633974483 | 2.284746, 2.199127, \n",
      "\n",
      "0.39269908169872414 | 2.260484, 2.252397, 2.255948, \n",
      "\n",
      "0.19634954084936207 | 2.257622, 2.256667, 2.256952, 2.256968, \n",
      "\n",
      "0.09817477042468103 | 2.257260, 2.257139, 2.257171, 2.257174, 2.257175, \n",
      "\n"
     ]
    }
   ],
   "source": [
    "Romberg(f4, 0, math.pi/2)"
   ]
  },
  {
   "cell_type": "code",
   "execution_count": 66,
   "id": "3cc97da1",
   "metadata": {},
   "outputs": [
    {
     "name": "stdout",
     "output_type": "stream",
     "text": [
      "      h/2    T(h/2)    |T(h)-T(h/2)|/|T(h/2)|\n",
      "---------  --------  ------------------------\n",
      "0.785398    2.28475               0.112422\n",
      "0.392699    2.25762               0.0120144\n",
      "0.19635     2.25721               0.000184328\n",
      "0.0981748   2.25721               5.96498e-08\n"
     ]
    },
    {
     "data": {
      "text/plain": [
       "('2.25720533e+00', '1.34641735e-07', '5.96497507e-08', 17)"
      ]
     },
     "execution_count": 66,
     "metadata": {},
     "output_type": "execute_result"
    }
   ],
   "source": [
    "trapezoidal_T(0, math.pi/2, f4, 10**-6)"
   ]
  },
  {
   "cell_type": "code",
   "execution_count": 67,
   "id": "b13a2760",
   "metadata": {},
   "outputs": [
    {
     "name": "stdout",
     "output_type": "stream",
     "text": [
      "        h/2    T(h/2)    |T(h)-T(h/2)|/|T(h/2)|\n",
      "-----------  --------  ------------------------\n",
      "0.785398      3.09578               0.289637\n",
      "0.392699      2.68067               0.161186\n",
      "0.19635       2.46901               0.0858397\n",
      "0.0981748     2.36311               0.044814\n",
      "0.0490874     2.31016               0.0229206\n",
      "0.0245437     2.28368               0.0115931\n",
      "0.0122718     2.27044               0.00583036\n",
      "0.00613592    2.26382               0.00292371\n",
      "0.00306796    2.26051               0.00146399\n",
      "0.00153398    2.25886               0.000732533\n",
      "0.00076699    2.25803               0.000366401\n",
      "0.000383495   2.25762               0.000183234\n",
      "0.000191748   2.25741               9.16253e-05\n",
      "9.58738e-05   2.25731               4.58148e-05\n",
      "4.79369e-05   2.25726               2.29079e-05\n",
      "2.39684e-05   2.25723               1.14541e-05\n",
      "1.19842e-05   2.25722               5.72707e-06\n",
      "5.99211e-06   2.25721               2.86355e-06\n",
      "2.99606e-06   2.25721               1.43177e-06\n",
      "1.49803e-06   2.25721               7.15888e-07\n"
     ]
    },
    {
     "data": {
      "text/plain": [
       "('2.25720694e+00', '1.61590696e-06', '7.15887820e-07', 1048577)"
      ]
     },
     "execution_count": 67,
     "metadata": {},
     "output_type": "execute_result"
    }
   ],
   "source": [
    "trapezoidal_S(0, math.pi/2, f4, 10**-6)"
   ]
  },
  {
   "cell_type": "code",
   "execution_count": 84,
   "id": "c64fe2bf",
   "metadata": {
    "scrolled": true
   },
   "outputs": [
    {
     "name": "stdout",
     "output_type": "stream",
     "text": [
      "1.5707963267948966 | 4.297806, \n",
      "\n",
      "0.7853981633974483 | 3.232855, 2.877872, \n",
      "\n",
      "0.39269908169872414 | 3.008742, 2.934038, 2.937782, \n",
      "\n",
      "0.19634954084936207 | 2.942667, 2.920642, 2.919749, 2.919463, \n",
      "\n",
      "0.09817477042468103 | 2.920634, 2.913290, 2.912800, 2.912689, 2.912663, \n",
      "\n",
      "0.04908738521234052 | 2.912855, 2.910262, 2.910060, 2.910017, 2.910006, 2.910004, \n",
      "\n"
     ]
    }
   ],
   "source": [
    "Romberg(f5, 0, math.pi/2)"
   ]
  },
  {
   "cell_type": "code",
   "execution_count": 68,
   "id": "45969c31",
   "metadata": {},
   "outputs": [
    {
     "name": "stdout",
     "output_type": "stream",
     "text": [
      "      h/2    T(h/2)    |T(h)-T(h/2)|/|T(h/2)|\n",
      "---------  --------  ------------------------\n",
      "0.785398    3.23286               0.329415\n",
      "0.392699    2.94267               0.0986139\n",
      "0.19635     2.90897               0.0115828\n",
      "0.0981748   2.90834               0.000218584\n",
      "0.0490874   2.90834               1.07601e-07\n"
     ]
    },
    {
     "data": {
      "text/plain": [
       "('2.90833725e+00', '3.12939830e-07', '1.07600943e-07', 33)"
      ]
     },
     "execution_count": 68,
     "metadata": {},
     "output_type": "execute_result"
    }
   ],
   "source": [
    "trapezoidal_T(0, math.pi/2, f5, 10**-6)"
   ]
  },
  {
   "cell_type": "code",
   "execution_count": 69,
   "id": "f0982f2f",
   "metadata": {},
   "outputs": [
    {
     "name": "stdout",
     "output_type": "stream",
     "text": [
      "        h/2    T(h/2)    |T(h)-T(h/2)|/|T(h/2)|\n",
      "-----------  --------  ------------------------\n",
      "0.785398      4.27854               0.327371\n",
      "0.392699      3.61404               0.212533\n",
      "0.19635       3.26628               0.11283\n",
      "0.0981748     3.08741               0.0580702\n",
      "0.0490874     2.99787               0.0298671\n",
      "0.0245437     2.95311               0.0151599\n",
      "0.0122718     2.93072               0.00763785\n",
      "0.00613592    2.91953               0.00383356\n",
      "0.00306796    2.91393               0.00192046\n",
      "0.00153398    2.91114               0.000961154\n",
      "0.00076699    2.90974               0.000480808\n",
      "0.000383495   2.90904               0.000240462\n",
      "0.000191748   2.90869               0.000120245\n",
      "9.58738e-05   2.90851               6.01263e-05\n",
      "4.79369e-05   2.90842               3.00641e-05\n",
      "2.39684e-05   2.90838               1.50323e-05\n",
      "1.19842e-05   2.90836               7.51619e-06\n",
      "5.99211e-06   2.90835               3.75811e-06\n",
      "2.99606e-06   2.90834               1.87906e-06\n",
      "1.49803e-06   2.90834               9.3953e-07\n"
     ]
    },
    {
     "data": {
      "text/plain": [
       "('2.90833998e+00', '2.73247121e-06', '9.39529500e-07', 1048577)"
      ]
     },
     "execution_count": 69,
     "metadata": {},
     "output_type": "execute_result"
    }
   ],
   "source": [
    "trapezoidal_S(0, math.pi/2, f5, 10**-6)"
   ]
  },
  {
   "cell_type": "markdown",
   "id": "71db4159",
   "metadata": {},
   "source": [
    "Problem 2"
   ]
  },
  {
   "cell_type": "code",
   "execution_count": 173,
   "id": "d395664c",
   "metadata": {},
   "outputs": [],
   "source": [
    "def trapezoidal_T(a,b,fun,tol):\n",
    "    err = math.inf\n",
    "    h = b-a\n",
    "    n = 1\n",
    "    fa = fun(a)\n",
    "    fb = fun(b)\n",
    "    h_p = []\n",
    "    T_p = []\n",
    "    err_p = []\n",
    "    n_p = []\n",
    "    \n",
    "    while (err >= tol):\n",
    "        x = np.linspace(a, b, n+1)\n",
    "        T_arr = f(x) + 0.01*np.random.randn(1, n+1)\n",
    "        T = h*np.sum(T_arr)- h/2*fa - h/2*fb\n",
    "        \n",
    "        h = h/2\n",
    "        n = 2*n\n",
    "        x = np.linspace(a, b, n+1)\n",
    "        T_arr_ = f(x) + 0.01*np.random.randn(1, n+1)\n",
    "        T_ = h*np.sum(T_arr_) - h/2*fa - h/2*fb\n",
    "    \n",
    "        \n",
    "        aerr = abs(T-T_)\n",
    "        err = abs(T-T_)/abs(T_)\n",
    "        \n",
    "        h_p.append(h)\n",
    "        T_p.append(T_)\n",
    "        err_p.append(err)\n",
    "        n_p.append(n)\n",
    "    \n",
    "    info = {'n':n_p, 'h/2': h_p, 'T(h/2)': T_p, '|T(h)-T(h/2)|/|T(h/2)|': err_p}\n",
    "    print(tabulate(info, headers='keys'))\n",
    "    return (\"%10.8e\"%n), (\"%10.8e\"%T_), (\"%10.8e\"%aerr), (\"%10.8e\"%err), n+1"
   ]
  },
  {
   "cell_type": "code",
   "execution_count": 174,
   "id": "ca17863b",
   "metadata": {},
   "outputs": [],
   "source": [
    "def f(x):\n",
    "    return x**2.5"
   ]
  },
  {
   "cell_type": "code",
   "execution_count": 175,
   "id": "824f1744",
   "metadata": {},
   "outputs": [
    {
     "name": "stdout",
     "output_type": "stream",
     "text": [
      "       n          h/2    T(h/2)    |T(h)-T(h/2)|/|T(h/2)|\n",
      "--------  -----------  --------  ------------------------\n",
      "       2  0.5          0.332698               0.508976\n",
      "       4  0.25         0.299502               0.146894\n",
      "       8  0.125        0.285913               0.0116206\n",
      "      16  0.0625       0.286732               0.0109593\n",
      "      32  0.03125      0.285326               0.0043471\n",
      "      64  0.015625     0.284907               0.0031013\n",
      "     128  0.0078125    0.285758               0.00191629\n",
      "     256  0.00390625   0.285711               0.000774732\n",
      "     512  0.00195312   0.285588               0.00010016\n",
      "    1024  0.000976562  0.285564               0.000284217\n",
      "    2048  0.000488281  0.285812               0.00135972\n",
      "    4096  0.000244141  0.285569               0.000661208\n",
      "    8192  0.00012207   0.285757               0.000408809\n",
      "   16384  6.10352e-05  0.285702               0.000151728\n",
      "   32768  3.05176e-05  0.285655               0.00028893\n",
      "   65536  1.52588e-05  0.285718               0.000179174\n",
      "  131072  7.62939e-06  0.28577                5.08502e-05\n",
      "  262144  3.8147e-06   0.28574                0.00010011\n",
      "  524288  1.90735e-06  0.285722               5.40607e-05\n",
      " 1048576  9.53674e-07  0.285717               1.49576e-05\n",
      " 2097152  4.76837e-07  0.285702               8.69553e-05\n",
      " 4194304  2.38419e-07  0.285711               3.97313e-05\n",
      " 8388608  1.19209e-07  0.285711               6.35141e-06\n",
      "16777216  5.96046e-08  0.285715               1.7394e-07\n"
     ]
    },
    {
     "data": {
      "text/plain": [
       "('1.67772160e+07',\n",
       " '2.85714733e-01',\n",
       " '4.96971208e-08',\n",
       " '1.73939651e-07',\n",
       " 16777217)"
      ]
     },
     "execution_count": 175,
     "metadata": {},
     "output_type": "execute_result"
    }
   ],
   "source": [
    "trapezoidal_T(0, 1, f, 10**-6)"
   ]
  },
  {
   "cell_type": "markdown",
   "id": "7984678f",
   "metadata": {},
   "source": [
    "Problem 3"
   ]
  },
  {
   "cell_type": "code",
   "execution_count": 5,
   "id": "803cba17",
   "metadata": {},
   "outputs": [],
   "source": [
    "def f(x, y):\n",
    "    return math.exp(-x*y)"
   ]
  },
  {
   "cell_type": "code",
   "execution_count": 33,
   "id": "93cb50d2",
   "metadata": {},
   "outputs": [],
   "source": [
    "#x, y belongs to [0, 1]\n",
    "def trapezoidal_T_2v1(a,b,nx, ny, fun):\n",
    "    \n",
    "    hx = (b-a)/nx\n",
    "    hy = (b-a)/ny\n",
    "    \n",
    "    \n",
    "        \n",
    "    res = np.zeros([nx+1, ny+1])\n",
    "        \n",
    "    for i in range(0, nx+1):\n",
    "        for j in range(0,ny+1):\n",
    "            res[i][j] = fun((a+i*hx), (a+j*hy))\n",
    "        \n",
    "    res[:, 0] = hy/2*res[:, 0]\n",
    "    res[:, -1] = hy/2*res[:, -1]\n",
    "    res[:, 1:ny] = hy*res[:, 1:ny]\n",
    "        \n",
    "    res[0] = hx/2*res[0]\n",
    "    res[-1] = hx/2*res[-1]\n",
    "    res[1:nx] = hx*res[1:nx]\n",
    "        \n",
    "    T = np.sum(res)\n",
    "                \n",
    "            \n",
    "    \n",
    "    print('nx: %10d'%nx,' | ny: %10d'%ny,' | Approximation: %10.8f'%T, ' | number of function values: %10d'%((nx+1)*(ny+1)))\n",
    "    print('\\n')\n",
    "   "
   ]
  },
  {
   "cell_type": "code",
   "execution_count": 34,
   "id": "78065b15",
   "metadata": {},
   "outputs": [
    {
     "name": "stdout",
     "output_type": "stream",
     "text": [
      "nx:         10  | ny:         10  | Approximation: 0.79699319  | number of function values:        121\n",
      "\n",
      "\n",
      "nx:         10  | ny:         20  | Approximation: 0.79684533  | number of function values:        231\n",
      "\n",
      "\n",
      "nx:         10  | ny:         30  | Approximation: 0.79681795  | number of function values:        341\n",
      "\n",
      "\n",
      "nx:         10  | ny:         40  | Approximation: 0.79680837  | number of function values:        451\n",
      "\n",
      "\n",
      "nx:         10  | ny:         50  | Approximation: 0.79680393  | number of function values:        561\n",
      "\n",
      "\n",
      "nx:         20  | ny:         10  | Approximation: 0.79684533  | number of function values:        231\n",
      "\n",
      "\n",
      "nx:         20  | ny:         20  | Approximation: 0.79669787  | number of function values:        441\n",
      "\n",
      "\n",
      "nx:         20  | ny:         30  | Approximation: 0.79667056  | number of function values:        651\n",
      "\n",
      "\n",
      "nx:         20  | ny:         40  | Approximation: 0.79666100  | number of function values:        861\n",
      "\n",
      "\n",
      "nx:         20  | ny:         50  | Approximation: 0.79665658  | number of function values:       1071\n",
      "\n",
      "\n",
      "nx:         30  | ny:         10  | Approximation: 0.79681795  | number of function values:        341\n",
      "\n",
      "\n",
      "nx:         30  | ny:         20  | Approximation: 0.79667056  | number of function values:        651\n",
      "\n",
      "\n",
      "nx:         30  | ny:         30  | Approximation: 0.79664327  | number of function values:        961\n",
      "\n",
      "\n",
      "nx:         30  | ny:         40  | Approximation: 0.79663371  | number of function values:       1271\n",
      "\n",
      "\n",
      "nx:         30  | ny:         50  | Approximation: 0.79662929  | number of function values:       1581\n",
      "\n",
      "\n",
      "nx:         40  | ny:         10  | Approximation: 0.79680837  | number of function values:        451\n",
      "\n",
      "\n",
      "nx:         40  | ny:         20  | Approximation: 0.79666100  | number of function values:        861\n",
      "\n",
      "\n",
      "nx:         40  | ny:         30  | Approximation: 0.79663371  | number of function values:       1271\n",
      "\n",
      "\n",
      "nx:         40  | ny:         40  | Approximation: 0.79662416  | number of function values:       1681\n",
      "\n",
      "\n",
      "nx:         40  | ny:         50  | Approximation: 0.79661974  | number of function values:       2091\n",
      "\n",
      "\n",
      "nx:         50  | ny:         10  | Approximation: 0.79680393  | number of function values:        561\n",
      "\n",
      "\n",
      "nx:         50  | ny:         20  | Approximation: 0.79665658  | number of function values:       1071\n",
      "\n",
      "\n",
      "nx:         50  | ny:         30  | Approximation: 0.79662929  | number of function values:       1581\n",
      "\n",
      "\n",
      "nx:         50  | ny:         40  | Approximation: 0.79661974  | number of function values:       2091\n",
      "\n",
      "\n",
      "nx:         50  | ny:         50  | Approximation: 0.79661532  | number of function values:       2601\n",
      "\n",
      "\n"
     ]
    }
   ],
   "source": [
    "for nx in [10, 20, 30, 40, 50]:\n",
    "    for ny in [10, 20, 30, 40, 50]:\n",
    "        trapezoidal_T_2v1(0, 1, nx, ny, f)"
   ]
  },
  {
   "cell_type": "code",
   "execution_count": 35,
   "id": "f3434c79",
   "metadata": {},
   "outputs": [],
   "source": [
    "#x2 + y2 <= 1, x, y belongs to [0, 1]\n",
    "def trapezoidal_T_2v2(a,b,nx, ny, fun):\n",
    "    hx = (b-a)/nx\n",
    "\n",
    "    res = np.zeros([nx+1, ny+1])\n",
    "    for i in range(0, nx+1):\n",
    "        x = a+i*hx\n",
    "        hy =  math.sqrt((b-a)-x**2)/ny\n",
    "        for j in range(0, ny+1):\n",
    "            y = a+j*hy\n",
    "            res[i][j] = fun(x, y)\n",
    "        res[i][0] = hy/2*res[i][0]\n",
    "        res[i][-1] = hy/2*res[i][-1]\n",
    "        res[i][1:ny] = hy*res[i][1:ny]\n",
    "    \n",
    "        \n",
    "    res[0] = hx/2*res[0]\n",
    "    res[-1] = hx/2*res[-1]\n",
    "    res[1:nx] = hx*res[1:nx]\n",
    "        \n",
    "    T = np.sum(res)\n",
    "                \n",
    "            \n",
    "    print('nx: %10d'%nx,' | ny: %10d'%ny,' | Approximation: %10.8f'%T, ' | number of function values: %10d'%((nx+1)*(ny+1)))\n",
    "    print('\\n')\n",
    "   "
   ]
  },
  {
   "cell_type": "code",
   "execution_count": 36,
   "id": "6bc97b02",
   "metadata": {
    "scrolled": false
   },
   "outputs": [
    {
     "name": "stdout",
     "output_type": "stream",
     "text": [
      "nx:         10  | ny:         10  | Approximation: 0.66717431  | number of function values:        121\n",
      "\n",
      "\n",
      "nx:         10  | ny:         20  | Approximation: 0.66712440  | number of function values:        231\n",
      "\n",
      "\n",
      "nx:         10  | ny:         30  | Approximation: 0.66711516  | number of function values:        341\n",
      "\n",
      "\n",
      "nx:         10  | ny:         40  | Approximation: 0.66711192  | number of function values:        451\n",
      "\n",
      "\n",
      "nx:         10  | ny:         50  | Approximation: 0.66711043  | number of function values:        561\n",
      "\n",
      "\n",
      "nx:         20  | ny:         10  | Approximation: 0.67225734  | number of function values:        231\n",
      "\n",
      "\n",
      "nx:         20  | ny:         20  | Approximation: 0.67220732  | number of function values:        441\n",
      "\n",
      "\n",
      "nx:         20  | ny:         30  | Approximation: 0.67219805  | number of function values:        651\n",
      "\n",
      "\n",
      "nx:         20  | ny:         40  | Approximation: 0.67219481  | number of function values:        861\n",
      "\n",
      "\n",
      "nx:         20  | ny:         50  | Approximation: 0.67219331  | number of function values:       1071\n",
      "\n",
      "\n",
      "nx:         30  | ny:         10  | Approximation: 0.67358280  | number of function values:        341\n",
      "\n",
      "\n",
      "nx:         30  | ny:         20  | Approximation: 0.67353275  | number of function values:        651\n",
      "\n",
      "\n",
      "nx:         30  | ny:         30  | Approximation: 0.67352348  | number of function values:        961\n",
      "\n",
      "\n",
      "nx:         30  | ny:         40  | Approximation: 0.67352024  | number of function values:       1271\n",
      "\n",
      "\n",
      "nx:         30  | ny:         50  | Approximation: 0.67351874  | number of function values:       1581\n",
      "\n",
      "\n",
      "nx:         40  | ny:         10  | Approximation: 0.67414948  | number of function values:        451\n",
      "\n",
      "\n",
      "nx:         40  | ny:         20  | Approximation: 0.67409942  | number of function values:        861\n",
      "\n",
      "\n",
      "nx:         40  | ny:         30  | Approximation: 0.67409016  | number of function values:       1271\n",
      "\n",
      "\n",
      "nx:         40  | ny:         40  | Approximation: 0.67408691  | number of function values:       1681\n",
      "\n",
      "\n",
      "nx:         40  | ny:         50  | Approximation: 0.67408541  | number of function values:       2091\n",
      "\n",
      "\n",
      "nx:         50  | ny:         10  | Approximation: 0.67445207  | number of function values:        561\n",
      "\n",
      "\n",
      "nx:         50  | ny:         20  | Approximation: 0.67440202  | number of function values:       1071\n",
      "\n",
      "\n",
      "nx:         50  | ny:         30  | Approximation: 0.67439275  | number of function values:       1581\n",
      "\n",
      "\n",
      "nx:         50  | ny:         40  | Approximation: 0.67438950  | number of function values:       2091\n",
      "\n",
      "\n",
      "nx:         50  | ny:         50  | Approximation: 0.67438800  | number of function values:       2601\n",
      "\n",
      "\n"
     ]
    }
   ],
   "source": [
    "for nx in [10, 20, 30, 40, 50]:\n",
    "    for ny in [10, 20, 30, 40, 50]:\n",
    "        trapezoidal_T_2v2(0, 1, nx, ny, f)"
   ]
  },
  {
   "cell_type": "code",
   "execution_count": null,
   "id": "28f70dd5",
   "metadata": {},
   "outputs": [],
   "source": []
  }
 ],
 "metadata": {
  "kernelspec": {
   "display_name": "Python 3",
   "language": "python",
   "name": "python3"
  },
  "language_info": {
   "codemirror_mode": {
    "name": "ipython",
    "version": 3
   },
   "file_extension": ".py",
   "mimetype": "text/x-python",
   "name": "python",
   "nbconvert_exporter": "python",
   "pygments_lexer": "ipython3",
   "version": "3.8.8"
  }
 },
 "nbformat": 4,
 "nbformat_minor": 5
}
