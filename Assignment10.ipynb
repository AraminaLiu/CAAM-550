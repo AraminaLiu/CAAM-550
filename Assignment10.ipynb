{
 "cells": [
  {
   "cell_type": "code",
   "execution_count": 2,
   "id": "55c4e0af",
   "metadata": {},
   "outputs": [],
   "source": [
    "import numpy as np\n",
    "import math\n",
    "from tabulate import tabulate"
   ]
  },
  {
   "cell_type": "markdown",
   "id": "f9a411b8",
   "metadata": {},
   "source": [
    "# Problem1"
   ]
  },
  {
   "cell_type": "markdown",
   "id": "da3bc045",
   "metadata": {},
   "source": [
    "### i"
   ]
  },
  {
   "cell_type": "markdown",
   "id": "ffaddf45",
   "metadata": {},
   "source": [
    "#### $T(h) = \\frac{h}{2}f(a) + h \\sum_{i=1}^{n-1}f(a+ih) + \\frac{h}{2}f(b)$"
   ]
  },
  {
   "cell_type": "code",
   "execution_count": 19,
   "id": "3acb40e4",
   "metadata": {},
   "outputs": [],
   "source": [
    "def trapezoidal(a,b,func,n):\n",
    "    h = (b-a)/n\n",
    "    fa = func(a)\n",
    "    fb = func(b)\n",
    "    T = 0\n",
    "    \n",
    "    for i in range(1,n):\n",
    "        T = T + func(a+i*h)\n",
    "    T = h/2*(fa+fb) + h*T\n",
    "        \n",
    "    return T"
   ]
  },
  {
   "cell_type": "code",
   "execution_count": 30,
   "id": "d18687e5",
   "metadata": {},
   "outputs": [],
   "source": [
    "def Romberg(a,b,func,tol):\n",
    "    err = math.inf\n",
    "    h = b-a\n",
    "    i = 1\n",
    "    n = 1\n",
    "    T = np.zeros((15,15))\n",
    "    T[0][0] = trapezoidal(a,b,func,1)\n",
    "    num = 0\n",
    "    \n",
    "    while err > tol:\n",
    "        n = 2*n\n",
    "        T[i][0] = trapezoidal(a,b,func,n)\n",
    "        \n",
    "        for k in range(1,i+1):\n",
    "            T[i][k] = T[i][k-1] + (T[i][k-1] - T[i-1][k-1])/(4**k-1)\n",
    "        \n",
    "        err = abs((T[i][i-1] - T[i][i])/T[i][i])\n",
    "        i = i+1\n",
    "    \n",
    "    T = T[:i,:i]\n",
    "    \n",
    "    for j in range(i):\n",
    "        num += 2**j + 1\n",
    "    \n",
    "    return T,num"
   ]
  },
  {
   "cell_type": "markdown",
   "id": "61d647f5",
   "metadata": {},
   "source": [
    "### ii"
   ]
  },
  {
   "cell_type": "code",
   "execution_count": 31,
   "id": "c24cbd6a",
   "metadata": {},
   "outputs": [],
   "source": [
    "def func1(x):\n",
    "    return x/(1+x**2)\n",
    "\n",
    "def func2(x):\n",
    "    return 1/(1-x)\n",
    "\n",
    "def func3(x):\n",
    "    return (1/math.sqrt(1-0.5*(math.sin(x))**2))\n",
    "\n",
    "def func4(x):\n",
    "    return (1/math.sqrt(1-0.8*(math.sin(x))**2))\n",
    "\n",
    "def func5(x):\n",
    "    return (1/math.sqrt(1-0.95*(math.sin(x))**2))"
   ]
  },
  {
   "cell_type": "code",
   "execution_count": null,
   "id": "28e6dcae",
   "metadata": {},
   "outputs": [],
   "source": []
  },
  {
   "cell_type": "code",
   "execution_count": 41,
   "id": "33e537c9",
   "metadata": {},
   "outputs": [],
   "source": [
    "def trapezoidal_T(a,b,func,tol):\n",
    "    rerr = math.inf\n",
    "    h = b-a\n",
    "    n = 1\n",
    "    fa = func(a)\n",
    "    fb = func(b)\n",
    "    num = 0\n",
    "    \n",
    "    while rerr >= tol:\n",
    "        T = 0\n",
    "        for i in range(1,n):\n",
    "            T = T + func(a+i*h)\n",
    "        T = h/2*(fa+fb) + h*T\n",
    "        \n",
    "        num += n+1\n",
    "        \n",
    "        h = h/2\n",
    "        n = 2*n\n",
    "        T_ = 0\n",
    "        for i in range(1,n):\n",
    "            T_ = T_ + func(a+i*h)\n",
    "        T_ = h/2*(fa+fb) + h*T_\n",
    "        \n",
    "        aerr = abs(T-T_)\n",
    "        rerr = abs(T-T_)/abs(T_)\n",
    "        \n",
    "    return T_, num"
   ]
  },
  {
   "cell_type": "code",
   "execution_count": 42,
   "id": "62cc79f2",
   "metadata": {},
   "outputs": [],
   "source": [
    "def trapezoidal_S(a,b,func,tol):\n",
    "    rerr = math.inf\n",
    "    h = b-a\n",
    "    n = 1\n",
    "    fa = func(a)\n",
    "    fb = func(b)\n",
    "    num = 0\n",
    "    \n",
    "    while rerr >= tol:\n",
    "        T1 = 0\n",
    "        T2 = 0\n",
    "        for i in range(n):\n",
    "            T1 = T1 + func(a+(i+0.5)*h)\n",
    "        for i in range(1,n):\n",
    "            T2 = T2 + func(a+i*h)\n",
    "            \n",
    "        T = h/6*(fa+fb) + 2*h/3*T1 + h/3*T2\n",
    "        \n",
    "        num += 2*n -1\n",
    "        \n",
    "        h = h/2\n",
    "        n = 2*n\n",
    "        T1_ = 0\n",
    "        T2_ = 0\n",
    "        for i in range(n):\n",
    "            T1_ = T1_ + func(a+(i+0.5)*h)\n",
    "        for i in range(1,n):\n",
    "            T2_ = T2_ + func(a+i*h)\n",
    "        T_ = h/2*(fa+fb) + 2*h/3*T1_ + h/3*T2_\n",
    "        \n",
    "        aerr = abs(T-T_)\n",
    "        rerr = abs(T-T_)/abs(T_)\n",
    "        \n",
    "    return T_, num"
   ]
  },
  {
   "cell_type": "code",
   "execution_count": 43,
   "id": "ed4e9db0",
   "metadata": {},
   "outputs": [],
   "source": [
    "tol=1.e-6"
   ]
  },
  {
   "cell_type": "code",
   "execution_count": 46,
   "id": "5ca8dd66",
   "metadata": {},
   "outputs": [],
   "source": [
    "def res_print(a,b,f,tol):\n",
    "    (Tr,numr) = Romberg(a,b,f,tol)\n",
    "    (Tt,numt) = trapezoidal_T(a,b,f,tol)\n",
    "    (Ts,nums) = trapezoidal_S(a,b,f,tol)\n",
    "    \n",
    "    n = Tr.shape[0]\n",
    "    hs = []\n",
    "    h = b-a\n",
    "    for i in range(n):\n",
    "        hs.append(h)\n",
    "        h = h/2\n",
    "    info = {\"h\": hs, \"Romberg Matrix\": Tr}\n",
    "    print(tabulate(info, headers='keys'))\n",
    "    print()\n",
    "    print(\"Romberg intergration:\")\n",
    "    print(\"The computed integral is \", Tr[-1][-1], \" and the total number of function evaluation needed to compute is \", numr)\n",
    "    print(\"Trapezoidal Rule:\")\n",
    "    print(\"The computed integral is \", Tt, \" and the total number of function evaluation needed to compute is \", numt)\n",
    "    print(\"Simpson's Rule:\")\n",
    "    print(\"The computed integral is \", Ts, \" and the total number of function evaluation needed to compute is \", nums)"
   ]
  },
  {
   "cell_type": "markdown",
   "id": "49fd387d",
   "metadata": {},
   "source": [
    "### $\\int_0^3{\\frac{x}{1+x^2}}dx = \\frac{1}{2}log(10)$"
   ]
  },
  {
   "cell_type": "code",
   "execution_count": 47,
   "id": "6d7a4550",
   "metadata": {
    "scrolled": true
   },
   "outputs": [
    {
     "name": "stdout",
     "output_type": "stream",
     "text": [
      "      h  Romberg Matrix\n",
      "-------  -------------------------------------------------------------------\n",
      "3        [0.45 0.   0.   0.   0.   0.  ]\n",
      "1.5      [0.91730769 1.07307692 0.         0.         0.         0.        ]\n",
      "0.75     [1.09700436 1.15690325 1.16249167 0.         0.         0.        ]\n",
      "0.375    [1.13845857 1.15227663 1.15196819 1.15180115 0.         0.        ]\n",
      "0.1875   [1.14811803 1.15133786 1.15127527 1.15126427 1.15126217 0.        ]\n",
      "0.09375  [1.15050089 1.15129517 1.15129232 1.1512926  1.15129271 1.15129274]\n",
      "\n",
      "Romberg intergration:\n",
      "The computed integral is  1.1512927361761311  and the total number of function evaluation needed to compute is  69\n",
      "Trapezoidal Rule:\n",
      "The computed integral is  1.1512923533779378  and the total number of function evaluation needed to compute is  2058\n",
      "Simpson's Rule:\n",
      "The computed integral is  1.151293690906201  and the total number of function evaluation needed to compute is  524268\n"
     ]
    }
   ],
   "source": [
    "res_print(0,3,func1,tol)"
   ]
  },
  {
   "cell_type": "markdown",
   "id": "7e4aae4f",
   "metadata": {},
   "source": [
    "### $\\int_0^{0.95}{\\frac{1}{1-x}}dx = log(20)$"
   ]
  },
  {
   "cell_type": "code",
   "execution_count": 48,
   "id": "20c9c1a9",
   "metadata": {},
   "outputs": [
    {
     "name": "stdout",
     "output_type": "stream",
     "text": [
      "        h  Romberg Matrix\n",
      "---------  ------------------------------------------------------------------\n",
      "0.95       [9.975 0.    0.    0.    0.    0.    0.   ]\n",
      "0.475      [5.8922619  4.53134921 0.         0.         0.         0.\n",
      "            0.        ]\n",
      "0.2375     [4.08369332 3.48083712 3.41080298 0.         0.         0.\n",
      "            0.        ]\n",
      "0.11875    [3.35707585 3.11487002 3.09047222 3.0853876  0.         0.\n",
      "            0.        ]\n",
      "0.059375   [3.10177198 3.01667069 3.01012407 3.0088487  3.00854855 0.\n",
      "            0.        ]\n",
      "0.0296875  [3.0241335  2.99825401 2.99702623 2.99681833 2.99677115 2.99675964\n",
      "            0.        ]\n",
      "0.0148437  [3.00299624 2.99595049 2.99579692 2.99577741 2.99577333 2.99577235\n",
      "            2.99577211]\n",
      "\n",
      "Romberg intergration:\n",
      "The computed integral is  2.9957721108751363  and the total number of function evaluation needed to compute is  134\n",
      "Trapezoidal Rule:\n",
      "The computed integral is  2.9957327207096607  and the total number of function evaluation needed to compute is  8204\n",
      "Simpson's Rule:\n",
      "The computed integral is  2.995733859037574  and the total number of function evaluation needed to compute is  8388584\n"
     ]
    }
   ],
   "source": [
    "res_print(0,0.95,func2,tol)"
   ]
  },
  {
   "cell_type": "markdown",
   "id": "99d21ce7",
   "metadata": {},
   "source": [
    "### $\\int_0^{\\pi/2}{\\frac{1}{\\sqrt{1-msin^2(x)}}}dx, m=0.5$"
   ]
  },
  {
   "cell_type": "code",
   "execution_count": 49,
   "id": "eafde1e8",
   "metadata": {},
   "outputs": [
    {
     "name": "stdout",
     "output_type": "stream",
     "text": [
      "        h  Romberg Matrix\n",
      "---------  --------------------------------------------------------\n",
      "1.5708     [1.8961189 0.        0.        0.        0.       ]\n",
      "0.785398   [1.85495913 1.84123921 0.         0.         0.        ]\n",
      "0.392699   [1.85407523 1.85378059 1.85461669 0.         0.        ]\n",
      "0.19635    [1.85407468 1.85407449 1.85409409 1.85408579 0.        ]\n",
      "0.0981748  [1.85407468 1.85407468 1.85407469 1.85407438 1.85407434]\n",
      "\n",
      "Romberg intergration:\n",
      "The computed integral is  1.8540743368882955  and the total number of function evaluation needed to compute is  36\n",
      "Trapezoidal Rule:\n",
      "The computed integral is  1.8540746773016668  and the total number of function evaluation needed to compute is  10\n",
      "Simpson's Rule:\n",
      "The computed integral is  1.8540758828212553  and the total number of function evaluation needed to compute is  2097130\n"
     ]
    }
   ],
   "source": [
    "res_print(0,math.pi/2,func3,tol)"
   ]
  },
  {
   "cell_type": "markdown",
   "id": "b8c42a05",
   "metadata": {},
   "source": [
    "### $\\int_0^{\\pi/2}{\\frac{1}{\\sqrt{1-msin^2(x)}}}dx, m=0.8$"
   ]
  },
  {
   "cell_type": "code",
   "execution_count": 50,
   "id": "75508ab3",
   "metadata": {},
   "outputs": [
    {
     "name": "stdout",
     "output_type": "stream",
     "text": [
      "        h  Romberg Matrix\n",
      "---------  --------------------------------------------------------\n",
      "1.5708     [2.54160185 0.         0.         0.         0.        ]\n",
      "0.785398   [2.28474559 2.19912684 0.         0.         0.        ]\n",
      "0.392699   [2.25762153 2.24858017 2.25187706 0.         0.        ]\n",
      "0.19635    [2.25720546 2.25706677 2.25763255 2.2577239  0.        ]\n",
      "0.0981748  [2.25720533 2.25720528 2.25721452 2.25720788 2.25720586]\n",
      "\n",
      "Romberg intergration:\n",
      "The computed integral is  2.2572058568489357  and the total number of function evaluation needed to compute is  36\n",
      "Trapezoidal Rule:\n",
      "The computed integral is  2.257205326820873  and the total number of function evaluation needed to compute is  19\n",
      "Simpson's Rule:\n",
      "The computed integral is  2.2572069427277994  and the total number of function evaluation needed to compute is  2097130\n"
     ]
    }
   ],
   "source": [
    "res_print(0,math.pi/2,func4,tol)"
   ]
  },
  {
   "cell_type": "markdown",
   "id": "c718276e",
   "metadata": {},
   "source": [
    "### $\\int_0^{\\pi/2}{\\frac{1}{\\sqrt{1-msin^2(x)}}}dx, m=0.95$"
   ]
  },
  {
   "cell_type": "code",
   "execution_count": 51,
   "id": "6ad60514",
   "metadata": {},
   "outputs": [
    {
     "name": "stdout",
     "output_type": "stream",
     "text": [
      "        h  Romberg Matrix\n",
      "---------  -------------------------------------------------------------------\n",
      "1.5708     [4.29780553 0.         0.         0.         0.         0.        ]\n",
      "0.785398   [3.23285521 2.87787177 0.         0.         0.         0.        ]\n",
      "0.392699   [2.94266735 2.84593806 2.84380914 0.         0.         0.        ]\n",
      "0.19635    [2.90897328 2.89774192 2.90119551 2.90210641 0.         0.        ]\n",
      "0.0981748  [2.90833756 2.90812566 2.90881791 2.9089389  2.90896569 0.        ]\n",
      "0.0490874  [2.90833725 2.90833714 2.90835124 2.90834384 2.9083415  2.90834089]\n",
      "\n",
      "Romberg intergration:\n",
      "The computed integral is  2.9083408922712546  and the total number of function evaluation needed to compute is  69\n",
      "Trapezoidal Rule:\n",
      "The computed integral is  2.908337248444657  and the total number of function evaluation needed to compute is  36\n",
      "Simpson's Rule:\n",
      "The computed integral is  2.908339980915769  and the total number of function evaluation needed to compute is  2097130\n"
     ]
    }
   ],
   "source": [
    "res_print(0,math.pi/2,func5,tol)"
   ]
  },
  {
   "cell_type": "markdown",
   "id": "4295a1e5",
   "metadata": {},
   "source": [
    "# Problem2"
   ]
  },
  {
   "cell_type": "markdown",
   "id": "ee916cc6",
   "metadata": {},
   "source": [
    "### i."
   ]
  },
  {
   "cell_type": "markdown",
   "id": "190ac601",
   "metadata": {},
   "source": [
    "#### $\\hat{f}(x) = f(x) + \\delta(x)$ where $|\\delta(x) |\\leq \\delta$ and $T(h) = \\frac{h}{2}f(a) + h \\sum_{i=1}^{n-1}f(a+ih) + \\frac{h}{2}f(b)$\n",
    "#### When inexact function evaluations are used, $T(h) = \\frac{h}{2}[f(a)+\\delta(a)] + h \\sum_{i=1}^{n-1}[f(a+ih)+\\delta(a+ih)] + \\frac{h}{2}[f(b)+\\delta(b)]$\n",
    "#### $|\\int_a^b{f(x)}dx - T(h)|$\n",
    "#### $= |\\int_a^b{f(x)}dx - \\{\\frac{h}{2}[f(a)+\\delta(a)] + h \\sum_{i=1}^{n-1}[f(a+ih)+\\delta(a+ih)] + \\frac{h}{2}[f(b)+\\delta(b)]\\}|$\n",
    "#### $\\leq |\\int_a^b{f(x)}dx - [\\frac{h}{2}f(a) + h \\sum_{i=1}^{n-1}f(a+ih) + \\frac{h}{2}f(b)]| + |\\frac{h}{2}\\delta(a) + h \\sum_{i=1}^{n-1}\\delta(a+ih) + \\frac{h}{2}\\delta(b)|$\n",
    "#### $\\leq \\frac{b-a}{12}h^2 max_{[a,b]}{|f''(x)|} + nh\\delta$\n",
    "#### $= \\frac{b-a}{12}h^2 max_{[a,b]}{|f''(x)|} + (b-a)\\delta$"
   ]
  },
  {
   "cell_type": "markdown",
   "id": "d8f05d31",
   "metadata": {},
   "source": [
    "### ii."
   ]
  },
  {
   "cell_type": "markdown",
   "id": "0b2e7e1b",
   "metadata": {},
   "source": [
    "#### Instead of $f(x) = x^{5/2}$, we use $\\hat{h}(x) = x^{5/2} + 0.01r(x)$"
   ]
  },
  {
   "cell_type": "code",
   "execution_count": 15,
   "id": "8135b4ce",
   "metadata": {},
   "outputs": [],
   "source": [
    "def func(x):\n",
    "    return x**(5/2)"
   ]
  },
  {
   "cell_type": "code",
   "execution_count": 16,
   "id": "7b06f243",
   "metadata": {},
   "outputs": [],
   "source": [
    "def trapezoidal_T(a,b,func,tol):\n",
    "    rerr = math.inf\n",
    "    h = b-a\n",
    "    n = 1\n",
    "    fa = func(a)\n",
    "    fb = func(b)\n",
    "    h_p = []\n",
    "    T_p = []\n",
    "    rerr_p = []\n",
    "    n_p = []\n",
    "    \n",
    "    while rerr >= tol:\n",
    "        x = np.linspace(a, b, n+1)\n",
    "        Ta = func(x) + 0.01 * np.random.randn(1, n+1)\n",
    "        T = h * np.sum(Ta)- h/2*(fa+fb)\n",
    "        \n",
    "        h = h/2\n",
    "        n = 2*n\n",
    "        x = np.linspace(a, b, n+1)\n",
    "        Ta_ = func(x) + 0.01 * np.random.randn(1, n+1)\n",
    "        T_ = h * np.sum(Ta_)- h/2*(fa+fb)\n",
    "        \n",
    "        aerr = abs(T-T_)\n",
    "        rerr = abs(T-T_)/abs(T_)\n",
    "        \n",
    "        n_p.append(n)\n",
    "        h_p.append(h)\n",
    "        T_p.append(T_)\n",
    "        rerr_p.append(rerr)\n",
    "    \n",
    "    info = {'n': n_p, 'h/2': h_p, 'T(h/2)': T_p, '|T(h)-T(h/2)|/|T(h/2)|': rerr_p}\n",
    "    print(tabulate(info, headers='keys'))"
   ]
  },
  {
   "cell_type": "code",
   "execution_count": 18,
   "id": "94531753",
   "metadata": {
    "scrolled": false
   },
   "outputs": [
    {
     "name": "stdout",
     "output_type": "stream",
     "text": [
      "       n          h/2    T(h/2)    |T(h)-T(h/2)|/|T(h/2)|\n",
      "--------  -----------  --------  ------------------------\n",
      "       2  0.5          0.324912               0.502184\n",
      "       4  0.25         0.302901               0.145075\n",
      "       8  0.125        0.289021               0.00865121\n",
      "      16  0.0625       0.287902               0.0134553\n",
      "      32  0.03125      0.284277               0.00485818\n",
      "      64  0.015625     0.284564               0.0106843\n",
      "     128  0.0078125    0.285576               0.0055625\n",
      "     256  0.00390625   0.286349               0.00500864\n",
      "     512  0.00195312   0.285737               0.00125452\n",
      "    1024  0.000976562  0.28574                0.00164163\n",
      "    2048  0.000488281  0.285768               0.000738615\n",
      "    4096  0.000244141  0.285784               0.000223709\n",
      "    8192  0.00012207   0.285664               1.94175e-05\n",
      "   16384  6.10352e-05  0.285837               0.000993982\n",
      "   32768  3.05176e-05  0.285702               6.3564e-05\n",
      "   65536  1.52588e-05  0.285674               0.00013338\n",
      "  131072  7.62939e-06  0.28576                0.000196431\n",
      "  262144  3.8147e-06   0.285713               0.000118838\n",
      "  524288  1.90735e-06  0.285682               0.000166831\n",
      " 1048576  9.53674e-07  0.285718               2.32618e-05\n",
      " 2097152  4.76837e-07  0.285723               1.40034e-05\n",
      " 4194304  2.38419e-07  0.285705               4.51635e-05\n",
      " 8388608  1.19209e-07  0.285712               1.01196e-05\n",
      "16777216  5.96046e-08  0.285714               1.47685e-05\n",
      "33554432  2.98023e-08  0.285713               1.30369e-05\n",
      "67108864  1.49012e-08  0.285714               6.36416e-07\n"
     ]
    }
   ],
   "source": [
    "trapezoidal_T(0,1,func,1.e-6)"
   ]
  },
  {
   "cell_type": "markdown",
   "id": "6e6bd9e0",
   "metadata": {},
   "source": [
    "# Problem3"
   ]
  },
  {
   "cell_type": "code",
   "execution_count": 13,
   "id": "902ab02d",
   "metadata": {},
   "outputs": [],
   "source": [
    "def func(x,y):\n",
    "    return math.exp(-x*y)"
   ]
  },
  {
   "cell_type": "markdown",
   "id": "7719b4b5",
   "metadata": {},
   "source": [
    "### i.  $\\Omega=\\{ (x,y) ∈ R2:x,y∈ [0,1]\\}$, the unit square"
   ]
  },
  {
   "cell_type": "code",
   "execution_count": 14,
   "id": "49875180",
   "metadata": {},
   "outputs": [],
   "source": [
    "def double_trapezoidal(x0,xn,y0,yn,nx,ny):\n",
    "    #calcaulte h for x,y\n",
    "    hx = (xn-x0)/nx\n",
    "    hy = (yn-y0)/ny\n",
    "    F = np.zeros((nx+1,ny+1))\n",
    "    \n",
    "    #generate matrix F with function value for each pair of x,y\n",
    "    for j in range(ny+1):\n",
    "        for i in range(nx+1):\n",
    "            F[i][j] = func(x0+i*hx, y0+j*hy)\n",
    "    \n",
    "    #calculate the sum of entries in four boudaries\n",
    "    res1 = 0\n",
    "    for i in range(1,nx):\n",
    "        res1 += F[i][0] + F[i][-1]\n",
    "    for j in range(1,ny):\n",
    "        res1 += F[0][j] + F[-1][j]\n",
    "    \n",
    "    #calculate the sum of the rest entries\n",
    "    F_ = F[1:nx,1:ny]\n",
    "    res2 = 0\n",
    "    for i in range(nx-1):\n",
    "        for j in range(ny-1):\n",
    "            res2 += F_[i][j]\n",
    "            \n",
    "    #calculate the integral with 3 kind of values\n",
    "    integral = hx*hy/4*((F[0][0] + F[0][-1] + F[-1][0] + F[-1][-1]) + 2*res1 + 4*res2)\n",
    "    \n",
    "    #calculate the number of function value required\n",
    "    tn = (nx+1)*(ny+1)\n",
    "\n",
    "    return integral, tn"
   ]
  },
  {
   "cell_type": "code",
   "execution_count": 15,
   "id": "d5b72775",
   "metadata": {
    "scrolled": false
   },
   "outputs": [
    {
     "name": "stdout",
     "output_type": "stream",
     "text": [
      "For nx =  20 , ny =  20 : \n",
      "The approximate value of the integral obtained by my approach is:  0.7966978731970396\n",
      " and the number of function value required is:  441\n",
      "\n",
      "For nx =  20 , ny =  50 : \n",
      "The approximate value of the integral obtained by my approach is:  0.7966565800926085\n",
      " and the number of function value required is:  1071\n",
      "\n",
      "For nx =  20 , ny =  100 : \n",
      "The approximate value of the integral obtained by my approach is:  0.7966506809411552\n",
      " and the number of function value required is:  2121\n",
      "\n",
      "For nx =  50 , ny =  20 : \n",
      "The approximate value of the integral obtained by my approach is:  0.7966565800926095\n",
      " and the number of function value required is:  1071\n",
      "\n",
      "For nx =  50 , ny =  50 : \n",
      "The approximate value of the integral obtained by my approach is:  0.796615317606477\n",
      " and the number of function value required is:  2601\n",
      "\n",
      "For nx =  50 , ny =  100 : \n",
      "The approximate value of the integral obtained by my approach is:  0.7966094228294618\n",
      " and the number of function value required is:  5151\n",
      "\n",
      "For nx =  100 , ny =  20 : \n",
      "The approximate value of the integral obtained by my approach is:  0.7966506809411547\n",
      " and the number of function value required is:  2121\n",
      "\n",
      "For nx =  100 , ny =  50 : \n",
      "The approximate value of the integral obtained by my approach is:  0.7966094228294615\n",
      " and the number of function value required is:  5151\n",
      "\n",
      "For nx =  100 , ny =  100 : \n",
      "The approximate value of the integral obtained by my approach is:  0.7966035286774321\n",
      " and the number of function value required is:  10201\n",
      "\n"
     ]
    }
   ],
   "source": [
    "x0=0\n",
    "y0=0\n",
    "xn=1\n",
    "yn=1\n",
    "for nx in (20,50,100):\n",
    "    for ny in (20,50,100):\n",
    "        (res, tn) = double_trapezoidal(x0,xn,y0,yn,nx,ny)\n",
    "        print(\"For nx = \",nx,\", ny = \", ny, \": \")\n",
    "        print(\"The approximate value of the integral obtained by my approach is: \", res)\n",
    "        print(\" and the number of function value required is: \", tn)\n",
    "        print()"
   ]
  },
  {
   "cell_type": "markdown",
   "id": "983f7352",
   "metadata": {},
   "source": [
    "### ii.  $\\Omega=\\{ (x,y) ∈ R2:x^2+y^2 \\leq 1, x,y\\geq0\\}$, the quarter of the unit disk lying in the first quadrant."
   ]
  },
  {
   "cell_type": "code",
   "execution_count": 16,
   "id": "cdfecc86",
   "metadata": {},
   "outputs": [],
   "source": [
    "def double_trapezoidal2(x0,xn,y0,yn,nx,ny):\n",
    "    #calcaulte h for x,y\n",
    "    hx = (xn-x0)/nx\n",
    "    hy = (yn-y0)/ny\n",
    "    F = np.zeros((nx+1,ny+1))\n",
    "    \n",
    "    #generate matrix F with function value for each pair of x,y while y depends on value of x\n",
    "    for i in range(nx+1):\n",
    "        ymax = math.sqrt(1-(i*hx)**2)\n",
    "        for j in range(ny+1):\n",
    "            if j*hy <= ymax:\n",
    "                F[i][j] = func(x0+i*hx, y0+j*hy)\n",
    "    \n",
    "    #calculate the sum of entries in four boudaries\n",
    "    res1 = 0\n",
    "    for i in range(1,nx):\n",
    "        res1 += F[i][0] + F[i][-1]\n",
    "    for j in range(1,ny):\n",
    "        res1 += F[0][j] + F[-1][j]\n",
    "      \n",
    "    #calculate the sum of the rest entries\n",
    "    F_ = F[1:nx,1:ny]\n",
    "    res2 = 0\n",
    "    for i in range(nx-1):\n",
    "        for j in range(ny-1):\n",
    "            res2 += F_[i][j]\n",
    "            \n",
    "    #calculate the integral with 3 kind of values       \n",
    "    integral = hx*hy/4*((F[0][0] + F[0][-1] + F[-1][0] + F[-1][-1]) + 2*res1 + 4*res2)\n",
    "    \n",
    "    #calculate the number of funciton value required\n",
    "    tn = 0\n",
    "    for i in range(nx+1):\n",
    "        for j in range(ny+1):\n",
    "            if F[i][j]!=0:\n",
    "                tn += 1\n",
    "\n",
    "    return  integral,tn"
   ]
  },
  {
   "cell_type": "code",
   "execution_count": 17,
   "id": "0703f5b5",
   "metadata": {},
   "outputs": [
    {
     "name": "stdout",
     "output_type": "stream",
     "text": [
      "For nx =  20 , ny =  20 : \n",
      "The approximate value of the integral obtained by my approach is:  0.6700897026340855\n",
      " and the number of function value required is:  333\n",
      "\n",
      "For nx =  20 , ny =  50 : \n",
      "The approximate value of the integral obtained by my approach is:  0.6698171322510547\n",
      " and the number of function value required is:  815\n",
      "\n",
      "For nx =  20 , ny =  100 : \n",
      "The approximate value of the integral obtained by my approach is:  0.6712998382003065\n",
      " and the number of function value required is:  1623\n",
      "\n",
      "For nx =  50 , ny =  20 : \n",
      "The approximate value of the integral obtained by my approach is:  0.6704359156428613\n",
      " and the number of function value required is:  816\n",
      "\n",
      "For nx =  50 , ny =  50 : \n",
      "The approximate value of the integral obtained by my approach is:  0.6737805827976127\n",
      " and the number of function value required is:  2011\n",
      "\n",
      "For nx =  50 , ny =  100 : \n",
      "The approximate value of the integral obtained by my approach is:  0.6744755023607294\n",
      " and the number of function value required is:  4000\n",
      "\n",
      "For nx =  100 , ny =  20 : \n",
      "The approximate value of the integral obtained by my approach is:  0.6716092298962091\n",
      " and the number of function value required is:  1624\n",
      "\n",
      "For nx =  100 , ny =  50 : \n",
      "The approximate value of the integral obtained by my approach is:  0.6744755023607294\n",
      " and the number of function value required is:  4000\n",
      "\n",
      "For nx =  100 , ny =  100 : \n",
      "The approximate value of the integral obtained by my approach is:  0.674951297403076\n",
      " and the number of function value required is:  7954\n",
      "\n"
     ]
    }
   ],
   "source": [
    "x0=0\n",
    "y0=0\n",
    "xn=1\n",
    "yn=1\n",
    "for nx in (20,50,100):\n",
    "    for ny in (20,50,100):\n",
    "        (res,tn) = double_trapezoidal2(x0,xn,y0,yn,nx,ny)\n",
    "        print(\"For nx = \",nx,\", ny = \", ny, \": \")\n",
    "        print(\"The approximate value of the integral obtained by my approach is: \", res)\n",
    "        print(\" and the number of function value required is: \", tn)\n",
    "        print()"
   ]
  },
  {
   "cell_type": "markdown",
   "id": "662e4a1d",
   "metadata": {},
   "source": [
    "# Problem4"
   ]
  },
  {
   "cell_type": "markdown",
   "id": "bb616359",
   "metadata": {},
   "source": [
    "#### $T(h) = \\frac{h}{2}f(a) + h \\sum_{i=1}^{n-1}f(a+ih) + \\frac{h}{2}f(b)$"
   ]
  },
  {
   "cell_type": "markdown",
   "id": "ada92efe",
   "metadata": {},
   "source": [
    "#### $S(h)=\\frac{h}{6}f(a) + \\frac{2h}{3} \\sum_{i=0}^{n-1}f(a+(i+\\frac{1}{2}h)) + \\frac{h}{3} \\sum_{i=1}^{n-1}f(a+ih) + \\frac{f}{6}f(b)$"
   ]
  },
  {
   "cell_type": "markdown",
   "id": "33dbdf73",
   "metadata": {},
   "source": [
    "#### Since we know $T_{0,0} = T(h) = \\frac{h}{2}f(a) + h \\sum_{i=1}^{n-1}f(a+ih) + \\frac{h}{2}f(b)$ and $T_{1,0} = T(\\frac{h}{2}) = \\frac{h}{4}f(a) + \\frac{h}{2} \\sum_{i=1}^{n-1}f(a+i\\frac{h}{2}) + \\frac{h}{4}f(b)$\n",
    "#### Then we get:\n",
    "#### $T_{1,1} = T_{1,0} + \\frac{T_{1,0} - T_{0,0}}{4-1}$\n",
    "#### $= \\frac{4}{3}T_{1,0} - \\frac{1}{3}T_{0,0} $\n",
    "#### $= \\frac{h}{3}f(a) + \\frac{2h}{3} \\sum_{i=1}^{n-1} f(a + i\\frac{h}{2}) + \\frac{h}{3}f(b) - \\frac{h}{6}f(a) - \\frac{h}{3} \\sum_{i=1}^{n-1}f(a+ih) - \\frac{h}{6}f(b)$\n",
    "#### $= \\frac{h}{6}f(a) + \\frac{2h}{3} \\sum_{i=1}^{n-1} f(a + i\\frac{h}{2}) - \\frac{h}{3} \\sum_{i=1}^{n-1}f(a+ih) + \\frac{h}{6}f(b)$\n",
    "#### $= S(h)$"
   ]
  }
 ],
 "metadata": {
  "kernelspec": {
   "display_name": "Python 3",
   "language": "python",
   "name": "python3"
  },
  "language_info": {
   "codemirror_mode": {
    "name": "ipython",
    "version": 3
   },
   "file_extension": ".py",
   "mimetype": "text/x-python",
   "name": "python",
   "nbconvert_exporter": "python",
   "pygments_lexer": "ipython3",
   "version": "3.8.8"
  }
 },
 "nbformat": 4,
 "nbformat_minor": 5
}
