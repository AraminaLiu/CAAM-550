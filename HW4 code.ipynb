{
 "cells": [
  {
   "cell_type": "code",
   "execution_count": 17,
   "id": "a698afdb",
   "metadata": {},
   "outputs": [],
   "source": [
    "import cmath\n",
    "import math\n",
    "import numpy as np\n",
    "import numpy.random as rand"
   ]
  },
  {
   "cell_type": "markdown",
   "id": "1c4add37",
   "metadata": {},
   "source": [
    "Problem 2"
   ]
  },
  {
   "cell_type": "code",
   "execution_count": 18,
   "id": "30134f53",
   "metadata": {},
   "outputs": [],
   "source": [
    "def givens_qr(A):\n",
    "    m, n = np.shape(A)   \n",
    "    #m is the number of row, n is the number of column in matrix A\n",
    "    Q = np.identity(m)   \n",
    "    #initialize Q with identity matrix \n",
    "    R = A                \n",
    "    #initialize R with A\n",
    "    G = np.identity(m)   \n",
    "    #initialize G with identity matrix\n",
    "    for j in range(n):   \n",
    "    #zero out the subdiagonal entries from left to right, range from 0 to n-1\n",
    "        for i in range(m-1, j, -1):  \n",
    "    #zero out the subdiagonal entries from bottom to top, range from m-1 to j+1\n",
    "            #decide theta by the (i-1, j)th and (i, j)th entries of \n",
    "            #(i, j)th entry is meant to be eliminated\n",
    "            a = R[i-1, j]            \n",
    "            b = R[i, j]\n",
    "            #form the G matrix for this iteration\n",
    "            #(i-1, i-1)th and (i, i)th entry = cos(theta)\n",
    "            #(i, i-1)th entry = -sin(theta)\n",
    "            #(i-1, i)th entry = sin(theta)\n",
    "            G[i-1, i-1] = a/math.sqrt(a**2 + b**2)\n",
    "            G[i, i-1] = -b/math.sqrt(a**2+b**2)\n",
    "            G[i-1, i] = b/math.sqrt(a**2+b**2)\n",
    "            G[i, i] = a/math.sqrt(a**2 + b**2)\n",
    "            #update R = G*R\n",
    "            #update Q = G*Q\n",
    "            #update G to identity matrix\n",
    "            R = np.dot(G, R)\n",
    "            Q = np.dot(G, Q)\n",
    "            G = np.identity(m)\n",
    "    #Q transpose is the actual Q in QR decomposition, and R is the R \n",
    "    return np.linalg.norm(np.dot(Q.transpose(), R) - A) / np.linalg.norm(A), R"
   ]
  },
  {
   "cell_type": "code",
   "execution_count": 19,
   "id": "bf5f19e1",
   "metadata": {},
   "outputs": [],
   "source": [
    "A = rand.randn(10, 5)"
   ]
  },
  {
   "cell_type": "code",
   "execution_count": 20,
   "id": "1ed532f1",
   "metadata": {},
   "outputs": [
    {
     "data": {
      "text/plain": [
       "array([[ 2.18198016, -0.08908535, -0.78568297,  0.42276529,  0.5649318 ],\n",
       "       [-0.18361154, -0.36513348,  0.95226188,  0.05080728,  1.68652328],\n",
       "       [ 1.37863478,  1.61985767,  0.85854571, -1.19150371,  2.06145587],\n",
       "       [-1.41984886, -0.26599535,  0.14510773, -0.19820115, -0.09113088],\n",
       "       [-0.39579495,  0.27751161,  0.9864368 , -0.08149749,  0.0405058 ],\n",
       "       [ 1.335191  , -0.00768722, -0.30607293,  0.73223839,  2.04329868],\n",
       "       [-0.67648563,  0.47590893, -1.20968475,  1.41912007,  0.99144943],\n",
       "       [ 0.85056337, -0.39962511,  0.18088316,  0.75065606, -1.29691272],\n",
       "       [ 0.37439219,  1.46716254,  0.8068174 ,  0.00310486,  0.33764322],\n",
       "       [-1.03707121,  0.47554318,  0.16291215,  0.63387187,  2.4446085 ]])"
      ]
     },
     "execution_count": 20,
     "metadata": {},
     "output_type": "execute_result"
    }
   ],
   "source": [
    "A"
   ]
  },
  {
   "cell_type": "code",
   "execution_count": 21,
   "id": "202f6efc",
   "metadata": {},
   "outputs": [
    {
     "data": {
      "text/plain": [
       "(2.582301849172571e-16,\n",
       " array([[ 3.61213524e+00,  4.86608028e-01, -1.67599465e-01,\n",
       "         -1.15140573e-01,  6.71050135e-01],\n",
       "        [-6.95927979e-17,  2.33262347e+00,  8.76818999e-01,\n",
       "         -5.24901196e-01,  2.14967412e+00],\n",
       "        [-3.54599368e-17,  1.85062082e-17,  2.17385488e+00,\n",
       "         -1.23016472e+00, -9.30709369e-02],\n",
       "        [ 5.96887084e-17, -3.56962272e-18,  2.80896346e-18,\n",
       "          1.83308406e+00,  1.33896646e+00],\n",
       "        [-1.20069797e-17, -1.15135895e-18,  3.28766869e-17,\n",
       "          4.79022018e-17,  3.67155168e+00],\n",
       "        [ 6.35185943e-17,  3.14033022e-17,  4.30170288e-17,\n",
       "          2.81900692e-17,  3.40161359e-17],\n",
       "        [-2.90454096e-18,  1.75502686e-17,  8.43153027e-17,\n",
       "         -3.81630145e-17, -1.28522180e-16],\n",
       "        [ 1.61170882e-16,  1.36946712e-17,  2.21496017e-17,\n",
       "         -1.37585748e-17,  1.34331320e-16],\n",
       "        [ 8.67663713e-17, -2.69517792e-18,  1.81758129e-17,\n",
       "          8.02524954e-19, -1.01471395e-19],\n",
       "        [ 6.44650162e-17,  2.43143050e-17, -6.78781016e-18,\n",
       "         -5.81147134e-18, -2.05080495e-19]]))"
      ]
     },
     "execution_count": 21,
     "metadata": {},
     "output_type": "execute_result"
    }
   ],
   "source": [
    "givens_qr(A)"
   ]
  },
  {
   "cell_type": "markdown",
   "id": "11fbf1c2",
   "metadata": {},
   "source": [
    "Problem 3"
   ]
  },
  {
   "cell_type": "code",
   "execution_count": 22,
   "id": "32abf1be",
   "metadata": {},
   "outputs": [],
   "source": [
    "def sd2(x):  #formula 2\n",
    "    res = 0\n",
    "    n = len(x)\n",
    "    for i in x:\n",
    "        res += (i - np.mean(x))**2\n",
    "    \n",
    "    res = cmath.sqrt(res/(n-1))\n",
    "    return res"
   ]
  },
  {
   "cell_type": "code",
   "execution_count": 23,
   "id": "3942243a",
   "metadata": {},
   "outputs": [],
   "source": [
    "def sd3(x):  #formula 3\n",
    "    res = 0\n",
    "    n = len(x)\n",
    "    for i in x:\n",
    "        res += i**2\n",
    "    \n",
    "    res = cmath.sqrt((res - n*np.mean(x)**2)/(n-1))\n",
    "    return res"
   ]
  },
  {
   "cell_type": "code",
   "execution_count": 24,
   "id": "92193928",
   "metadata": {},
   "outputs": [
    {
     "name": "stdout",
     "output_type": "stream",
     "text": [
      "Standard Deviation using formula2 is: \n",
      "(0.25595483577018857+0j)\n",
      "Standard Deviation using formula3 is: \n",
      "(0.25595461146332227+0j)\n",
      "The difference between formula2 and formula3 is: \n",
      "(2.243068663032588e-07+0j)\n",
      "\n",
      "\n",
      "Standard Deviation using formula2 is: \n",
      "(0.32780101419654384+0j)\n",
      "Standard Deviation using formula3 is: \n",
      "(0.328414224384051+0j)\n",
      "The difference between formula2 and formula3 is: \n",
      "(-0.0006132101875071516+0j)\n",
      "\n",
      "\n",
      "Standard Deviation using formula2 is: \n",
      "(0.2653462680311604+0j)\n",
      "Standard Deviation using formula3 is: \n",
      "(0.28867513459481287+0j)\n",
      "The difference between formula2 and formula3 is: \n",
      "(-0.02332886656365246+0j)\n",
      "\n",
      "\n",
      "Standard Deviation using formula2 is: \n",
      "(0.2321644351286547+0j)\n",
      "Standard Deviation using formula3 is: \n",
      "1.3333333333333333j\n",
      "The difference between formula2 and formula3 is: \n",
      "(0.2321644351286547-1.3333333333333333j)\n",
      "\n",
      "\n",
      "Standard Deviation using formula2 is: \n",
      "(0.2909965839814736+0j)\n",
      "Standard Deviation using formula3 is: \n",
      "0j\n",
      "The difference between formula2 and formula3 is: \n",
      "(0.2909965839814736+0j)\n",
      "\n",
      "\n",
      "Standard Deviation using formula2 is: \n",
      "(0.2916252516948041+0j)\n",
      "Standard Deviation using formula3 is: \n",
      "(0.2916328443592918+0j)\n",
      "The difference between formula2 and formula3 is: \n",
      "(-7.592664487743317e-06+0j)\n",
      "\n",
      "\n",
      "Standard Deviation using formula2 is: \n",
      "(0.2592927377954576+0j)\n",
      "Standard Deviation using formula3 is: \n",
      "(0.25929683469886106+0j)\n",
      "The difference between formula2 and formula3 is: \n",
      "(-4.09690340347213e-06+0j)\n",
      "\n",
      "\n",
      "Standard Deviation using formula2 is: \n",
      "(0.30335428498394895+0j)\n",
      "Standard Deviation using formula3 is: \n",
      "(0.37605071654517747+0j)\n",
      "The difference between formula2 and formula3 is: \n",
      "(-0.07269643156122851+0j)\n",
      "\n",
      "\n",
      "Standard Deviation using formula2 is: \n",
      "(0.3058999354993968+0j)\n",
      "Standard Deviation using formula3 is: \n",
      "2.5425669046549126j\n",
      "The difference between formula2 and formula3 is: \n",
      "(0.3058999354993968-2.5425669046549126j)\n",
      "\n",
      "\n",
      "Standard Deviation using formula2 is: \n",
      "(0.284022825565355+0j)\n",
      "Standard Deviation using formula3 is: \n",
      "0j\n",
      "The difference between formula2 and formula3 is: \n",
      "(0.284022825565355+0j)\n",
      "\n",
      "\n"
     ]
    }
   ],
   "source": [
    "for n in [10, 100]:   #n is 10 or 100\n",
    "    for k in range(5, 10): #k is 5, 6, 7, 8, 9\n",
    "        x = 10**k * np.ones(n) + (0.5 - rand.rand(n))\n",
    "        print('Standard Deviation using formula2 is: ')\n",
    "        print(sd2(x))\n",
    "        print('Standard Deviation using formula3 is: ')\n",
    "        print(sd3(x))\n",
    "        print('The difference between formula2 and formula3 is: ')\n",
    "        print(sd2(x) - sd3(x))\n",
    "        print('\\n')"
   ]
  },
  {
   "cell_type": "markdown",
   "id": "fa4fbf97",
   "metadata": {},
   "source": [
    "We can see that there is slight difference between standard deviation calculated using formula 2 and that calculated using formula 3 due to the floating point arithmetic in python."
   ]
  }
 ],
 "metadata": {
  "kernelspec": {
   "display_name": "Python 3",
   "language": "python",
   "name": "python3"
  },
  "language_info": {
   "codemirror_mode": {
    "name": "ipython",
    "version": 3
   },
   "file_extension": ".py",
   "mimetype": "text/x-python",
   "name": "python",
   "nbconvert_exporter": "python",
   "pygments_lexer": "ipython3",
   "version": "3.8.8"
  }
 },
 "nbformat": 4,
 "nbformat_minor": 5
}
