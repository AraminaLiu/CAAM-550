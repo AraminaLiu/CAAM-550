{
 "cells": [
  {
   "cell_type": "code",
   "execution_count": 98,
   "id": "35c2b1eb",
   "metadata": {},
   "outputs": [],
   "source": [
    "import math as m\n",
    "import matplotlib.pyplot as plt\n",
    "from scipy import special\n",
    "import numpy as np"
   ]
  },
  {
   "cell_type": "markdown",
   "id": "882ff39e",
   "metadata": {},
   "source": [
    "Question 1"
   ]
  },
  {
   "cell_type": "markdown",
   "id": "a0941569",
   "metadata": {},
   "source": [
    "(a)"
   ]
  },
  {
   "cell_type": "code",
   "execution_count": 99,
   "id": "e6441da5",
   "metadata": {},
   "outputs": [],
   "source": [
    "T = np.linspace(200, 400, 1000)   \n",
    "#since kelvin degrees - 273.15 = celcius degrees, we 25 celsius degrees = 25 + 273.15 Kelvin degrees;"
   ]
  },
  {
   "cell_type": "code",
   "execution_count": 100,
   "id": "d0514aa0",
   "metadata": {},
   "outputs": [],
   "source": [
    "y = 0.1*20*m.pi*(T - (25+273.15)) + 0.1*0.8*5.67*10**(-8)*m.pi*(T**4 - (25+273.15)**4) - 100\n",
    "#our f function"
   ]
  },
  {
   "cell_type": "code",
   "execution_count": 101,
   "id": "ff9f0dba",
   "metadata": {},
   "outputs": [
    {
     "data": {
      "image/png": "[encoded data removed]",
      "text/plain": [
       "<Figure size 432x288 with 1 Axes>"
      ]
     },
     "metadata": {
      "needs_background": "light"
     },
     "output_type": "display_data"
    }
   ],
   "source": [
    "#create the axis and plot the function\n",
    "fig = plt.figure()\n",
    "ax = fig.add_subplot(1, 1, 1)\n",
    "ax.spines['left'].set_position('center')\n",
    "ax.spines['bottom'].set_position('zero')\n",
    "ax.spines['right'].set_color('none')\n",
    "ax.spines['top'].set_color('none')\n",
    "ax.xaxis.set_ticks_position('bottom')\n",
    "ax.yaxis.set_ticks_position('left')\n",
    "plt.plot(T, y,'r')\n",
    "plt.show()"
   ]
  },
  {
   "cell_type": "markdown",
   "id": "17e6f64b",
   "metadata": {},
   "source": [
    "(b)"
   ]
  },
  {
   "cell_type": "code",
   "execution_count": 102,
   "id": "fe9e6b9f",
   "metadata": {},
   "outputs": [],
   "source": [
    "# function\n",
    "def f(T):\n",
    "    fval = 0.1*20*m.pi*(T - (25+273.15)) + 0.1*0.8*5.67*10**(-8)*m.pi*(T**4 - (25+273.15)**4) - 100  #f function\n",
    "    fderiv = 2*m.pi + 4*0.08*5.67*10**-8*m.pi * T**3;   #f derivative \n",
    "    return fval, fderiv"
   ]
  },
  {
   "cell_type": "code",
   "execution_count": 103,
   "id": "8a07c4b4",
   "metadata": {},
   "outputs": [],
   "source": [
    "# Bisection Method\n",
    "def bisection(f, a, b, tolx = 1.e-7, tolf = 1.e-7, maxit = 100 ): \n",
    "    '''Approximate solution of f(x)=0 on interval [a,b] by bisection method.\n",
    " \n",
    "    Parameters\n",
    "    ----------\n",
    "    f : function\n",
    "        Function for which we wan to to find a root.\n",
    "        The call f(x)  should return the value or the value, derivative\n",
    "    a,b : numbers\n",
    "        Interval in which to search for a solution. bisection returns\n",
    "        None if f(a)*f(b) >= 0 since a solution is not guaranteed.\n",
    "    tolx : number (optional, default = 1.e-7)\n",
    "        Algorithm stops when | a - b | < tolx\n",
    "    tolf : number (optional, default = 1.e-7)\n",
    "        Algorithm stops when | f(0.5*(a+b)) | < tolf\n",
    "    maxit: integer (optional, default = 100)\n",
    "        maximjm number of iterations\n",
    "        \n",
    "\n",
    "    Returns\n",
    "    -------\n",
    "    a,b : numbers\n",
    "        f(a)*f(b) < 0; a root of f is located in (a, b)\n",
    "    x : numbers\n",
    "        0.5*(a+b) approximation of the root.\n",
    "    ithist : np.array \n",
    "        iteration history; i-th row of ithist contains [it, a, b, c, fc]\n",
    "    ifag : integer\n",
    "        return flag\n",
    "        iflag = 0   if |b-a| <= tolx, or   | f(x) | <= tolf\n",
    "        iflag =  1  iteration terminated because maximum number of\n",
    "                    iterations was reached. |b-a| > tolx, |f(x)| > tolf\n",
    "\n",
    "    Matthias Heinkenschloss\n",
    "    Department of Computational and Applied Mathematics\n",
    "    Rice University\n",
    "    August 29, 2021\n",
    "    '''\n",
    "    \n",
    "    if b < a :\n",
    "        t = a\n",
    "        a = b\n",
    "        b = t\n",
    "    \n",
    "    fa = f(a)\n",
    "    fb = f(b)\n",
    "    if( isinstance(fa, tuple) ):\n",
    "        fa = fa[0]\n",
    "    if( isinstance(fb, tuple) ):\n",
    "        fb = fb[0]\n",
    "        \n",
    "    # check if a and b bound a root\n",
    "    if fa*fb >= 0 :\n",
    "        raise Exception(\n",
    "         \"The scalars a and b do not bound a root\")\n",
    "    \n",
    "    it    = 0\n",
    "    iflag = 0\n",
    "    c = 0.5*(a+b)\n",
    "    fc = f(c)\n",
    "    if( isinstance(fc, tuple) ):\n",
    "        fc = fc[0]\n",
    "    ithist = np.array([it, a, b, c, fc])\n",
    "\n",
    "    while( it < maxit and abs(b-a) > tolx and abs(fc) > tolf ):\n",
    "        it = it+1;\n",
    "        if fa*fc < 0 :\n",
    "            b = c\n",
    "            fb = fc\n",
    "        else:\n",
    "            a = c\n",
    "            fa = fc\n",
    "\n",
    "        c  = 0.5*(a+b)\n",
    "        fc = f(c)\n",
    "        if( isinstance(fc, tuple) ):\n",
    "            fc = fc[0]\n",
    "            \n",
    "        ithist = np.vstack((ithist, np.array([it, a, b, c, fc]) ))\n",
    "\n",
    "    # check why the bisection method truncated and set iflag\n",
    "    if abs(b-a) > tolx and abs(fc) > tolf :\n",
    "        # method truncated because maximum number of iterations reached\n",
    "        iflag = 1\n",
    "    \n",
    "    return a, b, c, ithist, iflag\n",
    "    \n",
    " "
   ]
  },
  {
   "cell_type": "code",
   "execution_count": 104,
   "id": "868fdcdd",
   "metadata": {},
   "outputs": [
    {
     "name": "stdout",
     "output_type": "stream",
     "text": [
      " Bisection method returned with iflag = 0\n",
      " iter       a             b             c           f(c) \n",
      "   0   2.000000e+02   4.000000e+02   3.000000e+02  -8.555513e+01\n",
      "   1   3.000000e+02   4.000000e+02   3.500000e+02   3.270200e+02\n",
      "   2   3.000000e+02   3.500000e+02   3.250000e+02   1.150824e+02\n",
      "   3   3.000000e+02   3.250000e+02   3.125000e+02   1.345865e+01\n",
      "   4   3.000000e+02   3.125000e+02   3.062500e+02  -3.636151e+01\n",
      "   5   3.062500e+02   3.125000e+02   3.093750e+02  -1.153135e+01\n",
      "   6   3.093750e+02   3.125000e+02   3.109375e+02   9.434713e-01\n",
      "   7   3.093750e+02   3.109375e+02   3.101562e+02  -5.298958e+00\n",
      "   8   3.101562e+02   3.109375e+02   3.105469e+02  -2.179002e+00\n",
      "   9   3.105469e+02   3.109375e+02   3.107422e+02  -6.180801e-01\n",
      "  10   3.107422e+02   3.109375e+02   3.108398e+02   1.626168e-01\n",
      "  11   3.107422e+02   3.108398e+02   3.107910e+02  -2.277513e-01\n",
      "  12   3.107910e+02   3.108398e+02   3.108154e+02  -3.257217e-02\n",
      "  13   3.108154e+02   3.108398e+02   3.108276e+02   6.502109e-02\n",
      "  14   3.108154e+02   3.108276e+02   3.108215e+02   1.622415e-02\n",
      "  15   3.108154e+02   3.108215e+02   3.108185e+02  -8.174087e-03\n",
      "  16   3.108185e+02   3.108215e+02   3.108200e+02   4.025013e-03\n",
      "  17   3.108185e+02   3.108200e+02   3.108192e+02  -2.074542e-03\n",
      "  18   3.108192e+02   3.108200e+02   3.108196e+02   9.752347e-04\n",
      "  19   3.108192e+02   3.108196e+02   3.108194e+02  -5.496538e-04\n",
      "  20   3.108194e+02   3.108196e+02   3.108195e+02   2.127904e-04\n",
      "  21   3.108194e+02   3.108195e+02   3.108195e+02  -1.684317e-04\n",
      "  22   3.108195e+02   3.108195e+02   3.108195e+02   2.217931e-05\n",
      "  23   3.108195e+02   3.108195e+02   3.108195e+02  -7.312621e-05\n",
      "  24   3.108195e+02   3.108195e+02   3.108195e+02  -2.547345e-05\n",
      "  25   3.108195e+02   3.108195e+02   3.108195e+02  -1.647070e-06\n",
      "  26   3.108195e+02   3.108195e+02   3.108195e+02   1.026612e-05\n",
      "  27   3.108195e+02   3.108195e+02   3.108195e+02   4.309525e-06\n",
      "  28   3.108195e+02   3.108195e+02   3.108195e+02   1.331227e-06\n",
      "  29   3.108195e+02   3.108195e+02   3.108195e+02  -1.579213e-07\n",
      "  30   3.108195e+02   3.108195e+02   3.108195e+02   5.866531e-07\n",
      "  31   3.108195e+02   3.108195e+02   3.108195e+02   2.143659e-07\n"
     ]
    }
   ],
   "source": [
    "# run Bisection, lower bound = 200, upper bound = 400\n",
    "a, b, x, ithist, iflag = bisection(f, 200, 400, tolf = 1.e-7)\n",
    "print(f' Bisection method returned with iflag = {iflag:1d}')\n",
    "print(' iter       a             b             c           f(c) ')\n",
    "for i in np.arange(ithist.shape[0]):\n",
    "    print(f' {ithist[i,0]:3.0f}  {ithist[i,1]:13.6e}  {ithist[i,2]:13.6e}  {ithist[i,3]:13.6e}  {ithist[i,4]:13.6e}')\n"
   ]
  },
  {
   "cell_type": "markdown",
   "id": "3bc89714",
   "metadata": {},
   "source": [
    "The approximate steady state temperature is 310.82 Kelvin degrees."
   ]
  },
  {
   "cell_type": "markdown",
   "id": "f43e1e97",
   "metadata": {},
   "source": [
    "(c)"
   ]
  },
  {
   "cell_type": "code",
   "execution_count": 105,
   "id": "a95ce34a",
   "metadata": {},
   "outputs": [],
   "source": [
    "# Newton's method\n",
    "def newt1d(f, x, tolx = 1.e-7, tolf = 1.e-7, maxit = 100 ): \n",
    "    '''Approximate solution of f(x)=0 using Newton;t method.\n",
    "    \n",
    "    Parameters\n",
    "    ----------\n",
    "    f : function\n",
    "        Function for which we wan to to find a root.\n",
    "        The call f(x)  should return  value, derivative\n",
    "    x : number\n",
    "        Initial approximation of root\n",
    "    tolx : number (optional, default = 1.e-7)\n",
    "        Algorithm stops when | s | < tolx, where s = Newton step\n",
    "    tolf : number (optional, default = 1.e-7)\n",
    "        Algorithm stops when | f(x | < tolf\n",
    "    maxit: integer (optional, default = 100)\n",
    "        maximjm number of iterations\n",
    "        \n",
    "\n",
    "    Returns\n",
    "    -------\n",
    "    x : numbers\n",
    "        approximation of the root.\n",
    "    ithist : np.array \n",
    "        iteration history; i-th row of ithist contains [it, x, fx, s]\n",
    "    ifag : integer\n",
    "        return flag\n",
    "        iflag = 0   if |b-a| <= tolx, or   | f(x) | <= tolf\n",
    "        iflag =  1  iteration terminated because maximum number of\n",
    "                    iterations was reached. |b-a| > tolx, |f(x)| > tolf\n",
    "\n",
    "\n",
    "    Matthias Heinkenschloss\n",
    "    Department of Computational and Applied Mathematics\n",
    "    Rice University\n",
    "    August 29, 2021\n",
    "    ''' \n",
    "   \n",
    "    it    = 0\n",
    "    iflag = 0\n",
    "    \n",
    "    fx, fpx = f(x)\n",
    "    s  = - fx/fpx\n",
    "    ithist = np.array([it, x, fx, s])\n",
    "    \n",
    "    while( it < maxit and abs(s) > tolx and abs(fx) > tolf ):\n",
    "        x = x+s\n",
    "        fx, fpx = f(x)\n",
    "        s  = - fx/fpx\n",
    "        it = it+1;\n",
    "        \n",
    "            \n",
    "        ithist = np.vstack((ithist, np.array([it, x, fx, s]) ))\n",
    "\n",
    "    # check why the bisection method truncated and set iflag\n",
    "    if abs(s) > tolx and abs(fx) > tolf :\n",
    "        # bisection method truncated because maximum number of iterations reached\n",
    "        iflag = 1\n",
    "    \n",
    "    return x, ithist, iflag\n",
    "    \n",
    " "
   ]
  },
  {
   "cell_type": "code",
   "execution_count": 106,
   "id": "032e127f",
   "metadata": {},
   "outputs": [
    {
     "name": "stdout",
     "output_type": "stream",
     "text": [
      " Newton's method returned with iflag = 0\n",
      " iter        x           f(x)           step\n",
      "   0   2.000000e+02  -8.065004e+02   1.196731e+02\n",
      "   1   3.196731e+02   7.144287e+01  -8.771078e+00\n",
      "   2   3.109020e+02   6.599792e-01  -8.253691e-02\n",
      "   3   3.108195e+02   5.629125e-05  -7.040977e-06\n",
      "   4   3.108195e+02   3.410605e-13  -4.266026e-14\n"
     ]
    }
   ],
   "source": [
    "# run Newton's method\n",
    "x, ithist, iflag = newt1d(f, 200, tolf = 1.e-7)\n",
    "print(f\" Newton's method returned with iflag = {iflag:1d}\")\n",
    "print(' iter        x           f(x)           step')\n",
    "for i in np.arange(ithist.shape[0]):\n",
    "    print(f' {ithist[i,0]:3.0f}  {ithist[i,1]:13.6e}  {ithist[i,2]:13.6e}  {ithist[i,3]:13.6e}')\n",
    "\n"
   ]
  },
  {
   "cell_type": "markdown",
   "id": "46d1369e",
   "metadata": {},
   "source": [
    "The approximate steady state temperature is 310.82 Kelvin degrees."
   ]
  },
  {
   "cell_type": "markdown",
   "id": "9c0fcd47",
   "metadata": {},
   "source": [
    "Question 3"
   ]
  },
  {
   "cell_type": "code",
   "execution_count": 107,
   "id": "356ee01f",
   "metadata": {},
   "outputs": [
    {
     "data": {
      "image/png": "[encoded data removed]",
      "text/plain": [
       "<Figure size 432x288 with 1 Axes>"
      ]
     },
     "metadata": {
      "needs_background": "light"
     },
     "output_type": "display_data"
    }
   ],
   "source": [
    "# specify problem\n",
    "n = 100\n",
    "h = 1/n\n",
    "gamma = 0.05\n",
    "xi = np.arange(1/2, n, dtype=float)/n\n",
    "# true image\n",
    "ftrue = np.exp( -(xi-0.75)**2 *70 )\n",
    "ind = np.all([0.1<=xi, xi<=0.25], axis =0)  # indices for which xi in [0.1,0.25]\n",
    "ftrue[ind] = 0.8\n",
    "ind = np.all([0.3<=xi, xi<=0.35], axis =0)  # indices for which xi in [0.3,0.35]\n",
    "ftrue[ind] = 0.3\n",
    "# matrix K\n",
    "C = 1/(gamma*np.sqrt(2*np.pi))\n",
    "K = np.zeros((n,n))\n",
    "for i in np.arange(n):\n",
    "    for j in np.arange(n):\n",
    "        K[i,j] = C*h* np.exp( -(xi[i]-xi[j])**2 / (2*gamma**2) )\n",
    "\n",
    "gtrue = np.dot(K, ftrue)\n",
    "                         \n",
    "fig, ax = plt.subplots()\n",
    "ax.plot(xi, ftrue, '-k')\n",
    "ax.plot(xi, gtrue, '-.r')\n",
    "ax.legend(['true image','blurred image'])\n",
    "ax.set(xlabel='xi')\n",
    "\n",
    "#fig.savefig(\"denoise_1d_ftrue\")\n",
    "plt.show()\n",
    "\n"
   ]
  },
  {
   "cell_type": "code",
   "execution_count": 108,
   "id": "e323a4c9",
   "metadata": {},
   "outputs": [],
   "source": [
    "# add error to true image\n",
    "gerr = 0.001*np.multiply( 0.5 - np.random.uniform(0.05,0.5,n) , gtrue ) \n",
    "g = gtrue + gerr\n",
    "gerror = 0.5*np.linalg.norm(gerr, 2)**2"
   ]
  },
  {
   "cell_type": "code",
   "execution_count": 109,
   "id": "99384bff",
   "metadata": {},
   "outputs": [
    {
     "data": {
      "image/png": "[encoded data removed]",
      "text/plain": [
       "<Figure size 432x288 with 1 Axes>"
      ]
     },
     "metadata": {
      "needs_background": "light"
     },
     "output_type": "display_data"
    }
   ],
   "source": [
    "# naive reconstruction by solving linear system\n",
    "f = np.linalg.solve(K, g)\n",
    "\n",
    "fig, ax = plt.subplots()\n",
    "ax.plot(xi, ftrue, '-k')\n",
    "ax.plot(xi, f, ':b')\n",
    "ax.plot(xi, gtrue, '-.r')\n",
    "ax.legend(['true image','recovered image','blurred image'])\n",
    "ax.set_ylim(-0.2, 1.2)\n",
    "\n",
    "#fig.savefig(\"denoise_1d_frecovered2.png\")\n",
    "plt.show()"
   ]
  },
  {
   "cell_type": "code",
   "execution_count": 2,
   "id": "ad6b2964",
   "metadata": {},
   "outputs": [
    {
     "ename": "NameError",
     "evalue": "name 'np' is not defined",
     "output_type": "error",
     "traceback": [
      "\u001b[1;31m---------------------------------------------------------------------------\u001b[0m",
      "\u001b[1;31mNameError\u001b[0m                                 Traceback (most recent call last)",
      "\u001b[1;32m<ipython-input-2-cb75d320b735>\u001b[0m in \u001b[0;36m<module>\u001b[1;34m\u001b[0m\n\u001b[0;32m      1\u001b[0m \u001b[1;31m# reconstruction by solving linear least squares with fixed lambda\u001b[0m\u001b[1;33m\u001b[0m\u001b[1;33m\u001b[0m\u001b[1;33m\u001b[0m\u001b[0m\n\u001b[0;32m      2\u001b[0m \u001b[0mlam\u001b[0m \u001b[1;33m=\u001b[0m \u001b[1;36m1.e-2\u001b[0m\u001b[1;33m\u001b[0m\u001b[1;33m\u001b[0m\u001b[0m\n\u001b[1;32m----> 3\u001b[1;33m \u001b[0mKK\u001b[0m \u001b[1;33m=\u001b[0m \u001b[0mnp\u001b[0m\u001b[1;33m.\u001b[0m\u001b[0mvstack\u001b[0m\u001b[1;33m(\u001b[0m \u001b[1;33m(\u001b[0m\u001b[0mK\u001b[0m\u001b[1;33m,\u001b[0m \u001b[0mnp\u001b[0m\u001b[1;33m.\u001b[0m\u001b[0msqrt\u001b[0m\u001b[1;33m(\u001b[0m\u001b[0mlam\u001b[0m\u001b[1;33m)\u001b[0m\u001b[1;33m*\u001b[0m\u001b[0mnp\u001b[0m\u001b[1;33m.\u001b[0m\u001b[0midentity\u001b[0m\u001b[1;33m(\u001b[0m\u001b[0mn\u001b[0m\u001b[1;33m)\u001b[0m\u001b[1;33m)\u001b[0m \u001b[1;33m)\u001b[0m\u001b[1;33m\u001b[0m\u001b[1;33m\u001b[0m\u001b[0m\n\u001b[0m\u001b[0;32m      4\u001b[0m \u001b[0mgg\u001b[0m \u001b[1;33m=\u001b[0m \u001b[0mnp\u001b[0m\u001b[1;33m.\u001b[0m\u001b[0mhstack\u001b[0m\u001b[1;33m(\u001b[0m \u001b[1;33m(\u001b[0m\u001b[0mg\u001b[0m\u001b[1;33m,\u001b[0m \u001b[0mnp\u001b[0m\u001b[1;33m.\u001b[0m\u001b[0mzeros\u001b[0m\u001b[1;33m(\u001b[0m\u001b[0mn\u001b[0m\u001b[1;33m)\u001b[0m\u001b[1;33m)\u001b[0m \u001b[1;33m)\u001b[0m\u001b[1;33m\u001b[0m\u001b[1;33m\u001b[0m\u001b[0m\n\u001b[0;32m      5\u001b[0m \u001b[0mflam\u001b[0m \u001b[1;33m=\u001b[0m \u001b[0mnp\u001b[0m\u001b[1;33m.\u001b[0m\u001b[0mlinalg\u001b[0m\u001b[1;33m.\u001b[0m\u001b[0mlstsq\u001b[0m\u001b[1;33m(\u001b[0m\u001b[0mKK\u001b[0m\u001b[1;33m,\u001b[0m\u001b[0mgg\u001b[0m\u001b[1;33m,\u001b[0m\u001b[0mrcond\u001b[0m\u001b[1;33m=\u001b[0m\u001b[1;32mNone\u001b[0m\u001b[1;33m)\u001b[0m\u001b[1;33m[\u001b[0m\u001b[1;36m0\u001b[0m\u001b[1;33m]\u001b[0m\u001b[1;33m\u001b[0m\u001b[1;33m\u001b[0m\u001b[0m\n",
      "\u001b[1;31mNameError\u001b[0m: name 'np' is not defined"
     ]
    }
   ],
   "source": [
    "# reconstruction by solving linear least squares with fixed lambda\n",
    "lam = 1.e-2\n",
    "KK = np.vstack( (K, np.sqrt(lam)*np.identity(n)) )\n",
    "gg = np.hstack( (g, np.zeros(n)) )\n",
    "flam = np.linalg.lstsq(KK,gg,rcond=None)[0]\n",
    "\n",
    "fig, ax = plt.subplots(2, 3, 1)\n",
    "ax.plot(xi, ftrue, '-k')\n",
    "ax.plot(xi, flam, ':b')\n",
    "ax.plot(xi, gtrue, '-.r')\n",
    "ax.legend(['true image','recovered image','blurred image'])\n",
    "ax.set(xlabel='xi')\n",
    "ax.set_ylim(-0.2, 1.2)\n",
    "\n",
    "#fig.savefig(\"denoise_1d_frecovered2.png\")\n",
    "plt.show()"
   ]
  },
  {
   "cell_type": "markdown",
   "id": "abd7b208",
   "metadata": {},
   "source": [
    "(a)"
   ]
  },
  {
   "cell_type": "code",
   "execution_count": 111,
   "id": "3190bbde",
   "metadata": {},
   "outputs": [],
   "source": [
    "lam = np.logspace(-10, -2, num = 20)   #initialize our lambda\n",
    "f = np.zeros(20)                       #create an array of size 20 to store the value of 0.5||Kf(lambda) - g||^2"
   ]
  },
  {
   "cell_type": "code",
   "execution_count": 112,
   "id": "b663d256",
   "metadata": {},
   "outputs": [
    {
     "data": {
      "image/png": "[encoded data removed]",
      "text/plain": [
       "<Figure size 432x288 with 1 Axes>"
      ]
     },
     "metadata": {
      "needs_background": "light"
     },
     "output_type": "display_data"
    }
   ],
   "source": [
    "for i in np.arange(lam.size):\n",
    "    # reconstruction by solving linear least squares with fixed lambda\n",
    "    KK = np.vstack( (K, np.sqrt(lam[i])*np.identity(n)) )\n",
    "    gg = np.hstack( (g, np.zeros(n)) )\n",
    "    flam = np.linalg.lstsq(KK,gg,rcond=None)[0]\n",
    "    f[i] = 0.5*np.linalg.norm(g - np.dot(K, flam), 2)**2\n",
    "\n",
    "fig, ax = plt.subplots()\n",
    "ax.loglog(lam, f, '-.b')\n",
    "ax.loglog(lam, gerror*np.ones(20), '--r')\n",
    "ax.legend(['0.5||K f(lambda) - g||^2','0.5||g - gtrue||^2'])\n",
    "ax.set(xlabel='lamdba')\n",
    "\n",
    "\n",
    "#fig.savefig(\"denoise_1d_frecovered2.png\")\n",
    "plt.show()"
   ]
  },
  {
   "cell_type": "markdown",
   "id": "5a7ae715",
   "metadata": {},
   "source": [
    "(b)"
   ]
  },
  {
   "cell_type": "code",
   "execution_count": 113,
   "id": "634e25d6",
   "metadata": {},
   "outputs": [],
   "source": [
    "# function\n",
    "def f(lam):\n",
    "    KK = np.vstack( (K, np.sqrt(lam)*np.identity(n)) )\n",
    "    gg = np.hstack( (g, np.zeros(n)) )\n",
    "    flam = np.linalg.lstsq(KK,gg,rcond=None)[0]                    #f(lambda)\n",
    "    fval = 0.5*np.linalg.norm(g - np.dot(K,flam), 2)**2 - gerror   #phi(lambda)\n",
    "    return fval"
   ]
  },
  {
   "cell_type": "code",
   "execution_count": 114,
   "id": "94b1b76d",
   "metadata": {},
   "outputs": [],
   "source": [
    "# Bisection Method\n",
    "def bisection(f, a, b, tolx = 1.e-7, tolf = 1.e-7, maxit = 100 ): \n",
    "    '''Approximate solution of f(x)=0 on interval [a,b] by bisection method.\n",
    " \n",
    "    Parameters\n",
    "    ----------\n",
    "    f : function\n",
    "        Function for which we wan to to find a root.\n",
    "        The call f(x)  should return the value or the value, derivative\n",
    "    a,b : numbers\n",
    "        Interval in which to search for a solution. bisection returns\n",
    "        None if f(a)*f(b) >= 0 since a solution is not guaranteed.\n",
    "    tolx : number (optional, default = 1.e-7)\n",
    "        Algorithm stops when | a - b | < tolx\n",
    "    tolf : number (optional, default = 1.e-7)\n",
    "        Algorithm stops when | f(0.5*(a+b)) | < tolf\n",
    "    maxit: integer (optional, default = 100)\n",
    "        maximjm number of iterations\n",
    "        \n",
    "\n",
    "    Returns\n",
    "    -------\n",
    "    a,b : numbers\n",
    "        f(a)*f(b) < 0; a root of f is located in (a, b)\n",
    "    x : numbers\n",
    "        0.5*(a+b) approximation of the root.\n",
    "    ithist : np.array \n",
    "        iteration history; i-th row of ithist contains [it, a, b, c, fc]\n",
    "    ifag : integer\n",
    "        return flag\n",
    "        iflag = 0   if |b-a| <= tolx, or   | f(x) | <= tolf\n",
    "        iflag =  1  iteration terminated because maximum number of\n",
    "                    iterations was reached. |b-a| > tolx, |f(x)| > tolf\n",
    "\n",
    "    Matthias Heinkenschloss\n",
    "    Department of Computational and Applied Mathematics\n",
    "    Rice University\n",
    "    August 29, 2021\n",
    "    '''\n",
    "    \n",
    "    if b < a :\n",
    "        t = a\n",
    "        a = b\n",
    "        b = t\n",
    "    \n",
    "    fa = f(a)\n",
    "    fb = f(b)\n",
    "    \n",
    "        \n",
    "    # check if a and b bound a root\n",
    "    if fa*fb >= 0 :\n",
    "        raise Exception(\n",
    "         \"The scalars a and b do not bound a root\")\n",
    "    \n",
    "    it    = 0\n",
    "    iflag = 0\n",
    "    c = 0.5*(a+b)\n",
    "    fc = f(c)\n",
    "    \n",
    "    ithist = np.array([it, a, b, c, fc])\n",
    "\n",
    "    while( it < maxit and abs(b-a) > tolx and abs(fc) > tolf ):\n",
    "        it = it+1;\n",
    "        if fa*fc < 0 :\n",
    "            b = c\n",
    "            fb = fc\n",
    "        else:\n",
    "            a = c\n",
    "            fa = fc\n",
    "\n",
    "        c  = 0.5*(a+b)\n",
    "        fc = f(c)\n",
    "        \n",
    "            \n",
    "        ithist = np.vstack((ithist, np.array([it, a, b, c, fc]) ))\n",
    "\n",
    "    # check why the bisection method truncated and set iflag\n",
    "    if abs(b-a) > tolx and abs(fc) > tolf :\n",
    "        # method truncated because maximum number of iterations reached\n",
    "        iflag = 1\n",
    "    \n",
    "    return a, b, c, ithist, iflag\n",
    "    \n",
    " "
   ]
  },
  {
   "cell_type": "code",
   "execution_count": 115,
   "id": "104369e7",
   "metadata": {},
   "outputs": [
    {
     "name": "stdout",
     "output_type": "stream",
     "text": [
      " Bisection method returned with iflag = 0\n",
      " iter       a             b             c           f(c) \n",
      "   0   0.000000e+00   1.000000e-02   5.000000e-03   5.513187e-04\n",
      "   1   0.000000e+00   5.000000e-03   2.500000e-03   1.841374e-04\n",
      "   2   0.000000e+00   2.500000e-03   1.250000e-03   7.446836e-05\n",
      "   3   0.000000e+00   1.250000e-03   6.250000e-04   3.425151e-05\n",
      "   4   0.000000e+00   6.250000e-04   3.125000e-04   1.613878e-05\n",
      "   5   0.000000e+00   3.125000e-04   1.562500e-04   7.551584e-06\n",
      "   6   0.000000e+00   1.562500e-04   7.812500e-05   3.553714e-06\n",
      "   7   0.000000e+00   7.812500e-05   3.906250e-05   1.592293e-06\n",
      "   8   0.000000e+00   3.906250e-05   1.953125e-05   5.379994e-07\n",
      "   9   0.000000e+00   1.953125e-05   9.765625e-06  -2.452366e-08\n"
     ]
    }
   ],
   "source": [
    "# run Bisection, start point is 10^-2\n",
    "a, b, x, ithist, iflag = bisection(f, 0, 10**-2, tolf = 1.e-7)\n",
    "print(f' Bisection method returned with iflag = {iflag:1d}')\n",
    "print(' iter       a             b             c           f(c) ')\n",
    "for i in np.arange(ithist.shape[0]):\n",
    "    print(f' {ithist[i,0]:3.0f}  {ithist[i,1]:13.6e}  {ithist[i,2]:13.6e}  {ithist[i,3]:13.6e}  {ithist[i,4]:13.6e}')\n"
   ]
  },
  {
   "cell_type": "markdown",
   "id": "d042c15e",
   "metadata": {},
   "source": [
    "Therefore, the computed root lambda* should be 9.765*10^-6."
   ]
  },
  {
   "cell_type": "code",
   "execution_count": 116,
   "id": "926f5137",
   "metadata": {},
   "outputs": [
    {
     "data": {
      "image/png": "[encoded data removed]",
      "text/plain": [
       "<Figure size 432x288 with 1 Axes>"
      ]
     },
     "metadata": {
      "needs_background": "light"
     },
     "output_type": "display_data"
    }
   ],
   "source": [
    "# reconstruction by solving linear least squares with fixed lambda\n",
    "lam = 9.765625e-06\n",
    "KK = np.vstack( (K, np.sqrt(lam)*np.identity(n)) )\n",
    "gg = np.hstack( (g, np.zeros(n)) )\n",
    "flam = np.linalg.lstsq(KK,gg,rcond=None)[0]\n",
    "\n",
    "fig, ax = plt.subplots()\n",
    "ax.plot(xi, ftrue, '-k')\n",
    "ax.plot(xi, flam, ':b')\n",
    "ax.plot(xi, gtrue, '-.r')\n",
    "ax.legend(['true image','recovered image','blurred image'])\n",
    "ax.set(xlabel='xi')\n",
    "ax.set_ylim(-0.2, 1.2)\n",
    "\n",
    "#fig.savefig(\"denoise_1d_frecovered2.png\")\n",
    "plt.show()"
   ]
  },
  {
   "cell_type": "markdown",
   "id": "e98dd1a9",
   "metadata": {},
   "source": [
    "Question 4"
   ]
  },
  {
   "cell_type": "markdown",
   "id": "ce540457",
   "metadata": {},
   "source": [
    "(ii)"
   ]
  },
  {
   "cell_type": "code",
   "execution_count": 117,
   "id": "73003b6d",
   "metadata": {},
   "outputs": [],
   "source": [
    "# reconstruction by solving linear least squares with fixed lambda\n",
    "lam = 1.e-3\n",
    "KK = np.vstack( (K, np.sqrt(lam)*np.identity(n)) )\n",
    "gg = np.hstack( (g, np.zeros(n)) )\n",
    "flam = np.linalg.lstsq(KK,gg,rcond=None)[0]\n",
    "fval = 0.5*np.linalg.norm(g - np.dot(K,flam), 2)**2 - gerror\n",
    "\n",
    "flam_der = -np.dot(np.linalg.inv(np.dot(np.transpose(K), K) + lam*np.identity(n)), flam)\n",
    "f_der = np.dot(np.dot(np.transpose(np.dot(K, flam)-g), K), flam_der)"
   ]
  },
  {
   "cell_type": "code",
   "execution_count": 118,
   "id": "fe399a17",
   "metadata": {},
   "outputs": [],
   "source": [
    "sigma = np.logspace(-1, -10, num = 20)     #initialize sigma\n",
    "f = np.zeros(20)                           #store phi\n",
    "Q = np.zeros(20)                           #store difference"
   ]
  },
  {
   "cell_type": "code",
   "execution_count": 119,
   "id": "9a7b5074",
   "metadata": {},
   "outputs": [
    {
     "data": {
      "image/png": "[encoded data removed]",
      "text/plain": [
       "<Figure size 432x288 with 1 Axes>"
      ]
     },
     "metadata": {
      "needs_background": "light"
     },
     "output_type": "display_data"
    }
   ],
   "source": [
    "for i in np.arange(sigma.size):\n",
    "    # reconstruction by solving linear least squares with fixed lambda\n",
    "    KK1 = np.vstack( (K, np.sqrt(lam + sigma[i])*np.identity(n)) )\n",
    "    gg = np.hstack( (g, np.zeros(n)) )\n",
    "    flam1 = np.linalg.lstsq(KK1,gg,rcond=None)[0]\n",
    "    f[i] = 0.5*np.linalg.norm(g - np.dot(K, flam1), 2)**2 - gerror\n",
    "    Q[i] = (f[i] - fval)/sigma[i] - f_der\n",
    "\n",
    "fig, ax = plt.subplots()\n",
    "ax.loglog(sigma, Q, '-.b')\n",
    "\n",
    "ax.legend(['difference'])\n",
    "ax.set(xlabel='sigma')\n",
    "\n",
    "\n",
    "#fig.savefig(\"denoise_1d_frecovered2.png\")\n",
    "plt.show()"
   ]
  },
  {
   "cell_type": "markdown",
   "id": "3f782209",
   "metadata": {},
   "source": [
    "(iii)"
   ]
  },
  {
   "cell_type": "code",
   "execution_count": 120,
   "id": "d311429d",
   "metadata": {},
   "outputs": [],
   "source": [
    "# reconstruction by solving linear least squares with fixed lambda\n",
    "def f(x):\n",
    "    \n",
    "    KK2 = np.vstack( (K, np.sqrt(x)*np.identity(n)) )\n",
    "    gg2 = np.hstack( (g, np.zeros(n)) )\n",
    "    flam2 = np.linalg.lstsq(KK2,gg2,rcond=None)[0]\n",
    "    fval2 = 0.5*np.linalg.norm(g - np.dot(K,flam2), 2)**2 - gerror\n",
    "\n",
    "    flam_der2 = -np.dot(np.linalg.inv(np.dot(np.transpose(K), K) + x*np.identity(n)), flam2)\n",
    "    fderiv = np.dot(np.dot(np.transpose(np.dot(K, flam2)-g), K), flam_der2)\n",
    "    return fval2, fderiv"
   ]
  },
  {
   "cell_type": "code",
   "execution_count": 121,
   "id": "7e72594e",
   "metadata": {},
   "outputs": [],
   "source": [
    "# Newton's method\n",
    "def newt1d(f, x, tolx = 1.e-7, tolf = 1.e-7, maxit = 100 ): \n",
    "    '''Approximate solution of f(x)=0 using Newton;t method.\n",
    "    \n",
    "    Parameters\n",
    "    ----------\n",
    "    f : function\n",
    "        Function for which we wan to to find a root.\n",
    "        The call f(x)  should return  value, derivative\n",
    "    x : number\n",
    "        Initial approximation of root\n",
    "    tolx : number (optional, default = 1.e-7)\n",
    "        Algorithm stops when | s | < tolx, where s = Newton step\n",
    "    tolf : number (optional, default = 1.e-7)\n",
    "        Algorithm stops when | f(x | < tolf\n",
    "    maxit: integer (optional, default = 100)\n",
    "        maximjm number of iterations\n",
    "        \n",
    "\n",
    "    Returns\n",
    "    -------\n",
    "    x : numbers\n",
    "        approximation of the root.\n",
    "    ithist : np.array \n",
    "        iteration history; i-th row of ithist contains [it, x, fx, s]\n",
    "    ifag : integer\n",
    "        return flag\n",
    "        iflag = 0   if |b-a| <= tolx, or   | f(x) | <= tolf\n",
    "        iflag =  1  iteration terminated because maximum number of\n",
    "                    iterations was reached. |b-a| > tolx, |f(x)| > tolf\n",
    "\n",
    "\n",
    "    Matthias Heinkenschloss\n",
    "    Department of Computational and Applied Mathematics\n",
    "    Rice University\n",
    "    August 29, 2021\n",
    "    ''' \n",
    "   \n",
    "    it    = 0\n",
    "    iflag = 0\n",
    "    \n",
    "    fx, fpx = f(x)\n",
    "    s  = - fx/fpx\n",
    "    ithist = np.array([it, x, fx, s])\n",
    "    \n",
    "    while( it < maxit and abs(s) > tolx and abs(fx) > tolf ):\n",
    "        x = x+s\n",
    "        fx, fpx = f(x)\n",
    "        s  = - fx/fpx\n",
    "        it = it+1;\n",
    "        \n",
    "            \n",
    "        ithist = np.vstack((ithist, np.array([it, x, fx, s]) ))\n",
    "\n",
    "    # check why the bisection method truncated and set iflag\n",
    "    if abs(s) > tolx and abs(fx) > tolf :\n",
    "        # bisection method truncated because maximum number of iterations reached\n",
    "        iflag = 1\n",
    "    \n",
    "    return x, ithist, iflag\n",
    "    \n",
    " "
   ]
  },
  {
   "cell_type": "code",
   "execution_count": 122,
   "id": "08e9a48d",
   "metadata": {},
   "outputs": [
    {
     "name": "stdout",
     "output_type": "stream",
     "text": [
      " Newton's method returned with iflag = 0\n",
      " iter        x           f(x)           step\n",
      "   0   1.000000e-02   1.885667e-03  -5.479568e-03\n",
      "   1   4.520432e-03   4.650932e-04  -2.704217e-03\n",
      "   2   1.816215e-03   1.185632e-04  -1.384263e-03\n",
      "   3   4.319525e-04   2.295876e-05  -3.982711e-04\n",
      "   4   3.368140e-05   1.311051e-06  -2.483117e-05\n",
      "   5   8.850228e-06  -7.680578e-08   1.351873e-06\n"
     ]
    }
   ],
   "source": [
    "\n",
    "# run Newton's method\n",
    "x, ithist, iflag = newt1d(f, 10**-2, tolf = 1.e-7)\n",
    "print(f\" Newton's method returned with iflag = {iflag:1d}\")\n",
    "print(' iter        x           f(x)           step')\n",
    "for i in np.arange(ithist.shape[0]):\n",
    "    print(f' {ithist[i,0]:3.0f}  {ithist[i,1]:13.6e}  {ithist[i,2]:13.6e}  {ithist[i,3]:13.6e}')\n",
    "\n"
   ]
  },
  {
   "cell_type": "markdown",
   "id": "af07f05a",
   "metadata": {},
   "source": [
    "The computed root lambda* using Newton's method is 9.278207e-06."
   ]
  },
  {
   "cell_type": "code",
   "execution_count": 123,
   "id": "17aa7a73",
   "metadata": {},
   "outputs": [
    {
     "data": {
      "image/png": "[encoded data removed]",
      "text/plain": [
       "<Figure size 432x288 with 1 Axes>"
      ]
     },
     "metadata": {
      "needs_background": "light"
     },
     "output_type": "display_data"
    }
   ],
   "source": [
    "# reconstruction by solving linear least squares with fixed lambda\n",
    "lam = 9.278207e-06\n",
    "KK = np.vstack( (K, np.sqrt(lam)*np.identity(n)) )\n",
    "gg = np.hstack( (g, np.zeros(n)) )\n",
    "flam = np.linalg.lstsq(KK,gg,rcond=None)[0]\n",
    "\n",
    "fig, ax = plt.subplots()\n",
    "ax.plot(xi, ftrue, '-k')\n",
    "ax.plot(xi, flam, ':b')\n",
    "ax.plot(xi, gtrue, '-.r')\n",
    "ax.legend(['true image','recovered image','blurred image'])\n",
    "ax.set(xlabel='xi')\n",
    "ax.set_ylim(-0.2, 1.2)\n",
    "\n",
    "#fig.savefig(\"denoise_1d_frecovered2.png\")\n",
    "plt.show()"
   ]
  },
  {
   "cell_type": "code",
   "execution_count": null,
   "id": "77d90667",
   "metadata": {},
   "outputs": [],
   "source": []
  }
 ],
 "metadata": {
  "kernelspec": {
   "display_name": "Python 3",
   "language": "python",
   "name": "python3"
  },
  "language_info": {
   "codemirror_mode": {
    "name": "ipython",
    "version": 3
   },
   "file_extension": ".py",
   "mimetype": "text/x-python",
   "name": "python",
   "nbconvert_exporter": "python",
   "pygments_lexer": "ipython3",
   "version": "3.8.8"
  }
 },
 "nbformat": 4,
 "nbformat_minor": 5
}
