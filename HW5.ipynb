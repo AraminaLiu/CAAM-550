{
 "cells": [
  {
   "cell_type": "code",
   "execution_count": 108,
   "id": "5ef85a02",
   "metadata": {},
   "outputs": [],
   "source": [
    "import numpy as np\n",
    "import math\n",
    "import matplotlib.pyplot as plt\n",
    "import scipy.linalg\n",
    "import pandas as pd"
   ]
  },
  {
   "cell_type": "markdown",
   "id": "31ac25cc",
   "metadata": {},
   "source": [
    "Problem 1"
   ]
  },
  {
   "cell_type": "markdown",
   "id": "722f5549",
   "metadata": {},
   "source": [
    "part ii"
   ]
  },
  {
   "cell_type": "code",
   "execution_count": 109,
   "id": "d4617cf0",
   "metadata": {},
   "outputs": [],
   "source": [
    "I = np.zeros(20)   #initialize an array to store In"
   ]
  },
  {
   "cell_type": "code",
   "execution_count": 110,
   "id": "a9fb3265",
   "metadata": {},
   "outputs": [],
   "source": [
    "I[0] = 1   #initialize I1"
   ]
  },
  {
   "cell_type": "code",
   "execution_count": 111,
   "id": "ef3877f6",
   "metadata": {},
   "outputs": [],
   "source": [
    "for i in range(1, 20):\n",
    "    I[i] = math.e - (i+1)*I[i-1]    #In = e - nI(n-1)"
   ]
  },
  {
   "cell_type": "code",
   "execution_count": 112,
   "id": "795a98a1",
   "metadata": {},
   "outputs": [
    {
     "name": "stdout",
     "output_type": "stream",
     "text": [
      "       2 7.182818e-01\n",
      "\n",
      "\n",
      "       3 5.634363e-01\n",
      "\n",
      "\n",
      "       4 4.645365e-01\n",
      "\n",
      "\n",
      "       5 3.955995e-01\n",
      "\n",
      "\n",
      "       6 3.446845e-01\n",
      "\n",
      "\n",
      "       7 3.054900e-01\n",
      "\n",
      "\n",
      "       8 2.743615e-01\n",
      "\n",
      "\n",
      "       9 2.490280e-01\n",
      "\n",
      "\n",
      "      10 2.280015e-01\n",
      "\n",
      "\n",
      "      11 2.102652e-01\n",
      "\n",
      "\n",
      "      12 1.950999e-01\n",
      "\n",
      "\n",
      "      13 1.819831e-01\n",
      "\n",
      "\n",
      "      14 1.705191e-01\n",
      "\n",
      "\n",
      "      15 1.604959e-01\n",
      "\n",
      "\n",
      "      16 1.503482e-01\n",
      "\n",
      "\n",
      "      17 1.623631e-01\n",
      "\n",
      "\n",
      "      18-2.042536e-01\n",
      "\n",
      "\n",
      "      19 6.599099e+00\n",
      "\n",
      "\n",
      "      20-1.292637e+02\n",
      "\n",
      "\n"
     ]
    }
   ],
   "source": [
    "#print out n and In\n",
    "for n in range(2, 21):\n",
    "    print('{0:8}{1:13.6e}'.format(n, I[n-1]))\n",
    "    print('\\n')"
   ]
  },
  {
   "cell_type": "markdown",
   "id": "0b32926c",
   "metadata": {},
   "source": [
    "Problem 3"
   ]
  },
  {
   "cell_type": "code",
   "execution_count": 113,
   "id": "8dbb5a9f",
   "metadata": {},
   "outputs": [],
   "source": [
    "#initialize matrix A\n",
    "def matrix_A(n):\n",
    "    A = np.identity(n)\n",
    "    for i in range(n):\n",
    "        ti = -1 + 2*i/(n-1)\n",
    "        for j in range(n):\n",
    "            A[i][j] = ti**j\n",
    "    return A\n",
    "            "
   ]
  },
  {
   "cell_type": "code",
   "execution_count": 114,
   "id": "b69b7920",
   "metadata": {},
   "outputs": [],
   "source": [
    "#initialize vector b\n",
    "def vec_b(A, X):\n",
    "    return np.dot(A, X)"
   ]
  },
  {
   "cell_type": "code",
   "execution_count": 115,
   "id": "ab8bdb78",
   "metadata": {},
   "outputs": [],
   "source": [
    "#compute solution x\n",
    "def X_comp(A, b):\n",
    "    A_inv = np.linalg.inv(A)\n",
    "    return np.dot(A_inv, b)"
   ]
  },
  {
   "cell_type": "code",
   "execution_count": 116,
   "id": "f46f3f68",
   "metadata": {},
   "outputs": [],
   "source": [
    "#compute absolute error between x and x computed\n",
    "def abs_err(x, x_comp):\n",
    "    return np.linalg.norm(x-x_comp)\n",
    "    "
   ]
  },
  {
   "cell_type": "code",
   "execution_count": 117,
   "id": "ba72f71e",
   "metadata": {},
   "outputs": [],
   "source": [
    "#compute the relative error between x and x computed\n",
    "def rel_err(x, x_comp):\n",
    "    return abs_err(x, x_comp)/np.linalg.norm(x)"
   ]
  },
  {
   "cell_type": "code",
   "execution_count": 118,
   "id": "a875b5b1",
   "metadata": {},
   "outputs": [],
   "source": [
    "#initialize the result matrix\n",
    "res = np.zeros((20, 4))"
   ]
  },
  {
   "cell_type": "code",
   "execution_count": 119,
   "id": "4cbdc806",
   "metadata": {},
   "outputs": [],
   "source": [
    "#fill in the result matrix\n",
    "#first column is n\n",
    "#second column is absolute error\n",
    "#third column is relative error\n",
    "#fourth column is condition number of A\n",
    "for n in range(2, 41, 2):\n",
    "    X = np.ones(n)\n",
    "    A = matrix_A(n)\n",
    "    b = vec_b(A, X)\n",
    "    X_c = X_comp(A, b)\n",
    "    res[int(n/2 -1)][0] = int(n)\n",
    "    res[int(n/2 -1)][1] = abs_err(X, X_c)\n",
    "    res[int(n/2 -1)][2] = rel_err(X, X_c)\n",
    "    res[int(n/2 -1)][3] = np.linalg.cond(A)\n",
    "    "
   ]
  },
  {
   "cell_type": "code",
   "execution_count": 120,
   "id": "f97bdabc",
   "metadata": {},
   "outputs": [
    {
     "data": {
      "text/html": [
       "<div>\n",
       "<style scoped>\n",
       "    .dataframe tbody tr th:only-of-type {\n",
       "        vertical-align: middle;\n",
       "    }\n",
       "\n",
       "    .dataframe tbody tr th {\n",
       "        vertical-align: top;\n",
       "    }\n",
       "\n",
       "    .dataframe thead th {\n",
       "        text-align: right;\n",
       "    }\n",
       "</style>\n",
       "<table border=\"1\" class=\"dataframe\">\n",
       "  <thead>\n",
       "    <tr style=\"text-align: right;\">\n",
       "      <th></th>\n",
       "      <th>||𝑥−𝑥𝑐𝑜𝑚𝑝||2</th>\n",
       "      <th>||𝑥−𝑥𝑐𝑜𝑚𝑝||2/||𝑥||2</th>\n",
       "      <th>𝜅2(𝐴)</th>\n",
       "    </tr>\n",
       "    <tr>\n",
       "      <th>n</th>\n",
       "      <th></th>\n",
       "      <th></th>\n",
       "      <th></th>\n",
       "    </tr>\n",
       "  </thead>\n",
       "  <tbody>\n",
       "    <tr>\n",
       "      <th>2.0</th>\n",
       "      <td>0.000000e+00</td>\n",
       "      <td>0.000000e+00</td>\n",
       "      <td>1.000000e+00</td>\n",
       "    </tr>\n",
       "    <tr>\n",
       "      <th>4.0</th>\n",
       "      <td>6.377746e-16</td>\n",
       "      <td>3.188873e-16</td>\n",
       "      <td>8.011561e+00</td>\n",
       "    </tr>\n",
       "    <tr>\n",
       "      <th>6.0</th>\n",
       "      <td>2.673771e-15</td>\n",
       "      <td>1.091562e-15</td>\n",
       "      <td>6.382728e+01</td>\n",
       "    </tr>\n",
       "    <tr>\n",
       "      <th>8.0</th>\n",
       "      <td>4.240819e-14</td>\n",
       "      <td>1.499356e-14</td>\n",
       "      <td>5.353531e+02</td>\n",
       "    </tr>\n",
       "    <tr>\n",
       "      <th>10.0</th>\n",
       "      <td>3.316507e-13</td>\n",
       "      <td>1.048771e-13</td>\n",
       "      <td>4.626450e+03</td>\n",
       "    </tr>\n",
       "    <tr>\n",
       "      <th>12.0</th>\n",
       "      <td>3.859430e-12</td>\n",
       "      <td>1.114121e-12</td>\n",
       "      <td>4.075488e+04</td>\n",
       "    </tr>\n",
       "    <tr>\n",
       "      <th>14.0</th>\n",
       "      <td>6.522267e-11</td>\n",
       "      <td>1.743149e-11</td>\n",
       "      <td>3.638308e+05</td>\n",
       "    </tr>\n",
       "    <tr>\n",
       "      <th>16.0</th>\n",
       "      <td>5.467445e-10</td>\n",
       "      <td>1.366861e-10</td>\n",
       "      <td>3.280032e+06</td>\n",
       "    </tr>\n",
       "    <tr>\n",
       "      <th>18.0</th>\n",
       "      <td>6.309773e-09</td>\n",
       "      <td>1.487228e-09</td>\n",
       "      <td>2.979360e+07</td>\n",
       "    </tr>\n",
       "    <tr>\n",
       "      <th>20.0</th>\n",
       "      <td>4.886971e-08</td>\n",
       "      <td>1.092760e-08</td>\n",
       "      <td>2.722408e+08</td>\n",
       "    </tr>\n",
       "    <tr>\n",
       "      <th>22.0</th>\n",
       "      <td>5.093075e-07</td>\n",
       "      <td>1.085847e-07</td>\n",
       "      <td>2.499663e+09</td>\n",
       "    </tr>\n",
       "    <tr>\n",
       "      <th>24.0</th>\n",
       "      <td>1.166073e-05</td>\n",
       "      <td>2.380236e-06</td>\n",
       "      <td>2.304339e+10</td>\n",
       "    </tr>\n",
       "    <tr>\n",
       "      <th>26.0</th>\n",
       "      <td>1.951914e-04</td>\n",
       "      <td>3.828018e-05</td>\n",
       "      <td>2.131441e+11</td>\n",
       "    </tr>\n",
       "    <tr>\n",
       "      <th>28.0</th>\n",
       "      <td>6.937145e-03</td>\n",
       "      <td>1.310997e-03</td>\n",
       "      <td>1.977201e+12</td>\n",
       "    </tr>\n",
       "    <tr>\n",
       "      <th>30.0</th>\n",
       "      <td>3.729727e-02</td>\n",
       "      <td>6.809519e-03</td>\n",
       "      <td>1.838573e+13</td>\n",
       "    </tr>\n",
       "    <tr>\n",
       "      <th>32.0</th>\n",
       "      <td>7.947719e-01</td>\n",
       "      <td>1.404971e-01</td>\n",
       "      <td>1.713414e+14</td>\n",
       "    </tr>\n",
       "    <tr>\n",
       "      <th>34.0</th>\n",
       "      <td>8.211396e+00</td>\n",
       "      <td>1.408243e+00</td>\n",
       "      <td>1.613496e+15</td>\n",
       "    </tr>\n",
       "    <tr>\n",
       "      <th>36.0</th>\n",
       "      <td>2.569586e+02</td>\n",
       "      <td>4.282643e+01</td>\n",
       "      <td>1.437111e+16</td>\n",
       "    </tr>\n",
       "    <tr>\n",
       "      <th>38.0</th>\n",
       "      <td>7.184322e+02</td>\n",
       "      <td>1.165451e+02</td>\n",
       "      <td>2.478872e+17</td>\n",
       "    </tr>\n",
       "    <tr>\n",
       "      <th>40.0</th>\n",
       "      <td>6.338917e+04</td>\n",
       "      <td>1.002271e+04</td>\n",
       "      <td>6.472823e+17</td>\n",
       "    </tr>\n",
       "  </tbody>\n",
       "</table>\n",
       "</div>"
      ],
      "text/plain": [
       "      ||𝑥−𝑥𝑐𝑜𝑚𝑝||2  ||𝑥−𝑥𝑐𝑜𝑚𝑝||2/||𝑥||2         𝜅2(𝐴)\n",
       "n                                                    \n",
       "2.0   0.000000e+00         0.000000e+00  1.000000e+00\n",
       "4.0   6.377746e-16         3.188873e-16  8.011561e+00\n",
       "6.0   2.673771e-15         1.091562e-15  6.382728e+01\n",
       "8.0   4.240819e-14         1.499356e-14  5.353531e+02\n",
       "10.0  3.316507e-13         1.048771e-13  4.626450e+03\n",
       "12.0  3.859430e-12         1.114121e-12  4.075488e+04\n",
       "14.0  6.522267e-11         1.743149e-11  3.638308e+05\n",
       "16.0  5.467445e-10         1.366861e-10  3.280032e+06\n",
       "18.0  6.309773e-09         1.487228e-09  2.979360e+07\n",
       "20.0  4.886971e-08         1.092760e-08  2.722408e+08\n",
       "22.0  5.093075e-07         1.085847e-07  2.499663e+09\n",
       "24.0  1.166073e-05         2.380236e-06  2.304339e+10\n",
       "26.0  1.951914e-04         3.828018e-05  2.131441e+11\n",
       "28.0  6.937145e-03         1.310997e-03  1.977201e+12\n",
       "30.0  3.729727e-02         6.809519e-03  1.838573e+13\n",
       "32.0  7.947719e-01         1.404971e-01  1.713414e+14\n",
       "34.0  8.211396e+00         1.408243e+00  1.613496e+15\n",
       "36.0  2.569586e+02         4.282643e+01  1.437111e+16\n",
       "38.0  7.184322e+02         1.165451e+02  2.478872e+17\n",
       "40.0  6.338917e+04         1.002271e+04  6.472823e+17"
      ]
     },
     "execution_count": 120,
     "metadata": {},
     "output_type": "execute_result"
    }
   ],
   "source": [
    "#output the result table\n",
    "df = pd.DataFrame(res, columns=['n', '||𝑥−𝑥𝑐𝑜𝑚𝑝||2','||𝑥−𝑥𝑐𝑜𝑚𝑝||2/||𝑥||2','𝜅2(𝐴)'])\n",
    "df.set_index('n')"
   ]
  },
  {
   "cell_type": "markdown",
   "id": "143e037b",
   "metadata": {},
   "source": [
    "Problem 4"
   ]
  },
  {
   "cell_type": "code",
   "execution_count": 121,
   "id": "b50dba12",
   "metadata": {},
   "outputs": [],
   "source": [
    "E1 = np.array([[0, 1], [-1, -1]])  "
   ]
  },
  {
   "cell_type": "code",
   "execution_count": 122,
   "id": "433514b4",
   "metadata": {},
   "outputs": [],
   "source": [
    "e1 = np.array([1, 0])"
   ]
  },
  {
   "cell_type": "code",
   "execution_count": 123,
   "id": "17ea5e79",
   "metadata": {},
   "outputs": [],
   "source": [
    "E2 = scipy.linalg.expm(E1*10)"
   ]
  },
  {
   "cell_type": "code",
   "execution_count": 124,
   "id": "afbfdbe0",
   "metadata": {},
   "outputs": [
    {
     "data": {
      "text/plain": [
       "array([[-0.00217012,  0.00538548],\n",
       "       [-0.00538548, -0.0075556 ]])"
      ]
     },
     "execution_count": 124,
     "metadata": {},
     "output_type": "execute_result"
    }
   ],
   "source": [
    "E2"
   ]
  },
  {
   "cell_type": "code",
   "execution_count": 125,
   "id": "02126833",
   "metadata": {},
   "outputs": [],
   "source": [
    "#compute the auxiliary value s\n",
    "s = (1 - np.dot(e1.T, E2[:, 0] * 0)) / np.dot(e1.T, E2[:, 1])\n"
   ]
  },
  {
   "cell_type": "code",
   "execution_count": 126,
   "id": "79aef671",
   "metadata": {},
   "outputs": [
    {
     "data": {
      "text/plain": [
       "185.68444885271484"
      ]
     },
     "execution_count": 126,
     "metadata": {},
     "output_type": "execute_result"
    }
   ],
   "source": [
    "s"
   ]
  },
  {
   "cell_type": "code",
   "execution_count": 127,
   "id": "695a8f5b",
   "metadata": {},
   "outputs": [],
   "source": [
    "alpha_s = np.transpose(np.array([0, s]))"
   ]
  },
  {
   "cell_type": "code",
   "execution_count": 128,
   "id": "899711b4",
   "metadata": {},
   "outputs": [],
   "source": [
    "#set x\n",
    "x = np.linspace(0, 10, 100) "
   ]
  },
  {
   "cell_type": "code",
   "execution_count": 129,
   "id": "e22fdb9d",
   "metadata": {},
   "outputs": [],
   "source": [
    "#initialize y\n",
    "y = np.zeros(100)"
   ]
  },
  {
   "cell_type": "code",
   "execution_count": 130,
   "id": "8acba84c",
   "metadata": {},
   "outputs": [],
   "source": [
    "#compute y\n",
    "for i in range(100):\n",
    "    E3 = scipy.linalg.expm(E1*x[i])\n",
    "    y[i] = np.dot(E3, alpha_s)[0]"
   ]
  },
  {
   "cell_type": "code",
   "execution_count": 131,
   "id": "1c3c91d0",
   "metadata": {},
   "outputs": [
    {
     "data": {
      "image/png": "[encoded data removed]",
      "text/plain": [
       "<Figure size 432x288 with 1 Axes>"
      ]
     },
     "metadata": {
      "needs_background": "light"
     },
     "output_type": "display_data"
    }
   ],
   "source": [
    "fig = plt.figure()\n",
    "plt.xlabel('$X$')\n",
    "plt.ylabel('$Y1$')\n",
    "plt.plot(x, y,'r')\n",
    "plt.show()"
   ]
  },
  {
   "cell_type": "code",
   "execution_count": 132,
   "id": "46817769",
   "metadata": {},
   "outputs": [],
   "source": [
    "#initialize s_new with s+perturbation\n",
    "s_new = s+10**-8"
   ]
  },
  {
   "cell_type": "code",
   "execution_count": 133,
   "id": "9b273028",
   "metadata": {},
   "outputs": [],
   "source": [
    "alpha_s_new = np.transpose(np.array([0, s_new]))"
   ]
  },
  {
   "cell_type": "code",
   "execution_count": 134,
   "id": "7e8a5530",
   "metadata": {},
   "outputs": [],
   "source": [
    "#initialize the y_new array to store y with perturbation\n",
    "y_new = np.zeros(100)"
   ]
  },
  {
   "cell_type": "code",
   "execution_count": 135,
   "id": "a0a77634",
   "metadata": {},
   "outputs": [],
   "source": [
    "#compute y with perturbation\n",
    "for i in range(100):\n",
    "    E4 = scipy.linalg.expm(E1*x[i])\n",
    "    y_new[i] = np.dot(E4, alpha_s_new)[0]"
   ]
  },
  {
   "cell_type": "code",
   "execution_count": 136,
   "id": "eebe350c",
   "metadata": {},
   "outputs": [
    {
     "data": {
      "image/png": "[encoded data removed]",
      "text/plain": [
       "<Figure size 432x288 with 1 Axes>"
      ]
     },
     "metadata": {
      "needs_background": "light"
     },
     "output_type": "display_data"
    }
   ],
   "source": [
    "fig = plt.figure()\n",
    "plt.xlabel('$X$')\n",
    "plt.ylabel('$Y1$')\n",
    "plt.plot(x, y_new,'r')\n",
    "plt.show()"
   ]
  },
  {
   "cell_type": "markdown",
   "id": "44313ba8",
   "metadata": {},
   "source": [
    "part ii"
   ]
  },
  {
   "cell_type": "code",
   "execution_count": 137,
   "id": "1c36bf39",
   "metadata": {},
   "outputs": [],
   "source": [
    "E5 = np.array([[0, 1], [2, 2]])"
   ]
  },
  {
   "cell_type": "code",
   "execution_count": 138,
   "id": "909bdbb9",
   "metadata": {},
   "outputs": [],
   "source": [
    "E6 = scipy.linalg.expm(E5*10)"
   ]
  },
  {
   "cell_type": "code",
   "execution_count": 139,
   "id": "71fb95fb",
   "metadata": {},
   "outputs": [
    {
     "data": {
      "text/plain": [
       "array([[1.54916081e+11, 2.11619302e+11],\n",
       "       [4.23238603e+11, 5.78154684e+11]])"
      ]
     },
     "execution_count": 139,
     "metadata": {},
     "output_type": "execute_result"
    }
   ],
   "source": [
    "E6"
   ]
  },
  {
   "cell_type": "code",
   "execution_count": 140,
   "id": "793bb4b5",
   "metadata": {},
   "outputs": [],
   "source": [
    "#compute the s given sigma = gamma = -2\n",
    "s1 = (1 - np.dot(e1.T, E6[:, 0] * 0)) / np.dot(e1.T, E6[:, 1])"
   ]
  },
  {
   "cell_type": "code",
   "execution_count": 141,
   "id": "488f032b",
   "metadata": {},
   "outputs": [
    {
     "data": {
      "text/plain": [
       "4.725466872852787e-12"
      ]
     },
     "execution_count": 141,
     "metadata": {},
     "output_type": "execute_result"
    }
   ],
   "source": [
    "s1"
   ]
  },
  {
   "cell_type": "code",
   "execution_count": 142,
   "id": "98b2cd7f",
   "metadata": {},
   "outputs": [],
   "source": [
    "#initialize y\n",
    "y1 = np.zeros(100)"
   ]
  },
  {
   "cell_type": "code",
   "execution_count": 143,
   "id": "d6a105b7",
   "metadata": {},
   "outputs": [],
   "source": [
    "alpha_s1 = np.transpose(np.array([0, s1]))"
   ]
  },
  {
   "cell_type": "code",
   "execution_count": 144,
   "id": "19211591",
   "metadata": {},
   "outputs": [],
   "source": [
    "#compute y\n",
    "for i in range(100):\n",
    "    E7 = scipy.linalg.expm(E5*x[i])\n",
    "    y1[i] = np.dot(E7, alpha_s1)[0]"
   ]
  },
  {
   "cell_type": "code",
   "execution_count": 145,
   "id": "740e07f8",
   "metadata": {},
   "outputs": [
    {
     "data": {
      "image/png": "[encoded data removed]",
      "text/plain": [
       "<Figure size 432x288 with 1 Axes>"
      ]
     },
     "metadata": {
      "needs_background": "light"
     },
     "output_type": "display_data"
    }
   ],
   "source": [
    "fig = plt.figure()\n",
    "plt.xlabel('$X$')\n",
    "plt.ylabel('$logY1$')\n",
    "plt.semilogy(x, y1,'r')\n",
    "plt.show()"
   ]
  },
  {
   "cell_type": "code",
   "execution_count": 146,
   "id": "c6abccab",
   "metadata": {},
   "outputs": [],
   "source": [
    "#set s1 with perturbation\n",
    "s1_new = s1+10**-8"
   ]
  },
  {
   "cell_type": "code",
   "execution_count": 147,
   "id": "b9f84982",
   "metadata": {},
   "outputs": [],
   "source": [
    "alpha_s1_new = np.transpose(np.array([0, s1_new]))"
   ]
  },
  {
   "cell_type": "code",
   "execution_count": 148,
   "id": "43499a08",
   "metadata": {},
   "outputs": [],
   "source": [
    "y1_new = np.zeros(100)"
   ]
  },
  {
   "cell_type": "code",
   "execution_count": 149,
   "id": "2a2d8adb",
   "metadata": {},
   "outputs": [],
   "source": [
    "#compute y with perturbation\n",
    "for i in range(100):\n",
    "    E8 = scipy.linalg.expm(E5*x[i])\n",
    "    y1_new[i] = np.dot(E8, alpha_s1_new)[0]"
   ]
  },
  {
   "cell_type": "code",
   "execution_count": 150,
   "id": "d9be2b7a",
   "metadata": {},
   "outputs": [
    {
     "data": {
      "image/png": "[encoded data removed]",
      "text/plain": [
       "<Figure size 432x288 with 1 Axes>"
      ]
     },
     "metadata": {
      "needs_background": "light"
     },
     "output_type": "display_data"
    }
   ],
   "source": [
    "fig = plt.figure()\n",
    "plt.xlabel('$X$')\n",
    "plt.ylabel('$logY1$')\n",
    "plt.semilogy(x, y1_new,'r')\n",
    "plt.show()"
   ]
  },
  {
   "cell_type": "markdown",
   "id": "c39a577c",
   "metadata": {},
   "source": [
    "Problem 5"
   ]
  },
  {
   "cell_type": "markdown",
   "id": "3e652fc5",
   "metadata": {},
   "source": [
    "part i"
   ]
  },
  {
   "cell_type": "code",
   "execution_count": 151,
   "id": "56806151",
   "metadata": {},
   "outputs": [],
   "source": [
    "ME1 = np.array([[0, 1], [-1, -1]])"
   ]
  },
  {
   "cell_type": "code",
   "execution_count": 152,
   "id": "2be58d47",
   "metadata": {},
   "outputs": [],
   "source": [
    "ME1e = scipy.linalg.expm(ME1)"
   ]
  },
  {
   "cell_type": "code",
   "execution_count": 153,
   "id": "2801a594",
   "metadata": {},
   "outputs": [],
   "source": [
    "#Compute S2,0\n",
    "s20 = (1 - np.dot(e1.T, E2[:, 0] * 0)) / np.dot(e1.T, ME1e[:, 1])"
   ]
  },
  {
   "cell_type": "code",
   "execution_count": 154,
   "id": "f0264ef6",
   "metadata": {},
   "outputs": [
    {
     "data": {
      "text/plain": [
       "1.8743889663662754"
      ]
     },
     "execution_count": 154,
     "metadata": {},
     "output_type": "execute_result"
    }
   ],
   "source": [
    "s20"
   ]
  },
  {
   "cell_type": "code",
   "execution_count": 155,
   "id": "14845e5d",
   "metadata": {},
   "outputs": [],
   "source": [
    "s = np.zeros((10, 2))"
   ]
  },
  {
   "cell_type": "code",
   "execution_count": 156,
   "id": "30e96373",
   "metadata": {},
   "outputs": [],
   "source": [
    "#initialize S1, 0 and S2, 0\n",
    "s[0] = [0, s20]"
   ]
  },
  {
   "cell_type": "code",
   "execution_count": 157,
   "id": "4c5a1a05",
   "metadata": {},
   "outputs": [],
   "source": [
    "#calculate s recursively\n",
    "for i in range(1, 10):\n",
    "    s[i] = np.dot(ME1e, s[i-1])"
   ]
  },
  {
   "cell_type": "code",
   "execution_count": 158,
   "id": "ce3a9aa1",
   "metadata": {},
   "outputs": [
    {
     "data": {
      "text/plain": [
       "array([[ 0.        ,  1.87438897],\n",
       "       [ 1.        ,  0.23653469],\n",
       "       [ 0.78589311, -0.50365818],\n",
       "       [ 0.24974854, -0.48283775],\n",
       "       [-0.09283826, -0.19417337],\n",
       "       [-0.1648383 ,  0.02502657],\n",
       "       [-0.095392  ,  0.0911006 ],\n",
       "       [-0.01432729,  0.06238857],\n",
       "       [ 0.02383303,  0.01551671],\n",
       "       [ 0.02400093, -0.010757  ]])"
      ]
     },
     "execution_count": 158,
     "metadata": {},
     "output_type": "execute_result"
    }
   ],
   "source": [
    "s"
   ]
  },
  {
   "cell_type": "code",
   "execution_count": 159,
   "id": "30141653",
   "metadata": {},
   "outputs": [],
   "source": [
    "x = np.linspace(0, 10, 100)"
   ]
  },
  {
   "cell_type": "code",
   "execution_count": 160,
   "id": "3789aa27",
   "metadata": {},
   "outputs": [],
   "source": [
    "y = np.zeros((100, 2))"
   ]
  },
  {
   "cell_type": "code",
   "execution_count": 161,
   "id": "4333432b",
   "metadata": {},
   "outputs": [],
   "source": [
    "#calculate y\n",
    "for i in range(1, 100):\n",
    "    ME3 = scipy.linalg.expm(ME1*(x[i]%1))\n",
    "    y[i] = np.dot(ME3, s[i//10])"
   ]
  },
  {
   "cell_type": "code",
   "execution_count": 162,
   "id": "c088fc48",
   "metadata": {},
   "outputs": [
    {
     "data": {
      "image/png": "[encoded data removed]",
      "text/plain": [
       "<Figure size 432x288 with 1 Axes>"
      ]
     },
     "metadata": {
      "needs_background": "light"
     },
     "output_type": "display_data"
    }
   ],
   "source": [
    "fig = plt.figure()\n",
    "plt.xlabel('$X$')\n",
    "plt.ylabel('$Y1$')\n",
    "plt.plot(x, y[:, 0],'r')\n",
    "plt.show()"
   ]
  },
  {
   "cell_type": "code",
   "execution_count": 163,
   "id": "a69770f7",
   "metadata": {},
   "outputs": [],
   "source": [
    "y_new = np.zeros((100, 2))"
   ]
  },
  {
   "cell_type": "code",
   "execution_count": 164,
   "id": "27d5d7fc",
   "metadata": {},
   "outputs": [],
   "source": [
    "#calculate y with perturbation\n",
    "for i in range(1, 100):\n",
    "    ME3 = scipy.linalg.expm(ME1*(x[i]%1))\n",
    "    y_new[i] = np.dot(ME3, s[i//10] + 10**-8)"
   ]
  },
  {
   "cell_type": "code",
   "execution_count": 165,
   "id": "873a02aa",
   "metadata": {},
   "outputs": [
    {
     "data": {
      "image/png": "[encoded data removed]",
      "text/plain": [
       "<Figure size 432x288 with 1 Axes>"
      ]
     },
     "metadata": {
      "needs_background": "light"
     },
     "output_type": "display_data"
    }
   ],
   "source": [
    "fig = plt.figure()\n",
    "plt.xlabel('$X$')\n",
    "plt.ylabel('$Y1$')\n",
    "plt.plot(x, y_new[:, 0],'r')\n",
    "plt.show()"
   ]
  },
  {
   "cell_type": "markdown",
   "id": "86bcf86a",
   "metadata": {},
   "source": [
    "part ii"
   ]
  },
  {
   "cell_type": "code",
   "execution_count": 166,
   "id": "d42030f7",
   "metadata": {},
   "outputs": [],
   "source": [
    "ME2 = np.array([[0, 1], [2, 2]])"
   ]
  },
  {
   "cell_type": "code",
   "execution_count": 167,
   "id": "15f632e9",
   "metadata": {},
   "outputs": [],
   "source": [
    "ME2e = scipy.linalg.expm(ME2)"
   ]
  },
  {
   "cell_type": "code",
   "execution_count": 168,
   "id": "c664f5e4",
   "metadata": {},
   "outputs": [],
   "source": [
    "#compute the s given sigma = gamma = -2\n",
    "s20 = (1 - np.dot(e1.T, E6[:, 0] * 0)) / np.dot(e1.T, ME2e[:, 1])\n"
   ]
  },
  {
   "cell_type": "code",
   "execution_count": 169,
   "id": "e5c35d82",
   "metadata": {},
   "outputs": [
    {
     "data": {
      "text/plain": [
       "0.23274868308465502"
      ]
     },
     "execution_count": 169,
     "metadata": {},
     "output_type": "execute_result"
    }
   ],
   "source": [
    "s20"
   ]
  },
  {
   "cell_type": "code",
   "execution_count": 170,
   "id": "770bf2ea",
   "metadata": {},
   "outputs": [],
   "source": [
    "s_ii = np.zeros((10, 2))"
   ]
  },
  {
   "cell_type": "code",
   "execution_count": 171,
   "id": "4ae10e14",
   "metadata": {},
   "outputs": [],
   "source": [
    "#initialize s1, 0 and s2, 0\n",
    "s_ii[0] = [0, s20]"
   ]
  },
  {
   "cell_type": "code",
   "execution_count": 172,
   "id": "b701587a",
   "metadata": {},
   "outputs": [],
   "source": [
    "for i in range(1, 10):\n",
    "    s_ii[i] = np.dot(ME2e, s_ii[i-1])"
   ]
  },
  {
   "cell_type": "code",
   "execution_count": 173,
   "id": "96fdf91f",
   "metadata": {},
   "outputs": [
    {
     "data": {
      "text/plain": [
       "array([[0.00000000e+00, 2.32748683e-01],\n",
       "       [1.00000000e+00, 2.84398470e+00],\n",
       "       [1.58452858e+01, 4.33439573e+01],\n",
       "       [2.43684026e+02, 6.65783028e+02],\n",
       "       [3.74416132e+03, 1.02292514e+04],\n",
       "       [5.75267112e+04, 1.57165904e+05],\n",
       "       [8.83861362e+05, 2.41475415e+06],\n",
       "       [1.35799678e+07, 3.71011619e+07],\n",
       "       [2.08647569e+08, 5.70035760e+08],\n",
       "       [3.20573722e+09, 8.75823696e+09]])"
      ]
     },
     "execution_count": 173,
     "metadata": {},
     "output_type": "execute_result"
    }
   ],
   "source": [
    "#result of auxiliary values s\n",
    "s_ii"
   ]
  },
  {
   "cell_type": "code",
   "execution_count": 174,
   "id": "15acbeef",
   "metadata": {},
   "outputs": [],
   "source": [
    "y_ii = np.zeros((100, 2))"
   ]
  },
  {
   "cell_type": "code",
   "execution_count": 175,
   "id": "1e43ad01",
   "metadata": {},
   "outputs": [],
   "source": [
    "#compute y\n",
    "for i in range(1, 100):\n",
    "    ME4 = scipy.linalg.expm(ME2*(x[i]%1))\n",
    "    y_ii[i] = np.dot(ME4, s_ii[i//10])"
   ]
  },
  {
   "cell_type": "code",
   "execution_count": 176,
   "id": "f8a3360d",
   "metadata": {},
   "outputs": [
    {
     "data": {
      "image/png": "[encoded data removed]",
      "text/plain": [
       "<Figure size 432x288 with 1 Axes>"
      ]
     },
     "metadata": {
      "needs_background": "light"
     },
     "output_type": "display_data"
    }
   ],
   "source": [
    "fig = plt.figure()\n",
    "plt.xlabel('$X$')\n",
    "plt.ylabel('$Y1$')\n",
    "plt.plot(x, y_ii[:, 0],'r')\n",
    "plt.show()"
   ]
  },
  {
   "cell_type": "code",
   "execution_count": 177,
   "id": "697f039c",
   "metadata": {},
   "outputs": [],
   "source": [
    "y_ii_new = np.zeros((100, 2))"
   ]
  },
  {
   "cell_type": "code",
   "execution_count": 178,
   "id": "4f174e7e",
   "metadata": {},
   "outputs": [],
   "source": [
    "#compute y with perturbation\n",
    "for i in range(1, 100):\n",
    "    ME4 = scipy.linalg.expm(ME2*(x[i]%1))\n",
    "    y_ii_new[i] = np.dot(ME4, s_ii[i//10] + 10**-8)"
   ]
  },
  {
   "cell_type": "code",
   "execution_count": 179,
   "id": "c9d70119",
   "metadata": {},
   "outputs": [
    {
     "data": {
      "image/png": "[encoded data removed]",
      "text/plain": [
       "<Figure size 432x288 with 1 Axes>"
      ]
     },
     "metadata": {
      "needs_background": "light"
     },
     "output_type": "display_data"
    }
   ],
   "source": [
    "fig = plt.figure()\n",
    "plt.xlabel('$X$')\n",
    "plt.ylabel('$Y1$')\n",
    "plt.plot(x, y_ii_new[:, 0],'r')\n",
    "plt.show()"
   ]
  },
  {
   "cell_type": "code",
   "execution_count": null,
   "id": "0baafa8f",
   "metadata": {},
   "outputs": [],
   "source": []
  }
 ],
 "metadata": {
  "kernelspec": {
   "display_name": "Python 3",
   "language": "python",
   "name": "python3"
  },
  "language_info": {
   "codemirror_mode": {
    "name": "ipython",
    "version": 3
   },
   "file_extension": ".py",
   "mimetype": "text/x-python",
   "name": "python",
   "nbconvert_exporter": "python",
   "pygments_lexer": "ipython3",
   "version": "3.8.8"
  }
 },
 "nbformat": 4,
 "nbformat_minor": 5
}
