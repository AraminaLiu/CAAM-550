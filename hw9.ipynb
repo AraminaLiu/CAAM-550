{
 "cells": [
  {
   "cell_type": "markdown",
   "id": "9e2283dd",
   "metadata": {},
   "source": [
    "Problem 1"
   ]
  },
  {
   "cell_type": "code",
   "execution_count": 4,
   "id": "35ebb63c",
   "metadata": {},
   "outputs": [],
   "source": [
    "import numpy as np\n",
    "import math\n",
    "import matplotlib.pyplot as plt\n",
    "from tabulate import tabulate"
   ]
  },
  {
   "cell_type": "code",
   "execution_count": 2,
   "id": "6e7d61f3",
   "metadata": {},
   "outputs": [],
   "source": [
    "xi = np.array([25, 19, 13, 9, 5, 2.2, 1, 3, 8, 13, 18, 25])\n",
    "yi = np.array([5, 7.5, 9.1, 9.4, 9, 7.5, 5, 2.1, 2, 3.5, 4.5, 5])"
   ]
  },
  {
   "cell_type": "code",
   "execution_count": 3,
   "id": "2e0d2b1b",
   "metadata": {},
   "outputs": [],
   "source": [
    "def ti(x, y):\n",
    "    n = len(x)\n",
    "    t = np.zeros(n)\n",
    "    for i in range(1, n):\n",
    "        t[i] = t[i-1] + math.sqrt((x[i] - x[i-1])**2 + (y[i] - y[i-1])**2)\n",
    "        \n",
    "    return t"
   ]
  },
  {
   "cell_type": "code",
   "execution_count": 4,
   "id": "6e6bdc5e",
   "metadata": {},
   "outputs": [],
   "source": [
    "t = ti(xi, yi)"
   ]
  },
  {
   "cell_type": "code",
   "execution_count": 5,
   "id": "d34cd953",
   "metadata": {
    "scrolled": true
   },
   "outputs": [
    {
     "data": {
      "text/plain": [
       "array([ 0.        ,  6.5       , 12.70966988, 16.7209041 , 20.74085435,\n",
       "       23.91733039, 26.69041531, 30.2131983 , 35.2141982 , 40.43435146,\n",
       "       45.53337097, 52.55120539])"
      ]
     },
     "execution_count": 5,
     "metadata": {},
     "output_type": "execute_result"
    }
   ],
   "source": [
    "t"
   ]
  },
  {
   "cell_type": "code",
   "execution_count": 12,
   "id": "78b543c6",
   "metadata": {},
   "outputs": [],
   "source": [
    "h = np.zeros(len(t) - 1)"
   ]
  },
  {
   "cell_type": "code",
   "execution_count": 13,
   "id": "11411a07",
   "metadata": {},
   "outputs": [],
   "source": [
    "for i in range(len(h)):\n",
    "    h[i] = t[i+1] - t[i]"
   ]
  },
  {
   "cell_type": "code",
   "execution_count": 14,
   "id": "03788bae",
   "metadata": {
    "scrolled": true
   },
   "outputs": [
    {
     "data": {
      "text/plain": [
       "array([6.5       , 6.20966988, 4.01123422, 4.01995025, 3.17647603,\n",
       "       2.77308492, 3.52278299, 5.0009999 , 5.22015325, 5.09901951,\n",
       "       7.01783442])"
      ]
     },
     "execution_count": 14,
     "metadata": {},
     "output_type": "execute_result"
    }
   ],
   "source": [
    "h"
   ]
  },
  {
   "cell_type": "code",
   "execution_count": 14,
   "id": "a38492cf",
   "metadata": {},
   "outputs": [
    {
     "data": {
      "text/plain": [
       "7.017834423809099"
      ]
     },
     "execution_count": 14,
     "metadata": {},
     "output_type": "execute_result"
    }
   ],
   "source": [
    "h[len(t)-2]"
   ]
  },
  {
   "cell_type": "code",
   "execution_count": 12,
   "id": "ffdca2a4",
   "metadata": {},
   "outputs": [
    {
     "data": {
      "text/plain": [
       "array([ 0.        ,  6.5       , 12.70966988, 16.7209041 , 20.74085435,\n",
       "       23.91733039, 26.69041531, 30.2131983 , 35.2141982 , 40.43435146,\n",
       "       45.53337097, 52.55120539])"
      ]
     },
     "execution_count": 12,
     "metadata": {},
     "output_type": "execute_result"
    }
   ],
   "source": [
    "t"
   ]
  },
  {
   "cell_type": "code",
   "execution_count": 18,
   "id": "a74821c0",
   "metadata": {},
   "outputs": [],
   "source": [
    "def cubic_spline(t, f, h):\n",
    "    n = len(t)\n",
    "    ai = np.zeros(n)\n",
    "    bi = np.zeros(n-1)\n",
    "    #ci = np.zeros(n)\n",
    "    di = np.zeros(n-1)\n",
    "    T = np.zeros((n-2, n-2))\n",
    "    a = np.zeros(n-2)\n",
    "    \n",
    "    \n",
    "    \n",
    "    for i in range(n):\n",
    "        ai[i] = f[i]\n",
    "        \n",
    "    T[0][0] = 2*(h[0] + h[1])\n",
    "    T[0][1] = h[1]\n",
    "    T[n-3][n-4] = h[n-3]\n",
    "    T[n-3][n-3] = 2*(h[n-3]+h[n-2])\n",
    "    \n",
    "    for i in range(1, n-3):\n",
    "        T[i][i-1] = h[i]\n",
    "        T[i][i] = 2*(h[i]+h[i+1])\n",
    "        T[i][i+1] = h[i+1]\n",
    "    \n",
    "    for i in range(n-2):\n",
    "        a[i] = 3/h[i+1] * (ai[i+2] - ai[i+1]) - 3/h[i] * (ai[i+1] - ai[i])\n",
    "        \n",
    "    \n",
    "    c = np.linalg.solve(T, a)\n",
    "    c = np.insert(c, [0, n-2], 0)\n",
    "    \n",
    "    for i in range(n-2):\n",
    "        bi[i] = 1/h[i]*(ai[i+1] - ai[i]) - h[i]/3 * (2*c[i] + c[i+1])\n",
    "        di[i] = 1/(3*h[i])*(c[i+1] - c[i])\n",
    "        \n",
    "    result = np.vstack((ai[:n-1], bi, c[:n-1], di))\n",
    "    return result"
   ]
  },
  {
   "cell_type": "code",
   "execution_count": 70,
   "id": "d3d43006",
   "metadata": {},
   "outputs": [],
   "source": [
    "coeff = cubic_spline(t, xi, h)"
   ]
  },
  {
   "cell_type": "code",
   "execution_count": 24,
   "id": "026153ff",
   "metadata": {},
   "outputs": [],
   "source": [
    "coeff2 = cubic_spline(t, yi, h)"
   ]
  },
  {
   "cell_type": "code",
   "execution_count": 20,
   "id": "20d17350",
   "metadata": {},
   "outputs": [],
   "source": [
    "def cubic_output(t, x, coeff):\n",
    "    S = np.zeros(len(x))\n",
    "    for i in range(len(x)):\n",
    "        for j in range(len(t)-1):\n",
    "            if (x[i] <= t[j+1]) & (x[i] >= t[j]):\n",
    "                S[i] = coeff[0][j] + coeff[1][j]*(x[i] - t[j]) + coeff[2][j]*(x[i] - t[j])**2 + coeff[3][j]*(x[i] - t[j])**3\n",
    "    \n",
    "    return S\n",
    "            \n",
    "                \n",
    "    "
   ]
  },
  {
   "cell_type": "code",
   "execution_count": 21,
   "id": "7c25a85c",
   "metadata": {},
   "outputs": [],
   "source": [
    "x = np.linspace(t[0], t[-1], 1000)"
   ]
  },
  {
   "cell_type": "code",
   "execution_count": 22,
   "id": "fa2ecf77",
   "metadata": {},
   "outputs": [],
   "source": [
    "xt = cubic_output(t, x, coeff)"
   ]
  },
  {
   "cell_type": "code",
   "execution_count": 25,
   "id": "659f19b1",
   "metadata": {},
   "outputs": [],
   "source": [
    "yt = cubic_output(t, x, coeff2 )"
   ]
  },
  {
   "cell_type": "code",
   "execution_count": 29,
   "id": "40b6aab1",
   "metadata": {},
   "outputs": [
    {
     "data": {
      "image/png": "[encoded data removed]",
      "text/plain": [
       "<Figure size 432x288 with 1 Axes>"
      ]
     },
     "metadata": {
      "needs_background": "light"
     },
     "output_type": "display_data"
    }
   ],
   "source": [
    "fig = plt.figure()\n",
    "plt.plot(t, xi, label = \"original function\")\n",
    "plt.plot(x, xt, '--r', label = \"approximation of x\")\n",
    "\n",
    "plt.xlabel('$t$')\n",
    "plt.ylabel('$x$')\n",
    "plt.legend()\n",
    "plt.show()"
   ]
  },
  {
   "cell_type": "code",
   "execution_count": 31,
   "id": "8718f5e6",
   "metadata": {},
   "outputs": [
    {
     "data": {
      "image/png": "[encoded data removed]",
      "text/plain": [
       "<Figure size 432x288 with 1 Axes>"
      ]
     },
     "metadata": {
      "needs_background": "light"
     },
     "output_type": "display_data"
    }
   ],
   "source": [
    "fig = plt.figure()\n",
    "plt.plot(t, yi, label = \"original function\")\n",
    "plt.plot(x, yt, '--r', label = \"approximation of y\")\n",
    "\n",
    "plt.xlabel('$t$')\n",
    "plt.ylabel('$y$')\n",
    "plt.legend()\n",
    "plt.show()"
   ]
  },
  {
   "cell_type": "code",
   "execution_count": 125,
   "id": "db321a3b",
   "metadata": {},
   "outputs": [
    {
     "data": {
      "text/plain": [
       "1000"
      ]
     },
     "execution_count": 125,
     "metadata": {},
     "output_type": "execute_result"
    }
   ],
   "source": [
    "len(yt)"
   ]
  },
  {
   "cell_type": "code",
   "execution_count": 112,
   "id": "b1be9ddb",
   "metadata": {},
   "outputs": [
    {
     "data": {
      "text/plain": [
       "array([ 0.        ,  5.6548166 ,  6.30918085,  6.96264042,  7.61474296,\n",
       "        8.26503613,  8.91306758,  9.55838497, 10.20053597, 10.83906821,\n",
       "       11.47352937, 12.1034671 , 12.72842906,  8.15473619,  9.0169074 ,\n",
       "        9.87258695, 10.72123199, 11.56229965, 12.39524708, 13.2195314 ,\n",
       "       14.03460975, 14.83993927, 15.63497709, 16.41918036,  9.17649127,\n",
       "       10.52301679, 11.85820915, 13.18259502, 14.49670104, 15.80105389,\n",
       "       17.09618021, 18.38260666, 10.09562156, 11.47983191, 12.85179073,\n",
       "       14.20860331, 15.54737493, 16.86521088, 18.15921644, 19.4264969 ,\n",
       "       10.45201031, 11.98641199, 13.48346028, 14.93925143, 16.34988172,\n",
       "       17.71144742,  8.42441236,  9.36298645, 10.26840532, 11.15098289,\n",
       "       12.02103309,  4.90507771,  4.78159193,  4.6785538 ,  4.60746039,\n",
       "        4.57980873,  4.60709589,  2.08869954,  1.99111049,  1.96265658,\n",
       "        1.99607905,  2.08411912,  2.21951802,  2.39501698,  2.60335723,\n",
       "        2.83728   ,  3.08952652,  2.24529487,  2.622576  ,  3.00567148,\n",
       "        3.39290238,  3.78258975,  4.17305467,  4.5626182 ,  4.9496014 ,\n",
       "        5.33232534,  5.70911107,  3.94706172,  4.48071566,  5.00662513,\n",
       "        5.52487976,  6.03556916,  6.53878295,  7.03461075,  7.52314217,\n",
       "        8.00446682,  4.49982831,  4.49474906,  4.48262251,  4.46344864,\n",
       "        4.43722747,  4.40395899,  4.3636432 ,  4.31628011,  4.2618697 ,\n",
       "        4.20041199,  4.13190697,  4.05635464,  3.973755  ,  3.88410805])"
      ]
     },
     "execution_count": 112,
     "metadata": {},
     "output_type": "execute_result"
    }
   ],
   "source": [
    "yt"
   ]
  },
  {
   "cell_type": "code",
   "execution_count": 113,
   "id": "b64ac5f4",
   "metadata": {},
   "outputs": [
    {
     "data": {
      "text/plain": [
       "array([[ 2.50000000e+01,  1.90000000e+01,  1.30000000e+01,\n",
       "         9.00000000e+00,  5.00000000e+00,  2.20000000e+00,\n",
       "         1.00000000e+00,  3.00000000e+00,  8.00000000e+00,\n",
       "         1.30000000e+01,  1.80000000e+01],\n",
       "       [ 2.95249605e+00,  2.13262640e+00,  2.25195701e+00,\n",
       "         1.14877793e+00,  1.82123696e-01, -1.03157448e+00,\n",
       "        -6.39708411e-02,  1.53112553e+00,  2.52351925e+00,\n",
       "         3.49382918e+00,  0.00000000e+00],\n",
       "       [ 0.00000000e+00, -4.38463288e-03, -2.90185741e-03,\n",
       "        -1.58225001e-03,  1.08312466e-02,  6.01735036e-02,\n",
       "         2.14861670e-01,  3.66313936e-02, -1.70337567e-02,\n",
       "         7.48911949e-03,  5.13619545e-04],\n",
       "       [-2.24852968e-04,  7.95949704e-05,  1.09659299e-04,\n",
       "         1.02932423e-03,  5.17788229e-03,  1.85939931e-02,\n",
       "        -1.68645336e-02, -3.57696137e-03,  1.56591036e-03,\n",
       "        -4.56002696e-04,  0.00000000e+00]])"
      ]
     },
     "execution_count": 113,
     "metadata": {},
     "output_type": "execute_result"
    }
   ],
   "source": [
    "coeff"
   ]
  },
  {
   "cell_type": "markdown",
   "id": "37e0a4dd",
   "metadata": {},
   "source": [
    "Problem 2"
   ]
  },
  {
   "cell_type": "markdown",
   "id": "3e65463e",
   "metadata": {},
   "source": [
    "(a)"
   ]
  },
  {
   "cell_type": "markdown",
   "id": "a8a2f879",
   "metadata": {},
   "source": [
    "### In order to construct piecewise cubic Hermite interpolation P, we use $P(t_i) = y_iH_0(t_i) + y_{i+1}H_1(t_i) + y'_ih_0(t_i) + y'_{i+1}h_1(t_i)$, where $t_i = \\frac{x-x_i}{x_{i+1} - x_i}$."
   ]
  },
  {
   "cell_type": "markdown",
   "id": "52692613",
   "metadata": {},
   "source": [
    "(b)"
   ]
  },
  {
   "cell_type": "code",
   "execution_count": 36,
   "id": "76322d95",
   "metadata": {},
   "outputs": [],
   "source": [
    "def Runge(x):\n",
    "    f = np.zeros(len(x))\n",
    "    f_der = np.zeros(len(x))\n",
    "    for i in range(len(x)):\n",
    "        f[i] = 1/(1 + x[i]**2)\n",
    "        f_der[i] = -2*x[i]/(1+x[i]**2)**2\n",
    "    return f, f_der"
   ]
  },
  {
   "cell_type": "code",
   "execution_count": 46,
   "id": "94b4eb4c",
   "metadata": {},
   "outputs": [],
   "source": [
    "def cubic_hermite_interpolation(x,X):\n",
    "    y,y_der = Runge(x)\n",
    "    n = len(X)\n",
    "    P = []\n",
    "    \n",
    "    for i in range(n):\n",
    "        j = np.where(X[i] <= x)[0][0]\n",
    "        if j != 0:\n",
    "            j = j-1\n",
    "        \n",
    "        ti = (X[i]-x[j])/(x[j+1]-x[j])\n",
    "                \n",
    "        H0 = 2*ti**3-3*ti**2+1\n",
    "        H1 = -2*ti**3+3*ti**2\n",
    "        h0 = ti**3-2*ti**2+ti\n",
    "        h1 = ti**3-ti**2\n",
    "        \n",
    "        Hj = H0*y[j] + H1*y[j+1] + h0*y_der[j] + h1*y_der[j+1]\n",
    "        P.append(Hj)\n",
    "        \n",
    "    return P"
   ]
  },
  {
   "cell_type": "code",
   "execution_count": 47,
   "id": "b60a3b7d",
   "metadata": {},
   "outputs": [],
   "source": [
    "X = np.linspace(-5,5,100)\n",
    "x1 = np.linspace(-5,5,5)\n",
    "x2 = np.linspace(-5,5,10)"
   ]
  },
  {
   "cell_type": "code",
   "execution_count": 49,
   "id": "ad1effd3",
   "metadata": {},
   "outputs": [],
   "source": [
    "F, F_der = Runge(X)\n",
    "f1, f1_der = Runge(x1)\n",
    "f2, f2_der = Runge(x2)"
   ]
  },
  {
   "cell_type": "code",
   "execution_count": 51,
   "id": "c2f32b90",
   "metadata": {},
   "outputs": [],
   "source": [
    "Y1 = cubic_hermite_interpolation(x1,X)\n",
    "Y2 = cubic_hermite_interpolation(x2,X)"
   ]
  },
  {
   "cell_type": "code",
   "execution_count": 52,
   "id": "06f19afc",
   "metadata": {},
   "outputs": [
    {
     "data": {
      "text/plain": [
       "<matplotlib.legend.Legend at 0x2f328267610>"
      ]
     },
     "execution_count": 52,
     "metadata": {},
     "output_type": "execute_result"
    },
    {
     "data": {
      "image/png": "[encoded data removed]",
      "text/plain": [
       "<Figure size 1440x576 with 2 Axes>"
      ]
     },
     "metadata": {
      "needs_background": "light"
     },
     "output_type": "display_data"
    }
   ],
   "source": [
    "fig, axs = plt.subplots(1,2,figsize=(20,8))\n",
    "axs[0].plot(x1, f1,'.r', label=\"original points\")\n",
    "axs[0].plot(X, F, 'g', label=\"true Runge function\")\n",
    "axs[0].plot(X, Y1, 'b', label=\"cubic hermite interpolation with n = 5\")\n",
    "axs[0].set_xlabel('$x$')\n",
    "axs[0].legend()\n",
    "axs[1].plot(x2, f2,'.r', label=\"original points\")\n",
    "axs[1].plot(X, F, 'g', label=\"true Runge function\")\n",
    "axs[1].plot(X, Y2, 'b', label=\"cubic hermite interpolation with n = 10\")\n",
    "axs[1].set_xlabel('$x$')\n",
    "axs[1].legend()"
   ]
  },
  {
   "cell_type": "markdown",
   "id": "d414cc97",
   "metadata": {},
   "source": [
    "Problem 4"
   ]
  },
  {
   "cell_type": "markdown",
   "id": "39cd5513",
   "metadata": {},
   "source": [
    "(i)"
   ]
  },
  {
   "cell_type": "markdown",
   "id": "99b4af22",
   "metadata": {},
   "source": [
    "#### $T(h) = \\frac{h}{2}f(a) + h \\sum_{i=1}^{n-1}f(a+ih) + \\frac{h}{2}f(b)$"
   ]
  },
  {
   "cell_type": "code",
   "execution_count": 14,
   "id": "c27b3fb9",
   "metadata": {},
   "outputs": [],
   "source": [
    "def trapezoidal_T(a,b,fun,tol):\n",
    "    err = math.inf\n",
    "    h = b-a\n",
    "    n = 1\n",
    "    fa = fun(a)\n",
    "    fb = fun(b)\n",
    "    h_p = []\n",
    "    T_p = []\n",
    "    err_p = []\n",
    "    \n",
    "    while err >= tol:\n",
    "        T = 0\n",
    "        for i in range(1,n):\n",
    "            T = T + fun(a+i*h)\n",
    "        T = h/2*(fa+fb) + h*T\n",
    "        \n",
    "        h = h/2\n",
    "        n = 2*n\n",
    "        T_ = 0\n",
    "        for i in range(1,n):\n",
    "            T_ = T_ + fun(a+i*h)\n",
    "        T_ = h/2*(fa+fb) + h*T_\n",
    "        \n",
    "        aerr = abs(T-T_)\n",
    "        err = abs(T-T_)/abs(T_)\n",
    "        \n",
    "        h_p.append(h)\n",
    "        T_p.append(T_)\n",
    "        err_p.append(err)\n",
    "    \n",
    "    info = {'h/2': h_p, 'T(h/2)': T_p, '|T(h)-T(h/2)|/|T(h/2)|': err_p}\n",
    "    print(tabulate(info, headers='keys'))\n",
    "    return (\"%10.8e\"%T_), (\"%10.8e\"%aerr), (\"%10.8e\"%err), n+1"
   ]
  },
  {
   "cell_type": "markdown",
   "id": "272ba44a",
   "metadata": {},
   "source": [
    "(ii)"
   ]
  },
  {
   "cell_type": "markdown",
   "id": "80460b46",
   "metadata": {},
   "source": [
    "#### $S(h)=\\frac{h}{6}f(a) + \\frac{2h}{3} \\sum_{i=0}^{n-1}f(a+(i+\\frac{1}{2}h)) + \\frac{h}{3} \\sum_{i=1}^{n-1}f(a+ih) + \\frac{f}{6}f(b)$"
   ]
  },
  {
   "cell_type": "code",
   "execution_count": 15,
   "id": "c0d0de58",
   "metadata": {},
   "outputs": [],
   "source": [
    "def trapezoidal_S(a,b,fun,tol):\n",
    "    err = math.inf\n",
    "    h = b-a\n",
    "    n = 1\n",
    "    fa = fun(a)\n",
    "    fb = fun(b)\n",
    "    h_p = []\n",
    "    T_p = []\n",
    "    err_p = []\n",
    "    \n",
    "    while err >= tol:\n",
    "        T1 = 0\n",
    "        T2 = 0\n",
    "        for i in range(n):\n",
    "            T1 = T1 + fun(a+(i+0.5)*h)\n",
    "        for i in range(1,n):\n",
    "            T2 = T2 + fun(a+i*h)\n",
    "            \n",
    "        T = h/6*(fa+fb) + 2*h/3*T1 + h/3*T2\n",
    "        \n",
    "        h = h/2\n",
    "        n = 2*n\n",
    "        T1_ = 0\n",
    "        T2_ = 0\n",
    "        for i in range(n):\n",
    "            T1_ = T1_ + fun(a+(i+0.5)*h)\n",
    "        for i in range(1,n):\n",
    "            T2_ = T2_ + fun(a+i*h)\n",
    "        T_ = h/2*(fa+fb) + 2*h/3*T1_ + h/3*T2_\n",
    "        \n",
    "        aerr = abs(T-T_)\n",
    "        err = abs(T-T_)/abs(T_)\n",
    "        \n",
    "        h_p.append(h)\n",
    "        T_p.append(T_)\n",
    "        err_p.append(err)\n",
    "    \n",
    "    info = {'h/2': h_p, 'T(h/2)': T_p, '|T(h)-T(h/2)|/|T(h/2)|': err_p}\n",
    "    print(tabulate(info, headers='keys'))\n",
    "    return (\"%10.8e\"%T_), (\"%10.8e\"%aerr), (\"%10.8e\"%err), n+1"
   ]
  },
  {
   "cell_type": "markdown",
   "id": "94ddd05b",
   "metadata": {},
   "source": [
    "(iv)"
   ]
  },
  {
   "cell_type": "code",
   "execution_count": 16,
   "id": "8b0145ba",
   "metadata": {},
   "outputs": [],
   "source": [
    "def fun1(x):\n",
    "    return x/(1+x**2)\n",
    "\n",
    "def fun2(x):\n",
    "    return 1/(1-x)\n",
    "\n",
    "def fun3(x):\n",
    "    return (1/math.sqrt(1-0.5*(math.sin(x))**2))\n",
    "\n",
    "def fun4(x):\n",
    "    return (1/math.sqrt(1-0.8*(math.sin(x))**2))\n",
    "\n",
    "def fun5(x):\n",
    "    return (1/math.sqrt(1-0.95*(math.sin(x))**2))"
   ]
  },
  {
   "cell_type": "code",
   "execution_count": 17,
   "id": "99cee87c",
   "metadata": {},
   "outputs": [],
   "source": [
    "def print_res1(a,b,fun,tv):\n",
    "    print(\"Composite trapezoidal rule\")\n",
    "    print(\"Approximate value of the integral = \", \"%10.7e\"% float(tav))\n",
    "    print(\"Absolute error                    = \", \"%10.7e\"% (abs(float(tav)-tv)))\n",
    "    print(\"Relative error                    = \", \"%10.7e\"% (abs(float(tav)-tv)/abs(tv)))\n",
    "    print(\"Number of f evaluations required  =   \", tn)\n",
    "    print()\n",
    "    print(\"Composite Simpson rule\")\n",
    "    print(\"Approximate value of the integral = \", \"%10.7e\"% float(sav))\n",
    "    print(\"Absolute error                    = \", \"%10.7e\"% (abs(float(sav)-tv)))\n",
    "    print(\"Relative error                    = \", \"%10.7e\"% (abs(float(sav)-tv)/abs(tv)))\n",
    "    print(\"Number of f evaluations required  =   \", sn)"
   ]
  },
  {
   "cell_type": "code",
   "execution_count": 18,
   "id": "438b6ad8",
   "metadata": {},
   "outputs": [],
   "source": [
    "def print_res2(a,b,fun):\n",
    "    print(\"Composite trapezoidal rule\")\n",
    "    print(\"Approximate value of the integral = \", \"%10.7e\"% float(tav))\n",
    "    print(\"Number of f evaluations required  =   \", tn)\n",
    "    print()\n",
    "    print(\"Composite Simpson rule\")\n",
    "    print(\"Approximate value of the integral = \", \"%10.7e\"% float(sav))\n",
    "    print(\"Number of f evaluations required  =   \", sn)"
   ]
  },
  {
   "cell_type": "markdown",
   "id": "00a1872b",
   "metadata": {},
   "source": [
    "### $\\int_0^3{\\frac{x}{1+x^2}}dx = \\frac{1}{2}log(10)$"
   ]
  },
  {
   "cell_type": "code",
   "execution_count": 19,
   "id": "0fc451c7",
   "metadata": {},
   "outputs": [
    {
     "name": "stdout",
     "output_type": "stream",
     "text": [
      "       h/2    T(h/2)    |T(h)-T(h/2)|/|T(h/2)|\n",
      "----------  --------  ------------------------\n",
      "1.5         0.917308               0.509434\n",
      "0.75        1.097                  0.163807\n",
      "0.375       1.13846                0.0364126\n",
      "0.1875      1.14812                0.00841331\n",
      "0.09375     1.1505                 0.00207114\n",
      "0.046875    1.15109                0.000515914\n",
      "0.0234375   1.15124                0.000128863\n",
      "0.0117188   1.15128                3.22087e-05\n",
      "0.00585938  1.15129                8.05172e-06\n",
      "0.00292969  1.15129                2.0129e-06\n",
      "0.00146484  1.15129                5.03224e-07\n"
     ]
    }
   ],
   "source": [
    "(tav, tae, tre, tn) = trapezoidal_T(0,3,fun1,1.e-6)"
   ]
  },
  {
   "cell_type": "code",
   "execution_count": 20,
   "id": "f90aa646",
   "metadata": {},
   "outputs": [
    {
     "name": "stdout",
     "output_type": "stream",
     "text": [
      "        h/2    T(h/2)    |T(h)-T(h/2)|/|T(h/2)|\n",
      "-----------  --------  ------------------------\n",
      "1.5           1.3069                0.178916\n",
      "0.75          1.22728               0.0573411\n",
      "0.375         1.18884               0.0307537\n",
      "0.1875        1.17005               0.0159885\n",
      "0.09375       1.16067               0.00807513\n",
      "0.046875      1.15598               0.00405487\n",
      "0.0234375     1.15364               0.00203161\n",
      "0.0117188     1.15246               0.00101684\n",
      "0.00585938    1.15188               0.00050868\n",
      "0.00292969    1.15159               0.000254405\n",
      "0.00146484    1.15144               0.000127219\n",
      "0.000732422   1.15137               6.36133e-05\n",
      "0.000366211   1.15133               3.18077e-05\n",
      "0.000183105   1.15131               1.59041e-05\n",
      "9.15527e-05   1.1513                7.95211e-06\n",
      "4.57764e-05   1.1513                3.97607e-06\n",
      "2.28882e-05   1.15129               1.98804e-06\n",
      "1.14441e-05   1.15129               9.9402e-07\n"
     ]
    }
   ],
   "source": [
    "(sav, sae, sre, sn) = trapezoidal_S(0,3,fun1,1.e-6)"
   ]
  },
  {
   "cell_type": "code",
   "execution_count": 21,
   "id": "7e4d1d30",
   "metadata": {},
   "outputs": [
    {
     "name": "stdout",
     "output_type": "stream",
     "text": [
      "f(x)=x/(1+x^2), [a,b] = [0,3]\n",
      "Composite trapezoidal rule\n",
      "Approximate value of the integral =  1.1512924e+00\n",
      "Absolute error                    =  1.9649702e-07\n",
      "Relative error                    =  1.7067515e-07\n",
      "Number of f evaluations required  =    2049\n",
      "\n",
      "Composite Simpson rule\n",
      "Approximate value of the integral =  1.1512937e+00\n",
      "Absolute error                    =  1.1435030e-06\n",
      "Relative error                    =  9.9323407e-07\n",
      "Number of f evaluations required  =    262145\n"
     ]
    }
   ],
   "source": [
    "tv = 0.5*math.log(10)\n",
    "print(\"f(x)=x/(1+x^2), [a,b] = [0,3]\")\n",
    "print_res1(0,3,fun1,tv)"
   ]
  },
  {
   "cell_type": "markdown",
   "id": "396cac76",
   "metadata": {},
   "source": [
    "### $\\int_0^{0.95}{\\frac{1}{1-x}}dx = log(20)$"
   ]
  },
  {
   "cell_type": "code",
   "execution_count": 22,
   "id": "43e72ecc",
   "metadata": {},
   "outputs": [
    {
     "name": "stdout",
     "output_type": "stream",
     "text": [
      "        h/2    T(h/2)    |T(h)-T(h/2)|/|T(h/2)|\n",
      "-----------  --------  ------------------------\n",
      "0.475         5.89226               0.692898\n",
      "0.2375        4.08369               0.442876\n",
      "0.11875       3.35708               0.216444\n",
      "0.059375      3.10177               0.082309\n",
      "0.0296875     3.02413               0.025673\n",
      "0.0148437     3.003                 0.00703872\n",
      "0.00742187    2.99756               0.00181362\n",
      "0.00371094    2.99619               0.000457218\n",
      "0.00185547    2.99585               0.000114552\n",
      "0.000927734   2.99576               2.86535e-05\n",
      "0.000463867   2.99574               7.16436e-06\n",
      "0.000231934   2.99573               1.79115e-06\n",
      "0.000115967   2.99573               4.47792e-07\n"
     ]
    }
   ],
   "source": [
    "(tav, tae, tre, tn) = trapezoidal_T(0,0.95,fun2,1.e-6)"
   ]
  },
  {
   "cell_type": "code",
   "execution_count": 23,
   "id": "67e24a49",
   "metadata": {},
   "outputs": [
    {
     "name": "stdout",
     "output_type": "stream",
     "text": [
      "        h/2    T(h/2)    |T(h)-T(h/2)|/|T(h/2)|\n",
      "-----------  --------  ------------------------\n",
      "0.475         6.80584               0.334197\n",
      "0.2375        4.77737               0.271391\n",
      "0.11875       3.84792               0.190506\n",
      "0.059375      3.41388               0.116351\n",
      "0.0296875     3.20376               0.0641461\n",
      "0.0148437     3.09965               0.0334565\n",
      "0.00742187    3.04769               0.017042\n",
      "0.00371094    3.02171               0.00859634\n",
      "0.00185547    3.00872               0.00431686\n",
      "0.000927734   3.00223               0.00216311\n",
      "0.000463867   2.99898               0.00108273\n",
      "0.000231934   2.99736               0.000541656\n",
      "0.000115967   2.99654               0.000270901\n",
      "5.79834e-05   2.99614               0.000135469\n",
      "2.89917e-05   2.99594               6.77391e-05\n",
      "1.44958e-05   2.99583               3.38707e-05\n",
      "7.24792e-06   2.99578               1.69356e-05\n",
      "3.62396e-06   2.99576               8.46789e-06\n",
      "1.81198e-06   2.99574               4.23396e-06\n",
      "9.05991e-07   2.99574               2.11699e-06\n",
      "4.52995e-07   2.99574               1.05849e-06\n",
      "2.26498e-07   2.99573               5.29247e-07\n"
     ]
    }
   ],
   "source": [
    "(sav, sae, sre, sn) = trapezoidal_S(0,0.95,fun2,1.e-6)"
   ]
  },
  {
   "cell_type": "code",
   "execution_count": 24,
   "id": "9cd14d47",
   "metadata": {},
   "outputs": [
    {
     "name": "stdout",
     "output_type": "stream",
     "text": [
      "f(x)=1/(1-x), [a,b] = [0,0.95]\n",
      "Composite trapezoidal rule\n",
      "Approximate value of the integral =  2.9957327e+00\n",
      "Absolute error                    =  4.4644601e-07\n",
      "Relative error                    =  1.4902734e-07\n",
      "Number of f evaluations required  =    8193\n",
      "\n",
      "Composite Simpson rule\n",
      "Approximate value of the integral =  2.9957339e+00\n",
      "Absolute error                    =  1.5864460e-06\n",
      "Relative error                    =  5.2956869e-07\n",
      "Number of f evaluations required  =    4194305\n"
     ]
    }
   ],
   "source": [
    "tv = math.log(20)\n",
    "print(\"f(x)=1/(1-x), [a,b] = [0,0.95]\")\n",
    "print_res1(0,0.95,fun2,tv)"
   ]
  },
  {
   "cell_type": "markdown",
   "id": "a81364b0",
   "metadata": {},
   "source": [
    "### $\\int_0^{\\pi/2}{\\frac{1}{\\sqrt{1-msin^2(x)}}}dx, m=0.5$"
   ]
  },
  {
   "cell_type": "code",
   "execution_count": 74,
   "id": "46fb9077",
   "metadata": {},
   "outputs": [
    {
     "name": "stdout",
     "output_type": "stream",
     "text": [
      "     h/2    T(h/2)    |T(h)-T(h/2)|/|T(h/2)|\n",
      "--------  --------  ------------------------\n",
      "0.785398   1.85496               0.022189\n",
      "0.392699   1.85408               0.000476735\n",
      "0.19635    1.85407               2.96895e-07\n"
     ]
    }
   ],
   "source": [
    "(tav, tae, tre, tn) = trapezoidal_T(0,math.pi/2,fun3,1.e-6)"
   ]
  },
  {
   "cell_type": "code",
   "execution_count": 75,
   "id": "8136928e",
   "metadata": {},
   "outputs": [
    {
     "name": "stdout",
     "output_type": "stream",
     "text": [
      "        h/2    T(h/2)    |T(h)-T(h/2)|/|T(h/2)|\n",
      "-----------  --------  ------------------------\n",
      "0.785398      2.48582               0.259303\n",
      "0.392699      2.17009               0.14576\n",
      "0.19635       2.01208               0.0785305\n",
      "0.0981748     1.93308               0.04087\n",
      "0.0490874     1.89358               0.0208613\n",
      "0.0245437     1.87383               0.0105406\n",
      "0.0122718     1.86395               0.00529822\n",
      "0.00613592    1.85901               0.00265615\n",
      "0.00306796    1.85654               0.00132984\n",
      "0.00153398    1.85531               0.000665362\n",
      "0.00076699    1.85469               0.000332792\n",
      "0.000383495   1.85438               0.000166424\n",
      "0.000191748   1.85423               8.32187e-05\n",
      "9.58738e-05   1.85415               4.16111e-05\n",
      "4.79369e-05   1.85411               2.0806e-05\n",
      "2.39684e-05   1.85409               1.04031e-05\n",
      "1.19842e-05   1.85408               5.20158e-06\n",
      "5.99211e-06   1.85408               2.60079e-06\n",
      "2.99606e-06   1.85408               1.3004e-06\n",
      "1.49803e-06   1.85408               6.502e-07\n"
     ]
    }
   ],
   "source": [
    "(sav, sae, sre, sn) = trapezoidal_S(0,math.pi/2,fun3,1.e-6)"
   ]
  },
  {
   "cell_type": "code",
   "execution_count": 76,
   "id": "45f92ce8",
   "metadata": {},
   "outputs": [
    {
     "name": "stdout",
     "output_type": "stream",
     "text": [
      "f(x)=1/sqrt(1-msin^2x), [a,b] = [0,pi/2]\n",
      "Composite trapezoidal rule\n",
      "Approximate value of the integral =  1.8540747e+00\n",
      "Number of f evaluations required  =    9\n",
      "\n",
      "Composite Simpson rule\n",
      "Approximate value of the integral =  1.8540759e+00\n",
      "Number of f evaluations required  =    1048577\n"
     ]
    }
   ],
   "source": [
    "print(\"f(x)=1/sqrt(1-msin^2x), [a,b] = [0,pi/2]\")\n",
    "print_res2(0,math.pi/2,fun3)"
   ]
  },
  {
   "cell_type": "markdown",
   "id": "cd2ed7ce",
   "metadata": {},
   "source": [
    "### $\\int_0^{\\pi/2}{\\frac{1}{\\sqrt{1-msin^2(x)}}}dx, m=0.8$"
   ]
  },
  {
   "cell_type": "code",
   "execution_count": 77,
   "id": "d57fdd23",
   "metadata": {},
   "outputs": [
    {
     "name": "stdout",
     "output_type": "stream",
     "text": [
      "      h/2    T(h/2)    |T(h)-T(h/2)|/|T(h/2)|\n",
      "---------  --------  ------------------------\n",
      "0.785398    2.28475               0.112422\n",
      "0.392699    2.25762               0.0120144\n",
      "0.19635     2.25721               0.000184328\n",
      "0.0981748   2.25721               5.96498e-08\n"
     ]
    }
   ],
   "source": [
    "(tav, tae, tre, tn) = trapezoidal_T(0,math.pi/2,fun4,1.e-6)"
   ]
  },
  {
   "cell_type": "code",
   "execution_count": 78,
   "id": "0f0a8a12",
   "metadata": {},
   "outputs": [
    {
     "name": "stdout",
     "output_type": "stream",
     "text": [
      "        h/2    T(h/2)    |T(h)-T(h/2)|/|T(h/2)|\n",
      "-----------  --------  ------------------------\n",
      "0.785398      3.09578               0.289637\n",
      "0.392699      2.68067               0.161186\n",
      "0.19635       2.46901               0.0858397\n",
      "0.0981748     2.36311               0.044814\n",
      "0.0490874     2.31016               0.0229206\n",
      "0.0245437     2.28368               0.0115931\n",
      "0.0122718     2.27044               0.00583036\n",
      "0.00613592    2.26382               0.00292371\n",
      "0.00306796    2.26051               0.00146399\n",
      "0.00153398    2.25886               0.000732533\n",
      "0.00076699    2.25803               0.000366401\n",
      "0.000383495   2.25762               0.000183234\n",
      "0.000191748   2.25741               9.16253e-05\n",
      "9.58738e-05   2.25731               4.58148e-05\n",
      "4.79369e-05   2.25726               2.29079e-05\n",
      "2.39684e-05   2.25723               1.14541e-05\n",
      "1.19842e-05   2.25722               5.72707e-06\n",
      "5.99211e-06   2.25721               2.86355e-06\n",
      "2.99606e-06   2.25721               1.43177e-06\n",
      "1.49803e-06   2.25721               7.15888e-07\n"
     ]
    }
   ],
   "source": [
    "(sav, sae, sre, sn) = trapezoidal_S(0,math.pi/2,fun4,1.e-6)"
   ]
  },
  {
   "cell_type": "code",
   "execution_count": 79,
   "id": "5e61ce1c",
   "metadata": {},
   "outputs": [
    {
     "name": "stdout",
     "output_type": "stream",
     "text": [
      "f(x)=1/sqrt(1-msin^2x), [a,b] = [0,pi/2]\n",
      "Composite trapezoidal rule\n",
      "Approximate value of the integral =  2.2572053e+00\n",
      "Number of f evaluations required  =    17\n",
      "\n",
      "Composite Simpson rule\n",
      "Approximate value of the integral =  2.2572069e+00\n",
      "Number of f evaluations required  =    1048577\n"
     ]
    }
   ],
   "source": [
    "print(\"f(x)=1/sqrt(1-msin^2x), [a,b] = [0,pi/2]\")\n",
    "print_res2(0,math.pi/2,fun4)"
   ]
  },
  {
   "cell_type": "markdown",
   "id": "da0b9f42",
   "metadata": {},
   "source": [
    "### $\\int_0^{\\pi/2}{\\frac{1}{\\sqrt{1-msin^2(x)}}}dx, m=0.95$"
   ]
  },
  {
   "cell_type": "code",
   "execution_count": 80,
   "id": "6b5269d6",
   "metadata": {},
   "outputs": [
    {
     "name": "stdout",
     "output_type": "stream",
     "text": [
      "      h/2    T(h/2)    |T(h)-T(h/2)|/|T(h/2)|\n",
      "---------  --------  ------------------------\n",
      "0.785398    3.23286               0.329415\n",
      "0.392699    2.94267               0.0986139\n",
      "0.19635     2.90897               0.0115828\n",
      "0.0981748   2.90834               0.000218584\n",
      "0.0490874   2.90834               1.07601e-07\n"
     ]
    }
   ],
   "source": [
    "(tav, tae, tre, tn) = trapezoidal_T(0,math.pi/2,fun5,1.e-6)"
   ]
  },
  {
   "cell_type": "code",
   "execution_count": 81,
   "id": "74476d75",
   "metadata": {},
   "outputs": [
    {
     "name": "stdout",
     "output_type": "stream",
     "text": [
      "        h/2    T(h/2)    |T(h)-T(h/2)|/|T(h/2)|\n",
      "-----------  --------  ------------------------\n",
      "0.785398      4.27854               0.327371\n",
      "0.392699      3.61404               0.212533\n",
      "0.19635       3.26628               0.11283\n",
      "0.0981748     3.08741               0.0580702\n",
      "0.0490874     2.99787               0.0298671\n",
      "0.0245437     2.95311               0.0151599\n",
      "0.0122718     2.93072               0.00763785\n",
      "0.00613592    2.91953               0.00383356\n",
      "0.00306796    2.91393               0.00192046\n",
      "0.00153398    2.91114               0.000961154\n",
      "0.00076699    2.90974               0.000480808\n",
      "0.000383495   2.90904               0.000240462\n",
      "0.000191748   2.90869               0.000120245\n",
      "9.58738e-05   2.90851               6.01263e-05\n",
      "4.79369e-05   2.90842               3.00641e-05\n",
      "2.39684e-05   2.90838               1.50323e-05\n",
      "1.19842e-05   2.90836               7.51619e-06\n",
      "5.99211e-06   2.90835               3.75811e-06\n",
      "2.99606e-06   2.90834               1.87906e-06\n",
      "1.49803e-06   2.90834               9.3953e-07\n"
     ]
    }
   ],
   "source": [
    "(sav, sae, sre, sn) = trapezoidal_S(0,math.pi/2,fun5,1.e-6)"
   ]
  },
  {
   "cell_type": "code",
   "execution_count": 82,
   "id": "73c31380",
   "metadata": {},
   "outputs": [
    {
     "name": "stdout",
     "output_type": "stream",
     "text": [
      "f(x)=1/sqrt(1-msin^2x), [a,b] = [0,pi/2]\n",
      "Composite trapezoidal rule\n",
      "Approximate value of the integral =  2.9083373e+00\n",
      "Number of f evaluations required  =    33\n",
      "\n",
      "Composite Simpson rule\n",
      "Approximate value of the integral =  2.9083400e+00\n",
      "Number of f evaluations required  =    1048577\n"
     ]
    }
   ],
   "source": [
    "print(\"f(x)=1/sqrt(1-msin^2x), [a,b] = [0,pi/2]\")\n",
    "print_res2(0,math.pi/2,fun5)"
   ]
  },
  {
   "cell_type": "markdown",
   "id": "83ba5f86",
   "metadata": {},
   "source": [
    "Problem 5"
   ]
  },
  {
   "cell_type": "markdown",
   "id": "5e4a9f94",
   "metadata": {},
   "source": [
    "(i)"
   ]
  },
  {
   "cell_type": "markdown",
   "id": "63867f36",
   "metadata": {},
   "source": [
    "I do not recommend this algorithm. In this algorithm, we computed weights vector w by solving the linear system $A*w = b$, where A is the vandermonde matrix. That is to say, $w = A^-1*b$. However, in assignment 5, we have computed the condition number of A based on different n, and discovered that condition number of A is can be very large if n is relatively large. This would lead to large computation error, making the weights wi's inaccurate."
   ]
  },
  {
   "cell_type": "markdown",
   "id": "1ad19108",
   "metadata": {},
   "source": [
    "(ii)"
   ]
  },
  {
   "cell_type": "code",
   "execution_count": 5,
   "id": "b6eb92e7",
   "metadata": {},
   "outputs": [],
   "source": [
    "def alg1(fun):\n",
    "    for n in (5,10,15):\n",
    "        x = np.zeros(n+1)\n",
    "        for i in range(n+1):\n",
    "            x[i] = -5 + i*10/n\n",
    "        \n",
    "        X = np.ones((n+1,n+1))\n",
    "        for i in range(1,n+1):\n",
    "            X[i:] = x**i\n",
    "        \n",
    "        a, b = -5, 5\n",
    "        d = np.zeros(n+1)\n",
    "        for i in range(n+1):\n",
    "            d[i] = 1/(i+1)*(b**(i+1) - a**(i+1))\n",
    "        \n",
    "        w = np.linalg.solve(X, d)\n",
    "        \n",
    "        f = fun(x)\n",
    "        p = np.inner(w,f)\n",
    "        \n",
    "        print(\"n = \", n)\n",
    "        print(\"Nodes: \")\n",
    "        print(x)\n",
    "        print(\"weights: \")\n",
    "        print(w)\n",
    "        print(\"computed approximation of the integral: \", p)\n",
    "        print()"
   ]
  },
  {
   "cell_type": "code",
   "execution_count": 6,
   "id": "38bf3079",
   "metadata": {},
   "outputs": [],
   "source": [
    "def fun(x):\n",
    "    return 1/(1+x**2)"
   ]
  },
  {
   "cell_type": "code",
   "execution_count": 7,
   "id": "9547e321",
   "metadata": {},
   "outputs": [
    {
     "name": "stdout",
     "output_type": "stream",
     "text": [
      "n =  5\n",
      "Nodes: \n",
      "[-5. -3. -1.  1.  3.  5.]\n",
      "weights: \n",
      "[0.65972222 2.60416667 1.73611111 1.73611111 2.60416667 0.65972222]\n",
      "computed approximation of the integral:  2.3076923076923093\n",
      "\n",
      "n =  10\n",
      "Nodes: \n",
      "[-5. -4. -3. -2. -1.  0.  1.  2.  3.  4.  5.]\n",
      "weights: \n",
      "[ 0.26834148  1.77535941 -0.81043571  4.54946288 -4.35155123  7.1376463\n",
      " -4.35155123  4.54946288 -0.81043571  1.77535941  0.26834148]\n",
      "computed approximation of the integral:  4.673300555670888\n",
      "\n",
      "n =  15\n",
      "Nodes: \n",
      "[-5.         -4.33333333 -3.66666667 -3.         -2.33333333 -1.66666667\n",
      " -1.         -0.33333333  0.33333333  1.          1.66666667  2.33333333\n",
      "  3.          3.66666667  4.33333333  5.        ]\n",
      "weights: \n",
      "[ 0.170873    1.28507379 -1.12722905  5.07042708 -7.56293114 11.91360348\n",
      " -9.68005208  4.93023492  4.93023496 -9.68005211 11.91360349 -7.56293115\n",
      "  5.07042708 -1.12722905  1.28507379  0.170873  ]\n",
      "computed approximation of the integral:  4.155558988017933\n",
      "\n"
     ]
    }
   ],
   "source": [
    "alg1(fun)"
   ]
  },
  {
   "cell_type": "markdown",
   "id": "e83985ba",
   "metadata": {},
   "source": [
    "### We can see that the approximation of the integral is very unstable. When n = 10 or 15, the approximation is around two times that when n = 5. "
   ]
  },
  {
   "cell_type": "markdown",
   "id": "ff4fc8bf",
   "metadata": {},
   "source": [
    "(iii)"
   ]
  },
  {
   "cell_type": "markdown",
   "id": "135ff370",
   "metadata": {},
   "source": [
    "### We choose chebyshev points for better quadrature nodes"
   ]
  },
  {
   "cell_type": "code",
   "execution_count": 10,
   "id": "b4564791",
   "metadata": {},
   "outputs": [],
   "source": [
    "def Chebyshev(a,b,n):\n",
    "    x = np.zeros(n)\n",
    "    for i in range(n):\n",
    "        x[i] = (a+b)/2 + (b-a)/2*math.cos((2*(i+1)-1)*math.pi/(2*n))\n",
    "    return x"
   ]
  },
  {
   "cell_type": "code",
   "execution_count": 11,
   "id": "93e20730",
   "metadata": {},
   "outputs": [],
   "source": [
    "def alg2(a,b,fun):\n",
    "    for n in (5,10,15):\n",
    "        x = Chebyshev(a,b,n+1)\n",
    "        \n",
    "        X = np.ones((n+1,n+1))\n",
    "        for i in range(1,n+1):\n",
    "            X[i:] = x**i\n",
    "        \n",
    "        a, b = -5, 5\n",
    "        d = np.zeros(n+1)\n",
    "        for i in range(n+1):\n",
    "            d[i] = 1/(i+1)*(b**(i+1) - a**(i+1))\n",
    "        \n",
    "        w = np.linalg.solve(X, d)\n",
    "        \n",
    "        f = fun(x)\n",
    "        p = np.inner(w,f)\n",
    "        \n",
    "        print(\"n = \", n)\n",
    "        print(\"Nodes: \")\n",
    "        print(x)\n",
    "        print(\"Weights: \")\n",
    "        print(w)\n",
    "        print(\"Computed approximation of the integral: \", p)\n",
    "        print()"
   ]
  },
  {
   "cell_type": "code",
   "execution_count": 13,
   "id": "cc643e36",
   "metadata": {
    "scrolled": true
   },
   "outputs": [
    {
     "name": "stdout",
     "output_type": "stream",
     "text": [
      "n =  5\n",
      "Nodes: \n",
      "[ 4.82962913  3.53553391  1.29409523 -1.29409523 -3.53553391 -4.82962913]\n",
      "Weights: \n",
      "[0.59330511 1.88888889 2.517806   2.517806   1.88888889 0.59330511]\n",
      "Computed approximation of the integral:  2.2113115356791346\n",
      "\n",
      "n =  10\n",
      "Nodes: \n",
      "[ 4.94910721e+00  4.54815998e+00  3.77874787e+00  2.70320409e+00\n",
      "  1.40866278e+00  1.41638472e-15 -1.40866278e+00 -2.70320409e+00\n",
      " -3.77874787e+00 -4.54815998e+00 -4.94910721e+00]\n",
      "Weights: \n",
      "[0.17698858 0.60847767 0.92441624 1.20994808 1.36247298 1.43539289\n",
      " 1.36247298 1.20994808 0.92441624 0.60847767 0.17698858]\n",
      "Computed approximation of the integral:  2.8307823662995624\n",
      "\n",
      "n =  15\n",
      "Nodes: \n",
      "[ 4.97592363  4.78470168  4.40960632  3.86505227  3.17196642  2.35698368\n",
      "  1.45142339  0.4900857  -0.4900857  -1.45142339 -2.35698368 -3.17196642\n",
      " -3.86505227 -4.40960632 -4.78470168 -4.97592363]\n",
      "Weights: \n",
      "[0.08401378 0.29168232 0.45859157 0.62564809 0.75696231 0.86709706\n",
      " 0.93874864 0.97725624 0.97725624 0.93874864 0.86709706 0.75696231\n",
      " 0.62564809 0.45859157 0.29168232 0.08401378]\n",
      "Computed approximation of the integral:  2.736056218945736\n",
      "\n"
     ]
    }
   ],
   "source": [
    "alg2(-5,5,fun)"
   ]
  },
  {
   "cell_type": "markdown",
   "id": "5798fc02",
   "metadata": {},
   "source": [
    "### We can see that the approximation of the integral becomes much more stable compared to (ii). All of the approximations are greater than 2 and less than 3."
   ]
  },
  {
   "cell_type": "markdown",
   "id": "1bd6a7c5",
   "metadata": {},
   "source": [
    "(iv)"
   ]
  },
  {
   "cell_type": "code",
   "execution_count": 90,
   "id": "2e799040",
   "metadata": {},
   "outputs": [
    {
     "name": "stdout",
     "output_type": "stream",
     "text": [
      "    h/2    T(h/2)    |T(h)-T(h/2)|/|T(h/2)|\n",
      "-------  --------  ------------------------\n",
      "5         5.19231               0.925926\n",
      "2.5       3.28581               0.580222\n",
      "1.25      2.78449               0.18004\n",
      "0.625     2.74611               0.0139753\n",
      "0.3125    2.74656               0.000163595\n",
      "0.15625   2.74674               6.56813e-05\n"
     ]
    }
   ],
   "source": [
    "(tav, tae, tre, tn) = trapezoidal_T(-5,5,fun,1.e-4)"
   ]
  },
  {
   "cell_type": "code",
   "execution_count": 91,
   "id": "553df51e",
   "metadata": {},
   "outputs": [
    {
     "name": "stdout",
     "output_type": "stream",
     "text": [
      "       h/2    T(h/2)    |T(h)-T(h/2)|/|T(h/2)|\n",
      "----------  --------  ------------------------\n",
      "5            2.77851               1.44551\n",
      "2.5          2.68149               0.0116264\n",
      "1.25         2.76537               0.0535145\n",
      "0.625        2.76274               0.0106479\n",
      "0.3125       2.75481               0.00294161\n",
      "0.15625      2.75081               0.00145646\n",
      "0.078125     2.7488                0.000728756\n",
      "0.0390625    2.7478                0.00036451\n",
      "0.0195312    2.7473                0.000182288\n",
      "0.00976562   2.74705               9.11525e-05\n"
     ]
    }
   ],
   "source": [
    "(sav, sae, sre, sn) = trapezoidal_S(-5,5,fun,1.e-4)"
   ]
  },
  {
   "cell_type": "code",
   "execution_count": 92,
   "id": "aea7cbdb",
   "metadata": {},
   "outputs": [
    {
     "name": "stdout",
     "output_type": "stream",
     "text": [
      "f(x)=x/(1+x^2), [a,b] = [-5,5]\n",
      "Composite trapezoidal rule\n",
      "Approximate value of the integral =  2.7467414e+00\n",
      "Number of f evaluations required  =    65\n",
      "\n",
      "Composite Simpson rule\n",
      "Approximate value of the integral =  2.7470519e+00\n",
      "Number of f evaluations required  =    1025\n"
     ]
    }
   ],
   "source": [
    "print(\"f(x)=x/(1+x^2), [a,b] = [-5,5]\")\n",
    "print(\"Composite trapezoidal rule\")\n",
    "print(\"Approximate value of the integral = \", \"%10.7e\"% float(tav))\n",
    "print(\"Number of f evaluations required  =   \", tn)\n",
    "print()\n",
    "print(\"Composite Simpson rule\")\n",
    "print(\"Approximate value of the integral = \", \"%10.7e\"% float(sav))\n",
    "print(\"Number of f evaluations required  =   \", sn)"
   ]
  },
  {
   "cell_type": "code",
   "execution_count": null,
   "id": "7b04e29b",
   "metadata": {},
   "outputs": [],
   "source": []
  }
 ],
 "metadata": {
  "kernelspec": {
   "display_name": "Python 3",
   "language": "python",
   "name": "python3"
  },
  "language_info": {
   "codemirror_mode": {
    "name": "ipython",
    "version": 3
   },
   "file_extension": ".py",
   "mimetype": "text/x-python",
   "name": "python",
   "nbconvert_exporter": "python",
   "pygments_lexer": "ipython3",
   "version": "3.8.8"
  }
 },
 "nbformat": 4,
 "nbformat_minor": 5
}
