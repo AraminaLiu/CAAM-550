{
 "cells": [
  {
   "cell_type": "code",
   "execution_count": 84,
   "id": "385e9dbd",
   "metadata": {},
   "outputs": [],
   "source": [
    "import math\n",
    "import matplotlib.pyplot as plt\n",
    "from scipy import special\n",
    "import numpy as np"
   ]
  },
  {
   "cell_type": "markdown",
   "id": "b1ec0d48",
   "metadata": {},
   "source": [
    "Question 1"
   ]
  },
  {
   "cell_type": "markdown",
   "id": "8eb3da54",
   "metadata": {},
   "source": [
    "(a)"
   ]
  },
  {
   "cell_type": "code",
   "execution_count": 93,
   "id": "7cd5dd67",
   "metadata": {},
   "outputs": [],
   "source": [
    "x = np.linspace(0, 0.2, 100)   #choose 0.2 as our x bar"
   ]
  },
  {
   "cell_type": "code",
   "execution_count": 94,
   "id": "90753969",
   "metadata": {
    "scrolled": true
   },
   "outputs": [],
   "source": [
    "y = special.erf(250 * math.sqrt(30)*x / 9) - 3/7   #This is our f(x)"
   ]
  },
  {
   "cell_type": "code",
   "execution_count": 95,
   "id": "46c5804a",
   "metadata": {},
   "outputs": [
    {
     "data": {
      "image/png": "[encoded data removed]",
      "text/plain": [
       "<Figure size 432x288 with 1 Axes>"
      ]
     },
     "metadata": {
      "needs_background": "light"
     },
     "output_type": "display_data"
    }
   ],
   "source": [
    "#create the axis and plot the function\n",
    "fig = plt.figure()\n",
    "ax = fig.add_subplot(1, 1, 1)\n",
    "ax.spines['left'].set_position('center')\n",
    "ax.spines['bottom'].set_position('zero')\n",
    "ax.spines['right'].set_color('none')\n",
    "ax.spines['top'].set_color('none')\n",
    "ax.xaxis.set_ticks_position('bottom')\n",
    "ax.yaxis.set_ticks_position('left')\n",
    "plt.plot(x, y,'r')\n",
    "plt.show()"
   ]
  },
  {
   "cell_type": "markdown",
   "id": "cb81fa89",
   "metadata": {},
   "source": [
    "(b)"
   ]
  },
  {
   "cell_type": "code",
   "execution_count": 101,
   "id": "4bcaa8db",
   "metadata": {},
   "outputs": [],
   "source": [
    "# function\n",
    "def f(x):\n",
    "    #f(x)\n",
    "    fval = math.erf(250 * math.sqrt(30)*x / 9) - 3/7        \n",
    "    #f'(x)\n",
    "    fderiv = 2.5 * 10**6 * x *math.exp(-625000 * x**2 / 27) / (27 * math.sqrt(math.pi))\n",
    "    return fval, fderiv"
   ]
  },
  {
   "cell_type": "code",
   "execution_count": 102,
   "id": "766e178f",
   "metadata": {},
   "outputs": [],
   "source": [
    "# Bisection Method\n",
    "def bisection(f, a, b, tolx = 1.e-7, tolf = 1.e-7, maxit = 100 ): \n",
    "    '''Approximate solution of f(x)=0 on interval [a,b] by bisection method.\n",
    " \n",
    "    Parameters\n",
    "    ----------\n",
    "    f : function\n",
    "        Function for which we wan to to find a root.\n",
    "        The call f(x)  should return the value or the value, derivative\n",
    "    a,b : numbers\n",
    "        Interval in which to search for a solution. bisection returns\n",
    "        None if f(a)*f(b) >= 0 since a solution is not guaranteed.\n",
    "    tolx : number (optional, default = 1.e-7)\n",
    "        Algorithm stops when | a - b | < tolx\n",
    "    tolf : number (optional, default = 1.e-7)\n",
    "        Algorithm stops when | f(0.5*(a+b)) | < tolf\n",
    "    maxit: integer (optional, default = 100)\n",
    "        maximjm number of iterations\n",
    "        \n",
    "\n",
    "    Returns\n",
    "    -------\n",
    "    a,b : numbers\n",
    "        f(a)*f(b) < 0; a root of f is located in (a, b)\n",
    "    x : numbers\n",
    "        0.5*(a+b) approximation of the root.\n",
    "    ithist : np.array \n",
    "        iteration history; i-th row of ithist contains [it, a, b, c, fc]\n",
    "    ifag : integer\n",
    "        return flag\n",
    "        iflag = 0   if |b-a| <= tolx, or   | f(x) | <= tolf\n",
    "        iflag =  1  iteration terminated because maximum number of\n",
    "                    iterations was reached. |b-a| > tolx, |f(x)| > tolf\n",
    "\n",
    "    Matthias Heinkenschloss\n",
    "    Department of Computational and Applied Mathematics\n",
    "    Rice University\n",
    "    August 29, 2021\n",
    "    '''\n",
    "    \n",
    "    if b < a :\n",
    "        t = a\n",
    "        a = b\n",
    "        b = t\n",
    "    \n",
    "    fa = f(a)\n",
    "    fb = f(b)\n",
    "    if( isinstance(fa, tuple) ):\n",
    "        fa = fa[0]\n",
    "    if( isinstance(fb, tuple) ):\n",
    "        fb = fb[0]\n",
    "        \n",
    "    # check if a and b bound a root\n",
    "    if fa*fb >= 0 :\n",
    "        raise Exception(\n",
    "         \"The scalars a and b do not bound a root\")\n",
    "    \n",
    "    it    = 0\n",
    "    iflag = 0\n",
    "    c = 0.5*(a+b)\n",
    "    fc = f(c)\n",
    "    if( isinstance(fc, tuple) ):\n",
    "        fc = fc[0]\n",
    "    ithist = np.array([it, a, b, c, fc])\n",
    "\n",
    "    while( it < maxit and abs(b-a) > tolx and abs(fc) > tolf ):\n",
    "        it = it+1;\n",
    "        if fa*fc < 0 :\n",
    "            b = c\n",
    "            fb = fc\n",
    "        else:\n",
    "            a = c\n",
    "            fa = fc\n",
    "\n",
    "        c  = 0.5*(a+b)\n",
    "        fc = f(c)\n",
    "        if( isinstance(fc, tuple) ):\n",
    "            fc = fc[0]\n",
    "            \n",
    "        ithist = np.vstack((ithist, np.array([it, a, b, c, fc]) ))\n",
    "\n",
    "    # check why the bisection method truncated and set iflag\n",
    "    if abs(b-a) > tolx and abs(fc) > tolf :\n",
    "        # method truncated because maximum number of iterations reached\n",
    "        iflag = 1\n",
    "    \n",
    "    return a, b, c, ithist, iflag\n",
    "    "
   ]
  },
  {
   "cell_type": "code",
   "execution_count": 103,
   "id": "a112beda",
   "metadata": {
    "scrolled": true
   },
   "outputs": [
    {
     "name": "stdout",
     "output_type": "stream",
     "text": [
      " Bisection method returned with iflag = 0\n",
      " iter       a             b             c           f(c) \n",
      "   0   0.000000e+00   2.000000e-01   1.000000e-01   5.714286e-01\n",
      "   1   0.000000e+00   1.000000e-01   5.000000e-02   5.714286e-01\n",
      "   2   0.000000e+00   5.000000e-02   2.500000e-02   5.714285e-01\n",
      "   3   0.000000e+00   2.500000e-02   1.250000e-02   5.642742e-01\n",
      "   4   0.000000e+00   1.250000e-02   6.250000e-03   3.927342e-01\n",
      "   5   0.000000e+00   6.250000e-03   3.125000e-03   7.009500e-02\n",
      "   6   0.000000e+00   3.125000e-03   1.562500e-03  -1.652941e-01\n",
      "   7   1.562500e-03   3.125000e-03   2.343750e-03  -4.262573e-02\n",
      "   8   2.343750e-03   3.125000e-03   2.734375e-03   1.512704e-02\n",
      "   9   2.343750e-03   2.734375e-03   2.539063e-03  -1.341792e-02\n",
      "  10   2.539063e-03   2.734375e-03   2.636719e-03   9.396223e-04\n",
      "  11   2.539063e-03   2.636719e-03   2.587891e-03  -6.218153e-03\n",
      "  12   2.587891e-03   2.636719e-03   2.612305e-03  -2.633982e-03\n",
      "  13   2.612305e-03   2.636719e-03   2.624512e-03  -8.458546e-04\n",
      "  14   2.624512e-03   2.636719e-03   2.630615e-03   4.721566e-05\n",
      "  15   2.624512e-03   2.630615e-03   2.627563e-03  -3.992366e-04\n",
      "  16   2.627563e-03   2.630615e-03   2.629089e-03  -1.759897e-04\n",
      "  17   2.629089e-03   2.630615e-03   2.629852e-03  -6.438185e-05\n",
      "  18   2.629852e-03   2.630615e-03   2.630234e-03  -8.581802e-06\n",
      "  19   2.630234e-03   2.630615e-03   2.630424e-03   1.931725e-05\n",
      "  20   2.630234e-03   2.630424e-03   2.630329e-03   5.367806e-06\n",
      "  21   2.630234e-03   2.630329e-03   2.630281e-03  -1.606978e-06\n"
     ]
    }
   ],
   "source": [
    "# run Bisection\n",
    "a, b, x, ithist, iflag = bisection(f, 0, 0.2, tolf = 1.e-7)\n",
    "print(f' Bisection method returned with iflag = {iflag:1d}')\n",
    "print(' iter       a             b             c           f(c) ')\n",
    "for i in np.arange(ithist.shape[0]):\n",
    "    print(f' {ithist[i,0]:3.0f}  {ithist[i,1]:13.6e}  {ithist[i,2]:13.6e}  {ithist[i,3]:13.6e}  {ithist[i,4]:13.6e}')\n"
   ]
  },
  {
   "cell_type": "markdown",
   "id": "64ef79b8",
   "metadata": {},
   "source": [
    "The approximate depth is 2.630281 * 10^-3 meter."
   ]
  },
  {
   "cell_type": "markdown",
   "id": "4bd68298",
   "metadata": {},
   "source": [
    "(c)"
   ]
  },
  {
   "cell_type": "code",
   "execution_count": 104,
   "id": "4087e6ea",
   "metadata": {},
   "outputs": [],
   "source": [
    "# Regular Falsi\n",
    "def regulafalsi(f, a, b, tolx = 1.e-7, tolf = 1.e-7, maxit = 100 ): \n",
    "    '''Approximate solution of f(x)=0 on interval [a,b] by Regula Falsi.\n",
    "    \n",
    "    Parameters\n",
    "    ----------\n",
    "    f : function\n",
    "        Function for which we wan to to find a root.\n",
    "        The call f(x)  should return the value or the value, derivative\n",
    "    a,b : numbers\n",
    "        Interval in which to search for a solution. bisection returns\n",
    "        None if f(a)*f(b) >= 0 since a solution is not guaranteed.\n",
    "    tolx : number (optional, default = 1.e-7)\n",
    "        Algorithm stops when | a - b | < tolx\n",
    "    tolf : number (optional, default = 1.e-7)\n",
    "        Algorithm stops when | f(0.5*(a+b)) | < tolf\n",
    "    maxit: integer (optional, default = 100)\n",
    "        maximjm number of iterations\n",
    "        \n",
    "\n",
    "    Returns\n",
    "    -------\n",
    "    a,b : numbers\n",
    "        f(a)*f(b) < 0; a root of f is located in (a, b)\n",
    "    x : numbers\n",
    "        0.5*(a+b) approximation of the root.\n",
    "    ithist : np.array \n",
    "        iteration history; i-th row of ithist contains [it, a, b, c, fc]\n",
    "    ifag : integer\n",
    "        return flag\n",
    "        iflag = 0   if |b-a| <= tolx, or   | f(x) | <= tolf\n",
    "        iflag =  1  iteration terminated because maximum number of\n",
    "                    iterations was reached. |b-a| > tolx, |f(x)| > tolf\n",
    "\n",
    "\n",
    "    Matthias Heinkenschloss\n",
    "    Department of Computational and Applied Mathematics\n",
    "    Rice University\n",
    "    August 29, 2021\n",
    "    '''\n",
    "    \n",
    "    if b < a :\n",
    "        t = a\n",
    "        a = b\n",
    "        b = t\n",
    "    \n",
    "    fa = f(a)\n",
    "    fb = f(b)\n",
    "    if( isinstance(fa, tuple) ):\n",
    "        fa = fa[0]\n",
    "    if( isinstance(fb, tuple) ):\n",
    "        fb = fb[0]\n",
    "        \n",
    "    # check if a and b bound a root\n",
    "    if fa*fb >= 0 :\n",
    "        raise Exception(\n",
    "         \"The scalars a and b do not bound a root\")\n",
    "    \n",
    "    it    = 0\n",
    "    iflag = 0\n",
    "    c = a - fa * (b-a)/(fb-fa)\n",
    "    fc = f(c)\n",
    "    if( isinstance(fc, tuple) ):\n",
    "        fc = fc[0]\n",
    "    ithist = np.array([it, a, b, c, fc])\n",
    "\n",
    "    while( it < maxit and abs(b-a) > tolx and abs(fc) > tolf ):\n",
    "        it = it+1;\n",
    "        if fa*fc < 0 :\n",
    "            b = c\n",
    "            fb = fc\n",
    "        else:\n",
    "            a = c\n",
    "            fa = fc\n",
    "\n",
    "        c = a - fa * (b-a)/(fb-fa)\n",
    "        fc = f(c)\n",
    "        if( isinstance(fc, tuple) ):\n",
    "            fc = fc[0]\n",
    "            \n",
    "        ithist = np.vstack((ithist, np.array([it, a, b, c, fc]) ))\n",
    "\n",
    "    # check why the bisection method truncated and set iflag\n",
    "    if abs(b-a) > tolx and abs(fc) > tolf :\n",
    "        # bisection method truncated because maximum number of iterations reached\n",
    "        iflag = 1\n",
    "    \n",
    "    return a, b, c, ithist, iflag\n",
    "    \n",
    " "
   ]
  },
  {
   "cell_type": "code",
   "execution_count": 105,
   "id": "93cf81a9",
   "metadata": {},
   "outputs": [
    {
     "name": "stdout",
     "output_type": "stream",
     "text": [
      " Regula Falsi returned with iflag = 0\n",
      " iter       a             b             c           f(c) \n",
      "   0   0.000000e+00   2.000000e-01   8.571429e-02   5.714286e-01\n",
      "   1   0.000000e+00   8.571429e-02   3.673469e-02   5.714286e-01\n",
      "   2   0.000000e+00   3.673469e-02   1.574344e-02   5.707231e-01\n",
      "   3   0.000000e+00   1.574344e-02   6.751952e-03   4.251462e-01\n",
      "   4   0.000000e+00   6.751952e-03   3.389521e-03   1.056158e-01\n",
      "   5   0.000000e+00   3.389521e-03   2.719368e-03   1.295813e-02\n",
      "   6   0.000000e+00   2.719368e-03   2.639560e-03   1.354774e-03\n",
      "   7   0.000000e+00   2.639560e-03   2.631242e-03   1.388812e-04\n",
      "   8   0.000000e+00   2.631242e-03   2.630390e-03   1.420774e-05\n",
      "   9   0.000000e+00   2.630390e-03   2.630302e-03   1.453166e-06\n",
      "  10   0.000000e+00   2.630302e-03   2.630293e-03   1.486264e-07\n",
      "  11   0.000000e+00   2.630293e-03   2.630293e-03   1.520112e-08\n"
     ]
    }
   ],
   "source": [
    "# run Regula Falsi\n",
    "a, b, x, ithist, iflag = regulafalsi(f, 0, 0.2, tolf = 1.e-7)\n",
    "print(f' Regula Falsi returned with iflag = {iflag:1d}')\n",
    "print(' iter       a             b             c           f(c) ')\n",
    "for i in np.arange(ithist.shape[0]):\n",
    "    print(f' {ithist[i,0]:3.0f}  {ithist[i,1]:13.6e}  {ithist[i,2]:13.6e}  {ithist[i,3]:13.6e}  {ithist[i,4]:13.6e}')\n",
    "\n"
   ]
  },
  {
   "cell_type": "markdown",
   "id": "c1ab1c0b",
   "metadata": {},
   "source": [
    "The approximate depth is 2.630293 * 10^-3."
   ]
  }
 ],
 "metadata": {
  "kernelspec": {
   "display_name": "Python 3",
   "language": "python",
   "name": "python3"
  },
  "language_info": {
   "codemirror_mode": {
    "name": "ipython",
    "version": 3
   },
   "file_extension": ".py",
   "mimetype": "text/x-python",
   "name": "python",
   "nbconvert_exporter": "python",
   "pygments_lexer": "ipython3",
   "version": "3.8.8"
  }
 },
 "nbformat": 4,
 "nbformat_minor": 5
}
