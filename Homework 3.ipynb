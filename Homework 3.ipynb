{
 "cells": [
  {
   "cell_type": "markdown",
   "id": "3049bcdb",
   "metadata": {},
   "source": [
    "Question 3 (b)"
   ]
  },
  {
   "cell_type": "code",
   "execution_count": 2,
   "id": "86978f79",
   "metadata": {},
   "outputs": [],
   "source": [
    "import pprint\n",
    "import scipy\n",
    "import scipy.linalg\n",
    "import math\n",
    "import numpy as np"
   ]
  },
  {
   "cell_type": "code",
   "execution_count": 3,
   "id": "df1b72ad",
   "metadata": {},
   "outputs": [],
   "source": [
    "A = np.array([[1, 2, 3], [-1, 2, 1], [0, 1, 1]])  \n",
    "Q, R = scipy.linalg.qr(A)"
   ]
  },
  {
   "cell_type": "code",
   "execution_count": 4,
   "id": "a1acaf7c",
   "metadata": {},
   "outputs": [
    {
     "name": "stdout",
     "output_type": "stream",
     "text": [
      "A:\n",
      "[[ 1  2  3]\n",
      " [-1  2  1]\n",
      " [ 0  1  1]]\n",
      "Q:\n",
      "[[-0.70710678 -0.66666667 -0.23570226]\n",
      " [ 0.70710678 -0.66666667 -0.23570226]\n",
      " [-0.         -0.33333333  0.94280904]]\n",
      "R:\n",
      "[[-1.41421356e+00  6.66133815e-16 -1.41421356e+00]\n",
      " [ 0.00000000e+00 -3.00000000e+00 -3.00000000e+00]\n",
      " [ 0.00000000e+00  0.00000000e+00 -1.14863726e-16]]\n"
     ]
    }
   ],
   "source": [
    "print( \"A:\")\n",
    "print(A)\n",
    "\n",
    "print (\"Q:\")\n",
    "print(Q)\n",
    "\n",
    "print (\"R:\")\n",
    "print(R)"
   ]
  },
  {
   "cell_type": "markdown",
   "id": "18177934",
   "metadata": {},
   "source": [
    "Question 4"
   ]
  },
  {
   "cell_type": "code",
   "execution_count": 8,
   "id": "c1cdc613",
   "metadata": {},
   "outputs": [],
   "source": [
    "def matrix_conv(A):\n",
    "    A_i = A                             #initialize A_i to be the input matrix A\n",
    "    for i in range(500):                #iterate 500 times\n",
    "        Q_i, R_i = scipy.linalg.qr(A_i) #QR decomposition to get Q, R matrix\n",
    "        A_i = np.dot(R_i, Q_i)          #R * Q to get the new A_i\n",
    "     \n",
    "    A_j = A                             #same process but iterate 5000 times\n",
    "    for j in range(4999):\n",
    "        Q_j, R_j = scipy.linalg.qr(A_j)\n",
    "        A_j = np.dot(R_j, Q_j)\n",
    "    print(A_i)\n",
    "    print(A_j)"
   ]
  },
  {
   "cell_type": "code",
   "execution_count": 9,
   "id": "02d1c8d2",
   "metadata": {},
   "outputs": [
    {
     "name": "stdout",
     "output_type": "stream",
     "text": [
      "[[-9  8  3  4]\n",
      " [ 8  7 -6  5]\n",
      " [ 3 -6  1 -2]\n",
      " [ 4  5 -2 10]]\n"
     ]
    }
   ],
   "source": [
    "B = np.array([[-9, 8, 3, 4], [8, 7, -6, 5], [3, -6, 1, -2], [4, 5, -2, 10]])   # 4*4 symmetric matrix with real eigenvalues"
   ]
  },
  {
   "cell_type": "code",
   "execution_count": 10,
   "id": "4f2f217c",
   "metadata": {},
   "outputs": [
    {
     "name": "stdout",
     "output_type": "stream",
     "text": [
      "[[ 1.75711389e+001  2.03065361e-014 -3.85843251e-015  9.28506206e-016]\n",
      " [ 9.21977041e-044 -1.42794741e+001 -7.60375278e-016 -1.39699037e-015]\n",
      " [-3.81273605e-268  7.87718475e-224  5.09683914e+000 -1.10594660e-015]\n",
      " [ 0.00000000e+000  0.00000000e+000  0.00000000e+000  6.11496112e-001]]\n",
      "[[ 1.75711389e+001  2.03065361e-014  3.85843251e-015 -9.28506206e-016]\n",
      " [-2.81617418e-322 -1.42794741e+001  7.60375278e-016  1.39699037e-015]\n",
      " [ 0.00000000e+000  0.00000000e+000  5.09683914e+000 -1.10594660e-015]\n",
      " [ 0.00000000e+000  0.00000000e+000  0.00000000e+000  6.11496112e-001]]\n"
     ]
    }
   ],
   "source": [
    "matrix_conv(B)   # The matrix converges to a diagonal matrix as the iteration rounds increase"
   ]
  },
  {
   "cell_type": "code",
   "execution_count": 11,
   "id": "4662802e",
   "metadata": {},
   "outputs": [],
   "source": [
    "C = np.array([[1, 2, 3],[2, 1, 4], [3, 4, 2]])    # 3*3 symmetric matrix with real eigenvalues"
   ]
  },
  {
   "cell_type": "code",
   "execution_count": 12,
   "id": "af15b50e",
   "metadata": {},
   "outputs": [
    {
     "name": "stdout",
     "output_type": "stream",
     "text": [
      "[[ 7.50147445e+000  6.11130172e-016 -2.07567916e-015]\n",
      " [-1.89441043e-226 -2.64452674e+000 -2.18791791e-016]\n",
      " [ 0.00000000e+000  1.33759916e-244 -8.56947714e-001]]\n",
      "[[ 7.50147445e+00  6.11130172e-16  2.07567916e-15]\n",
      " [ 0.00000000e+00 -2.64452674e+00  2.18791791e-16]\n",
      " [ 0.00000000e+00  0.00000000e+00 -8.56947714e-01]]\n"
     ]
    }
   ],
   "source": [
    "matrix_conv(C)     # The matrix converges to a diagonal matrix as the iteration rounds increase "
   ]
  },
  {
   "cell_type": "code",
   "execution_count": 14,
   "id": "c710c8cf",
   "metadata": {},
   "outputs": [],
   "source": [
    "D = np.array([[2, 0, 0], [0, 2, 3], [0, -3, 2]])   # 3*3 matrix with complex eigenvalues"
   ]
  },
  {
   "cell_type": "code",
   "execution_count": 15,
   "id": "02bcdfde",
   "metadata": {},
   "outputs": [
    {
     "name": "stdout",
     "output_type": "stream",
     "text": [
      "[[ 2.  0.  0.]\n",
      " [ 0.  2.  3.]\n",
      " [ 0. -3.  2.]]\n",
      "[[ 2.  0.  0.]\n",
      " [ 0.  2. -3.]\n",
      " [ 0.  3.  2.]]\n"
     ]
    }
   ],
   "source": [
    "matrix_conv(D)    # The matrix does not converge at all! The outcome is still the same as the original matrix"
   ]
  },
  {
   "cell_type": "code",
   "execution_count": 17,
   "id": "5bb2e4d2",
   "metadata": {},
   "outputs": [],
   "source": [
    "E = np.array([[-1, 0, 0, 0], [0, 2, 0, 0], [0, 0, -4, 2], [0, 0, -2, -4]])  # 4*4 matrix with complex eigenvalues"
   ]
  },
  {
   "cell_type": "code",
   "execution_count": 18,
   "id": "6d94a55e",
   "metadata": {},
   "outputs": [
    {
     "name": "stdout",
     "output_type": "stream",
     "text": [
      "[[-1.  0.  0.  0.]\n",
      " [ 0.  2.  0.  0.]\n",
      " [ 0.  0. -4.  2.]\n",
      " [ 0.  0. -2. -4.]]\n",
      "[[-1.  0.  0.  0.]\n",
      " [ 0.  2.  0.  0.]\n",
      " [ 0.  0. -4. -2.]\n",
      " [ 0.  0.  2. -4.]]\n"
     ]
    }
   ],
   "source": [
    "matrix_conv(E)   # The matrix does not converge at all! The outcome is still the same as the original matrix"
   ]
  },
  {
   "cell_type": "code",
   "execution_count": null,
   "id": "1ff78a8a",
   "metadata": {},
   "outputs": [],
   "source": []
  }
 ],
 "metadata": {
  "kernelspec": {
   "display_name": "Python 3",
   "language": "python",
   "name": "python3"
  },
  "language_info": {
   "codemirror_mode": {
    "name": "ipython",
    "version": 3
   },
   "file_extension": ".py",
   "mimetype": "text/x-python",
   "name": "python",
   "nbconvert_exporter": "python",
   "pygments_lexer": "ipython3",
   "version": "3.8.8"
  }
 },
 "nbformat": 4,
 "nbformat_minor": 5
}
